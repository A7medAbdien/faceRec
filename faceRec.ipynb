{
 "cells": [
  {
   "cell_type": "markdown",
   "metadata": {
    "id": "zv3-hH5AdGEl"
   },
   "source": [
    "## Things do not understand\n",
    "\n",
    "1. sequential API vs functional API\n",
    "2. Siamese Neural Network\n",
    "3. convolution neural network\n",
    "4. Memory growth of GPU \n",
    "5. virtual environment\n",
    "6. Scaling\n",
    "7. data.cache()\n",
    "8. train_data.prefetch(8)\n",
    "9. redundant naming\n",
    "10. create a trianing model"
   ]
  },
  {
   "cell_type": "markdown",
   "metadata": {
    "id": "RwmJf0ADAQYv"
   },
   "source": [
    "## New things\n",
    "\n",
    "1. checking my GPU\n",
    "2. moving files\n",
    "3. cv2\n",
    "4. each python version works with TF version\n",
    "5. using tf.data.Dataset\n",
    "6. zip and *\n",
    "7. tf.data.Dataset.from_tensor_slices"
   ]
  },
  {
   "cell_type": "markdown",
   "metadata": {
    "id": "sB9R7siNUM_R"
   },
   "source": [
    "# 1. Setup"
   ]
  },
  {
   "cell_type": "markdown",
   "metadata": {
    "id": "ya3cbzf7UQ7j"
   },
   "source": [
    "## 1.1 Install Dependencies"
   ]
  },
  {
   "cell_type": "code",
   "execution_count": 1,
   "metadata": {
    "colab": {
     "base_uri": "https://localhost:8080/",
     "height": 1000
    },
    "id": "FL504KSPS-rT",
    "outputId": "28516073-0884-4e9c-976e-42f4f428ed48"
   },
   "outputs": [
    {
     "name": "stdout",
     "output_type": "stream",
     "text": [
      "Collecting tensorflow==2.4.1\n",
      "  Using cached tensorflow-2.4.1-cp38-cp38-win_amd64.whl (370.7 MB)\n",
      "Requirement already satisfied: tensorflow-gpu==2.4.1 in c:\\users\\bashr\\appdata\\local\\programs\\python\\python38\\lib\\site-packages (2.4.1)\n",
      "Requirement already satisfied: opencv-python in c:\\users\\bashr\\appdata\\local\\programs\\python\\python38\\lib\\site-packages (4.6.0.66)\n",
      "Requirement already satisfied: matplotlib in c:\\users\\bashr\\appdata\\local\\programs\\python\\python38\\lib\\site-packages (3.6.0)\n",
      "Requirement already satisfied: opt-einsum~=3.3.0 in c:\\users\\bashr\\appdata\\local\\programs\\python\\python38\\lib\\site-packages (from tensorflow==2.4.1) (3.3.0)\n",
      "Requirement already satisfied: absl-py~=0.10 in c:\\users\\bashr\\appdata\\local\\programs\\python\\python38\\lib\\site-packages (from tensorflow==2.4.1) (0.15.0)\n",
      "Requirement already satisfied: wrapt~=1.12.1 in c:\\users\\bashr\\appdata\\local\\programs\\python\\python38\\lib\\site-packages (from tensorflow==2.4.1) (1.12.1)\n",
      "Requirement already satisfied: gast==0.3.3 in c:\\users\\bashr\\appdata\\local\\programs\\python\\python38\\lib\\site-packages (from tensorflow==2.4.1) (0.3.3)\n",
      "Requirement already satisfied: grpcio~=1.32.0 in c:\\users\\bashr\\appdata\\local\\programs\\python\\python38\\lib\\site-packages (from tensorflow==2.4.1) (1.32.0)\n",
      "Requirement already satisfied: h5py~=2.10.0 in c:\\users\\bashr\\appdata\\local\\programs\\python\\python38\\lib\\site-packages (from tensorflow==2.4.1) (2.10.0)\n",
      "Requirement already satisfied: termcolor~=1.1.0 in c:\\users\\bashr\\appdata\\local\\programs\\python\\python38\\lib\\site-packages (from tensorflow==2.4.1) (1.1.0)\n",
      "Requirement already satisfied: tensorflow-estimator<2.5.0,>=2.4.0 in c:\\users\\bashr\\appdata\\local\\programs\\python\\python38\\lib\\site-packages (from tensorflow==2.4.1) (2.4.0)\n",
      "Requirement already satisfied: numpy~=1.19.2 in c:\\users\\bashr\\appdata\\local\\programs\\python\\python38\\lib\\site-packages (from tensorflow==2.4.1) (1.19.5)\n",
      "Requirement already satisfied: astunparse~=1.6.3 in c:\\users\\bashr\\appdata\\local\\programs\\python\\python38\\lib\\site-packages (from tensorflow==2.4.1) (1.6.3)\n",
      "Requirement already satisfied: keras-preprocessing~=1.1.2 in c:\\users\\bashr\\appdata\\local\\programs\\python\\python38\\lib\\site-packages (from tensorflow==2.4.1) (1.1.2)\n",
      "Requirement already satisfied: wheel~=0.35 in c:\\users\\bashr\\appdata\\local\\programs\\python\\python38\\lib\\site-packages (from tensorflow==2.4.1) (0.37.1)\n",
      "Requirement already satisfied: protobuf>=3.9.2 in c:\\users\\bashr\\appdata\\local\\programs\\python\\python38\\lib\\site-packages (from tensorflow==2.4.1) (3.19.5)\n",
      "Requirement already satisfied: six~=1.15.0 in c:\\users\\bashr\\appdata\\local\\programs\\python\\python38\\lib\\site-packages (from tensorflow==2.4.1) (1.15.0)\n",
      "Requirement already satisfied: flatbuffers~=1.12.0 in c:\\users\\bashr\\appdata\\local\\programs\\python\\python38\\lib\\site-packages (from tensorflow==2.4.1) (1.12)\n",
      "Requirement already satisfied: tensorboard~=2.4 in c:\\users\\bashr\\appdata\\local\\programs\\python\\python38\\lib\\site-packages (from tensorflow==2.4.1) (2.10.0)\n",
      "Requirement already satisfied: typing-extensions~=3.7.4 in c:\\users\\bashr\\appdata\\local\\programs\\python\\python38\\lib\\site-packages (from tensorflow==2.4.1) (3.7.4.3)\n",
      "Requirement already satisfied: google-pasta~=0.2 in c:\\users\\bashr\\appdata\\local\\programs\\python\\python38\\lib\\site-packages (from tensorflow==2.4.1) (0.2.0)\n",
      "Requirement already satisfied: contourpy>=1.0.1 in c:\\users\\bashr\\appdata\\local\\programs\\python\\python38\\lib\\site-packages (from matplotlib) (1.0.5)\n",
      "Requirement already satisfied: pyparsing>=2.2.1 in c:\\users\\bashr\\appdata\\local\\programs\\python\\python38\\lib\\site-packages (from matplotlib) (3.0.9)\n",
      "Requirement already satisfied: fonttools>=4.22.0 in c:\\users\\bashr\\appdata\\local\\programs\\python\\python38\\lib\\site-packages (from matplotlib) (4.37.3)\n",
      "Requirement already satisfied: python-dateutil>=2.7 in c:\\users\\bashr\\appdata\\local\\programs\\python\\python38\\lib\\site-packages (from matplotlib) (2.8.2)\n",
      "Requirement already satisfied: kiwisolver>=1.0.1 in c:\\users\\bashr\\appdata\\local\\programs\\python\\python38\\lib\\site-packages (from matplotlib) (1.4.4)\n",
      "Requirement already satisfied: packaging>=20.0 in c:\\users\\bashr\\appdata\\local\\programs\\python\\python38\\lib\\site-packages (from matplotlib) (21.3)\n",
      "Requirement already satisfied: pillow>=6.2.0 in c:\\users\\bashr\\appdata\\local\\programs\\python\\python38\\lib\\site-packages (from matplotlib) (9.0.1)\n",
      "Requirement already satisfied: cycler>=0.10 in c:\\users\\bashr\\appdata\\local\\programs\\python\\python38\\lib\\site-packages (from matplotlib) (0.11.0)\n",
      "Requirement already satisfied: tensorboard-data-server<0.7.0,>=0.6.0 in c:\\users\\bashr\\appdata\\local\\programs\\python\\python38\\lib\\site-packages (from tensorboard~=2.4->tensorflow==2.4.1) (0.6.1)\n",
      "Requirement already satisfied: requests<3,>=2.21.0 in c:\\users\\bashr\\appdata\\local\\programs\\python\\python38\\lib\\site-packages (from tensorboard~=2.4->tensorflow==2.4.1) (2.25.1)\n",
      "Requirement already satisfied: tensorboard-plugin-wit>=1.6.0 in c:\\users\\bashr\\appdata\\local\\programs\\python\\python38\\lib\\site-packages (from tensorboard~=2.4->tensorflow==2.4.1) (1.8.1)\n",
      "Requirement already satisfied: werkzeug>=1.0.1 in c:\\users\\bashr\\appdata\\local\\programs\\python\\python38\\lib\\site-packages (from tensorboard~=2.4->tensorflow==2.4.1) (2.2.2)\n",
      "Requirement already satisfied: setuptools>=41.0.0 in c:\\users\\bashr\\appdata\\local\\programs\\python\\python38\\lib\\site-packages (from tensorboard~=2.4->tensorflow==2.4.1) (56.0.0)\n",
      "Requirement already satisfied: google-auth-oauthlib<0.5,>=0.4.1 in c:\\users\\bashr\\appdata\\local\\programs\\python\\python38\\lib\\site-packages (from tensorboard~=2.4->tensorflow==2.4.1) (0.4.6)\n",
      "Requirement already satisfied: google-auth<3,>=1.6.3 in c:\\users\\bashr\\appdata\\local\\programs\\python\\python38\\lib\\site-packages (from tensorboard~=2.4->tensorflow==2.4.1) (2.11.1)\n",
      "Requirement already satisfied: markdown>=2.6.8 in c:\\users\\bashr\\appdata\\local\\programs\\python\\python38\\lib\\site-packages (from tensorboard~=2.4->tensorflow==2.4.1) (3.4.1)\n",
      "Requirement already satisfied: cachetools<6.0,>=2.0.0 in c:\\users\\bashr\\appdata\\local\\programs\\python\\python38\\lib\\site-packages (from google-auth<3,>=1.6.3->tensorboard~=2.4->tensorflow==2.4.1) (5.2.0)\n",
      "Requirement already satisfied: rsa<5,>=3.1.4 in c:\\users\\bashr\\appdata\\local\\programs\\python\\python38\\lib\\site-packages (from google-auth<3,>=1.6.3->tensorboard~=2.4->tensorflow==2.4.1) (4.9)\n",
      "Requirement already satisfied: pyasn1-modules>=0.2.1 in c:\\users\\bashr\\appdata\\local\\programs\\python\\python38\\lib\\site-packages (from google-auth<3,>=1.6.3->tensorboard~=2.4->tensorflow==2.4.1) (0.2.8)\n",
      "Requirement already satisfied: requests-oauthlib>=0.7.0 in c:\\users\\bashr\\appdata\\local\\programs\\python\\python38\\lib\\site-packages (from google-auth-oauthlib<0.5,>=0.4.1->tensorboard~=2.4->tensorflow==2.4.1) (1.3.1)\n",
      "Requirement already satisfied: importlib-metadata>=4.4 in c:\\users\\bashr\\appdata\\local\\programs\\python\\python38\\lib\\site-packages (from markdown>=2.6.8->tensorboard~=2.4->tensorflow==2.4.1) (4.12.0)\n",
      "Requirement already satisfied: urllib3<1.27,>=1.21.1 in c:\\users\\bashr\\appdata\\local\\programs\\python\\python38\\lib\\site-packages (from requests<3,>=2.21.0->tensorboard~=2.4->tensorflow==2.4.1) (1.26.5)\n",
      "Requirement already satisfied: certifi>=2017.4.17 in c:\\users\\bashr\\appdata\\local\\programs\\python\\python38\\lib\\site-packages (from requests<3,>=2.21.0->tensorboard~=2.4->tensorflow==2.4.1) (2022.6.15)\n",
      "Requirement already satisfied: idna<3,>=2.5 in c:\\users\\bashr\\appdata\\local\\programs\\python\\python38\\lib\\site-packages (from requests<3,>=2.21.0->tensorboard~=2.4->tensorflow==2.4.1) (2.8)\n",
      "Requirement already satisfied: chardet<5,>=3.0.2 in c:\\users\\bashr\\appdata\\local\\programs\\python\\python38\\lib\\site-packages (from requests<3,>=2.21.0->tensorboard~=2.4->tensorflow==2.4.1) (3.0.4)\n",
      "Requirement already satisfied: MarkupSafe>=2.1.1 in c:\\users\\bashr\\appdata\\local\\programs\\python\\python38\\lib\\site-packages (from werkzeug>=1.0.1->tensorboard~=2.4->tensorflow==2.4.1) (2.1.1)\n",
      "Requirement already satisfied: zipp>=0.5 in c:\\users\\bashr\\appdata\\local\\programs\\python\\python38\\lib\\site-packages (from importlib-metadata>=4.4->markdown>=2.6.8->tensorboard~=2.4->tensorflow==2.4.1) (3.8.1)\n",
      "Requirement already satisfied: pyasn1<0.5.0,>=0.4.6 in c:\\users\\bashr\\appdata\\local\\programs\\python\\python38\\lib\\site-packages (from pyasn1-modules>=0.2.1->google-auth<3,>=1.6.3->tensorboard~=2.4->tensorflow==2.4.1) (0.4.8)\n",
      "Requirement already satisfied: oauthlib>=3.0.0 in c:\\users\\bashr\\appdata\\local\\programs\\python\\python38\\lib\\site-packages (from requests-oauthlib>=0.7.0->google-auth-oauthlib<0.5,>=0.4.1->tensorboard~=2.4->tensorflow==2.4.1) (3.2.1)\n",
      "Installing collected packages: tensorflow\n",
      "Successfully installed tensorflow-2.4.1\n",
      "\n",
      "[notice] A new release of pip available: 22.1.2 -> 22.2.2\n",
      "[notice] To update, run: python.exe -m pip install --upgrade pip\n",
      "Note: you may need to restart the kernel to use updated packages.\n"
     ]
    }
   ],
   "source": [
    "%pip install tensorflow==2.4.1 tensorflow-gpu==2.4.1 opencv-python matplotlib"
   ]
  },
  {
   "cell_type": "markdown",
   "metadata": {
    "id": "qyHxzU7iVNm6"
   },
   "source": [
    "## 1.2 import dependencies"
   ]
  },
  {
   "cell_type": "markdown",
   "metadata": {
    "id": "Xi5eLrhQbjfL"
   },
   "source": [
    "Standerd dependancies"
   ]
  },
  {
   "cell_type": "code",
   "execution_count": 3,
   "metadata": {
    "id": "9SdIxclrVSeP"
   },
   "outputs": [],
   "source": [
    "# opencv will give us image process capabilities, and we needs it for testing\n",
    "import cv2\n",
    "# it abstact the OS from our python code! makes it a whole heap, and easier to work with different directories and different file paths\n",
    "import os\n",
    "# ganerate random data\n",
    "import random\n",
    "# great when working with arrays\n",
    "import numpy as np\n",
    "# visualization\n",
    "from matplotlib import pyplot as plt"
   ]
  },
  {
   "cell_type": "markdown",
   "metadata": {
    "id": "IyNGJ7EEbohj"
   },
   "source": [
    "### Transorflow Ddpendencies\n",
    "\n",
    "there is a sequintial API, and functional API. fancional API, usefull for hardcore deep learning models\n"
   ]
  },
  {
   "cell_type": "code",
   "execution_count": 4,
   "metadata": {
    "id": "Hl9z_heUbuoI"
   },
   "outputs": [],
   "source": [
    "from tensorflow.keras.models import Model\n",
    "from tensorflow.keras.layers import Layer, Conv2D, Dense, MaxPooling2D, Input, Flatten\n",
    "import tensorflow as tf"
   ]
  },
  {
   "cell_type": "markdown",
   "metadata": {
    "id": "Y8Dx9oVSe5HA"
   },
   "source": [
    "Model: Model(inputs=[inputimage, verificationimage], outputs=[0,1])\n",
    "\n",
    "Layer: high level class, allows to define a cusom layer, class L1Dist(Layer)\n",
    "\n",
    "Conv2v: allow convolution, convolutional nural newtwork\n",
    "\n",
    "Dense: give us fully connected layer\n",
    "\n",
    "MaxPooling: shrinks the information \n",
    "\n",
    "Input: Input(shape=)\n",
    "\n",
    "flatten: flatten the data into a single dimension layer, allows to pass the convolutional neural network data to dense layer"
   ]
  },
  {
   "cell_type": "markdown",
   "metadata": {
    "id": "FMtQ_W89g9rb"
   },
   "source": [
    "## 1.3 Set GPU Growth"
   ]
  },
  {
   "cell_type": "markdown",
   "metadata": {},
   "source": [
    "limits how much vram tensorflow can use, don't let TF to go crazy"
   ]
  },
  {
   "cell_type": "code",
   "execution_count": 5,
   "metadata": {
    "id": "2Nf_6AyGePEP"
   },
   "outputs": [],
   "source": [
    "# avoind OOM errors by setting GPU Memory Consumption Growth\n",
    "# giting all available GPUs on our machien\n",
    "gpus = tf.config.experimental.list_physical_devices('GPU')\n",
    "for gpu in gpus:\n",
    "    tf.config.experimental.set_memory_growth(gpu,True)"
   ]
  },
  {
   "cell_type": "code",
   "execution_count": 6,
   "metadata": {
    "colab": {
     "base_uri": "https://localhost:8080/"
    },
    "id": "huFIL_LtiUXM",
    "outputId": "c2f3d6d5-e04a-427e-95e3-8f0d1a6144d0"
   },
   "outputs": [
    {
     "data": {
      "text/plain": [
       "1"
      ]
     },
     "execution_count": 6,
     "metadata": {},
     "output_type": "execute_result"
    }
   ],
   "source": [
    "len(gpus)"
   ]
  },
  {
   "cell_type": "markdown",
   "metadata": {
    "id": "xusHx8Hskgf0"
   },
   "source": [
    "## 1.4 Create folder Structures"
   ]
  },
  {
   "cell_type": "markdown",
   "metadata": {},
   "source": [
    "Anchor: Unknown Input\n",
    "\n",
    "Positive: What should match\n",
    "\n",
    "Negative: What should not match"
   ]
  },
  {
   "cell_type": "code",
   "execution_count": 7,
   "metadata": {
    "id": "52CKdJqNkf28"
   },
   "outputs": [],
   "source": [
    "# Setup paths\n",
    "POS_PATH = os.path.join('data', 'positive')\n",
    "NEG_PATH = os.path.join('data', 'negative')\n",
    "ANC_PATH = os.path.join('data', 'anchoer')"
   ]
  },
  {
   "cell_type": "code",
   "execution_count": 8,
   "metadata": {
    "id": "BGAdq8eTmQ9w"
   },
   "outputs": [
    {
     "ename": "FileExistsError",
     "evalue": "[WinError 183] Cannot create a file when that file already exists: 'data\\\\positive'",
     "output_type": "error",
     "traceback": [
      "\u001b[1;31m---------------------------------------------------------------------------\u001b[0m",
      "\u001b[1;31mFileExistsError\u001b[0m                           Traceback (most recent call last)",
      "Cell \u001b[1;32mIn [8], line 2\u001b[0m\n\u001b[0;32m      1\u001b[0m \u001b[38;5;66;03m# Mke the directories\u001b[39;00m\n\u001b[1;32m----> 2\u001b[0m \u001b[43mos\u001b[49m\u001b[38;5;241;43m.\u001b[39;49m\u001b[43mmakedirs\u001b[49m\u001b[43m(\u001b[49m\u001b[43mPOS_PATH\u001b[49m\u001b[43m)\u001b[49m\n\u001b[0;32m      3\u001b[0m os\u001b[38;5;241m.\u001b[39mmakedirs(NEG_PATH)\n\u001b[0;32m      4\u001b[0m os\u001b[38;5;241m.\u001b[39mmakedirs(ANC_PATH)\n",
      "File \u001b[1;32m~\\AppData\\Local\\Programs\\Python\\Python38\\lib\\os.py:223\u001b[0m, in \u001b[0;36mmakedirs\u001b[1;34m(name, mode, exist_ok)\u001b[0m\n\u001b[0;32m    221\u001b[0m         \u001b[39mreturn\u001b[39;00m\n\u001b[0;32m    222\u001b[0m \u001b[39mtry\u001b[39;00m:\n\u001b[1;32m--> 223\u001b[0m     mkdir(name, mode)\n\u001b[0;32m    224\u001b[0m \u001b[39mexcept\u001b[39;00m \u001b[39mOSError\u001b[39;00m:\n\u001b[0;32m    225\u001b[0m     \u001b[39m# Cannot rely on checking for EEXIST, since the operating system\u001b[39;00m\n\u001b[0;32m    226\u001b[0m     \u001b[39m# could give priority to other errors like EACCES or EROFS\u001b[39;00m\n\u001b[0;32m    227\u001b[0m     \u001b[39mif\u001b[39;00m \u001b[39mnot\u001b[39;00m exist_ok \u001b[39mor\u001b[39;00m \u001b[39mnot\u001b[39;00m path\u001b[39m.\u001b[39misdir(name):\n",
      "\u001b[1;31mFileExistsError\u001b[0m: [WinError 183] Cannot create a file when that file already exists: 'data\\\\positive'"
     ]
    }
   ],
   "source": [
    "# Mke the directories\n",
    "os.makedirs(POS_PATH)\n",
    "os.makedirs(NEG_PATH)\n",
    "os.makedirs(ANC_PATH)"
   ]
  },
  {
   "cell_type": "markdown",
   "metadata": {},
   "source": [
    "# 2. Collect positive and anchor data"
   ]
  },
  {
   "cell_type": "markdown",
   "metadata": {},
   "source": [
    "## 2.1 Untar the dataset, Collect Negative data"
   ]
  },
  {
   "cell_type": "code",
   "execution_count": 8,
   "metadata": {
    "colab": {
     "base_uri": "https://localhost:8080/"
    },
    "id": "TMplDjBwCDuC",
    "outputId": "386e5064-8238-4759-9837-8272e3a5c8cb"
   },
   "outputs": [],
   "source": [
    "# uncompress the database\n",
    "!tar -xf lfw.tgz"
   ]
  },
  {
   "cell_type": "code",
   "execution_count": 9,
   "metadata": {
    "id": "1pb7UluXClG8"
   },
   "outputs": [],
   "source": [
    "# move dataset to the negative directory\n",
    "\n",
    "for dir in os.listdir('lfw'):\n",
    "  for file in os.listdir(os.path.join('lfw', dir)):\n",
    "    EX_PATH = os.path.join('lfw', dir, file)\n",
    "    NEW_PATH = os.path.join(NEG_PATH, file)\n",
    "    os.replace(EX_PATH, NEW_PATH)"
   ]
  },
  {
   "cell_type": "markdown",
   "metadata": {
    "id": "slAqNDmj8bE3"
   },
   "source": [
    "## 2.2 Collect Positive and Anchor data"
   ]
  },
  {
   "cell_type": "markdown",
   "metadata": {},
   "source": [
    "That will be done using the openCV to access the camera "
   ]
  },
  {
   "cell_type": "code",
   "execution_count": 6,
   "metadata": {},
   "outputs": [],
   "source": [
    "# import uuid, universally unique identity identifier, to generate unique image names\n",
    "import uuid"
   ]
  },
  {
   "cell_type": "code",
   "execution_count": 8,
   "metadata": {
    "id": "SkLFaclh9BQo"
   },
   "outputs": [
    {
     "name": "stdout",
     "output_type": "stream",
     "text": [
      "True\n"
     ]
    },
    {
     "ename": "KeyboardInterrupt",
     "evalue": "",
     "output_type": "error",
     "traceback": [
      "\u001b[1;31m---------------------------------------------------------------------------\u001b[0m",
      "\u001b[1;31mKeyboardInterrupt\u001b[0m                         Traceback (most recent call last)",
      "Cell \u001b[1;32mIn [8], line 10\u001b[0m\n\u001b[0;32m      5\u001b[0m \u001b[38;5;28mprint\u001b[39m(cap\u001b[38;5;241m.\u001b[39misOpened())\n\u001b[0;32m      6\u001b[0m \u001b[38;5;28;01mwhile\u001b[39;00m cap\u001b[38;5;241m.\u001b[39misOpened():\n\u001b[0;32m      7\u001b[0m     \u001b[38;5;66;03m# unpack the result\u001b[39;00m\n\u001b[0;32m      8\u001b[0m     \u001b[38;5;66;03m# ret: returned value!\u001b[39;00m\n\u001b[0;32m      9\u001b[0m     \u001b[38;5;66;03m# frame: actual frame, the actual image\u001b[39;00m\n\u001b[1;32m---> 10\u001b[0m     ret, frame \u001b[38;5;241m=\u001b[39m \u001b[43mcap\u001b[49m\u001b[38;5;241;43m.\u001b[39;49m\u001b[43mread\u001b[49m\u001b[43m(\u001b[49m\u001b[43m)\u001b[49m\n\u001b[0;32m     12\u001b[0m     \u001b[38;5;66;03m# 2. Cut down frame to 250x250px\u001b[39;00m\n\u001b[0;32m     13\u001b[0m     frame \u001b[38;5;241m=\u001b[39m frame[\u001b[38;5;241m120\u001b[39m:\u001b[38;5;241m120\u001b[39m\u001b[38;5;241m+\u001b[39m\u001b[38;5;241m250\u001b[39m, \u001b[38;5;241m200\u001b[39m:\u001b[38;5;241m200\u001b[39m\u001b[38;5;241m+\u001b[39m\u001b[38;5;241m250\u001b[39m, :]\n",
      "\u001b[1;31mKeyboardInterrupt\u001b[0m: "
     ]
    },
    {
     "ename": "",
     "evalue": "",
     "output_type": "error",
     "traceback": [
      "\u001b[1;31mThe Kernel crashed while executing code in the the current cell or a previous cell. Please review the code in the cell(s) to identify a possible cause of the failure. Click <a href='https://aka.ms/vscodeJupyterKernelCrash'>here</a> for more info. View Jupyter <a href='command:jupyter.viewOutput'>log</a> for further details."
     ]
    }
   ],
   "source": [
    "# establish connection with webcam\n",
    "#0 for your primary camera and 1 for your secondary camera\n",
    "cap = cv2.VideoCapture(0)\n",
    "# loop on every frame in our webcam\n",
    "print(cap.isOpened())\n",
    "while cap.isOpened():\n",
    "    # unpack the result\n",
    "    # ret: returned value!\n",
    "    # frame: actual frame, the actual image\n",
    "    ret, frame = cap.read()\n",
    "\n",
    "    # 2. Cut down frame to 250x250px\n",
    "    frame = frame[120:120+250, 200:200+250, :]\n",
    "    \n",
    "    # 3. Collect anchor and positive\n",
    "    if cv2.waitKey(1) & 0xFF == ord('p'):\n",
    "        # Create image name\n",
    "        imgname = os.path.join(POS_PATH, '{}.jpg'.format(uuid.uuid1()))\n",
    "        # write out image\n",
    "        cv2.imwrite(imgname, frame)\n",
    "\n",
    "    if cv2.waitKey(1) & 0xFF == ord('a'):\n",
    "        # Create image name\n",
    "        imgname = os.path.join(ANC_PATH, '{}.jpg'.format(uuid.uuid1()))\n",
    "        # write out image\n",
    "        cv2.imwrite(imgname, frame)\n",
    "        \n",
    "    # to see what we doing, it shows the image back to the screen\n",
    "    # showing the feed from the webcam on the screen or inside cv2 frame\n",
    "    cv2.imshow('Image Collection', frame)\n",
    "\n",
    "    # Breaking gracefully\n",
    "    # waitKey(1): wait 1ms\n",
    "    # 0xFF == ord('q'): checking what key is being pressed,\n",
    "    # unpacking what is being pressed from our keyboard\n",
    "    if cv2.waitKey(1) & 0xFF == ord('q'):\n",
    "        break\n",
    "\n",
    "# release the webcam\n",
    "cap.release()\n",
    "# close the image show frame\n",
    "cv2.destroyAllWindows()"
   ]
  },
  {
   "cell_type": "code",
   "execution_count": 8,
   "metadata": {
    "id": "gkcZLSeFHVww"
   },
   "outputs": [
    {
     "ename": "NameError",
     "evalue": "name 'frame' is not defined",
     "output_type": "error",
     "traceback": [
      "\u001b[1;31m---------------------------------------------------------------------------\u001b[0m",
      "\u001b[1;31mNameError\u001b[0m                                 Traceback (most recent call last)",
      "Cell \u001b[1;32mIn [8], line 1\u001b[0m\n\u001b[1;32m----> 1\u001b[0m \u001b[43mframe\u001b[49m\u001b[38;5;241m.\u001b[39mshape\n",
      "\u001b[1;31mNameError\u001b[0m: name 'frame' is not defined"
     ]
    }
   ],
   "source": [
    "frame.shape "
   ]
  },
  {
   "cell_type": "code",
   "execution_count": 9,
   "metadata": {
    "collapsed": true
   },
   "outputs": [
    {
     "ename": "NameError",
     "evalue": "name 'frame' is not defined",
     "output_type": "error",
     "traceback": [
      "\u001b[1;31m---------------------------------------------------------------------------\u001b[0m",
      "\u001b[1;31mNameError\u001b[0m                                 Traceback (most recent call last)",
      "Cell \u001b[1;32mIn [9], line 2\u001b[0m\n\u001b[0;32m      1\u001b[0m \u001b[38;5;66;03m# frame[x, y, channels]\u001b[39;00m\n\u001b[1;32m----> 2\u001b[0m plt\u001b[38;5;241m.\u001b[39mimshow(\u001b[43mframe\u001b[49m[\u001b[38;5;241m120\u001b[39m:\u001b[38;5;241m120\u001b[39m\u001b[38;5;241m+\u001b[39m\u001b[38;5;241m250\u001b[39m, \u001b[38;5;241m200\u001b[39m:\u001b[38;5;241m200\u001b[39m\u001b[38;5;241m+\u001b[39m\u001b[38;5;241m250\u001b[39m, :])\n",
      "\u001b[1;31mNameError\u001b[0m: name 'frame' is not defined"
     ]
    }
   ],
   "source": [
    "# frame[x, y, channels]\n",
    "plt.imshow(frame[120:120+250, 200:200+250, :])"
   ]
  },
  {
   "cell_type": "code",
   "execution_count": 10,
   "metadata": {
    "colab": {
     "base_uri": "https://localhost:8080/",
     "height": 182
    },
    "collapsed": true,
    "id": "YBEiZPo_HK4L",
    "outputId": "198b8afe-57cd-40e7-f0e3-f2cfaac8202d"
   },
   "outputs": [
    {
     "ename": "NameError",
     "evalue": "name 'frame' is not defined",
     "output_type": "error",
     "traceback": [
      "\u001b[1;31m---------------------------------------------------------------------------\u001b[0m",
      "\u001b[1;31mNameError\u001b[0m                                 Traceback (most recent call last)",
      "Cell \u001b[1;32mIn [10], line 2\u001b[0m\n\u001b[0;32m      1\u001b[0m \u001b[38;5;66;03m# frame before cut, the color looks diffrent because openCV have a different channel order\u001b[39;00m\n\u001b[1;32m----> 2\u001b[0m plt\u001b[38;5;241m.\u001b[39mimshow(\u001b[43mframe\u001b[49m)\n",
      "\u001b[1;31mNameError\u001b[0m: name 'frame' is not defined"
     ]
    }
   ],
   "source": [
    "# frame before cut, the color looks diffrent because openCV have a different channel order\n",
    "plt.imshow(frame)"
   ]
  },
  {
   "cell_type": "markdown",
   "metadata": {},
   "source": [
    "# 3. Load and Preprocessing Images"
   ]
  },
  {
   "cell_type": "markdown",
   "metadata": {},
   "source": [
    "## 3.1 Get image directories"
   ]
  },
  {
   "cell_type": "code",
   "execution_count": 8,
   "metadata": {},
   "outputs": [],
   "source": [
    "\n",
    "# using a generator te be able to loop through specific directory\n",
    "# creates a set or pipeline for files in this directory\n",
    "# it loads the image path not the image itself\n",
    "anchor = tf.data.Dataset.list_files(ANC_PATH + '\\*.jpg').take(300)\n",
    "positive = tf.data.Dataset.list_files(POS_PATH + '\\*.jpg').take(300)\n",
    "negative = tf.data.Dataset.list_files(NEG_PATH + '\\*.jpg').take(300)"
   ]
  },
  {
   "cell_type": "code",
   "execution_count": 9,
   "metadata": {},
   "outputs": [
    {
     "data": {
      "text/plain": [
       "'data\\\\anchoer\\\\*.jpg'"
      ]
     },
     "execution_count": 9,
     "metadata": {},
     "output_type": "execute_result"
    }
   ],
   "source": [
    "ANC_PATH + '\\*.jpg'"
   ]
  },
  {
   "cell_type": "code",
   "execution_count": 10,
   "metadata": {},
   "outputs": [
    {
     "data": {
      "text/plain": [
       "b'data\\\\anchoer\\\\6a79efa1-3bb4-11ed-afa6-7c8ae18b9df3.jpg'"
      ]
     },
     "execution_count": 10,
     "metadata": {},
     "output_type": "execute_result"
    }
   ],
   "source": [
    "dir_test = anchor.as_numpy_iterator()\n",
    "dir_test.next()"
   ]
  },
  {
   "cell_type": "markdown",
   "metadata": {},
   "source": [
    "### How we gonna train:\n",
    "\n",
    "1. take a batch\n",
    "2. calculate error/lost\n",
    "3. calculate the gradients\n",
    "4. update wights by apply the uprated gradients\n",
    "\n",
    "this data pipeline or as_numpy_iterator allows us to this"
   ]
  },
  {
   "cell_type": "markdown",
   "metadata": {},
   "source": [
    "## 3.2 PreProcessing - Scale and Resize"
   ]
  },
  {
   "cell_type": "markdown",
   "metadata": {},
   "source": [
    "1. loads our images from directory\n",
    "2. resize it\n",
    "3. perform some scaling\n",
    "\n",
    "Converting all images value from (255-0) to (1-0), to optimize performance of neural network for get the gradient descent"
   ]
  },
  {
   "cell_type": "markdown",
   "metadata": {},
   "source": [
    "**this our goal:** dataset_generator.map(preprocessing_function)"
   ]
  },
  {
   "cell_type": "code",
   "execution_count": 11,
   "metadata": {},
   "outputs": [],
   "source": [
    "def preprocess(file_path):\n",
    "\n",
    "    # Read in image, as a bytes-like object, from file path\n",
    "    byte_img = tf.io.read_file(file_path)\n",
    "    # load in the image\n",
    "    img = tf.io.decode_jpeg(byte_img)\n",
    "\n",
    "    # Preprocessing steps\n",
    "    # 1. resizing the image to be 100x100\n",
    "    img = tf.image.resize(img,(100,100))\n",
    "    # 2. Scale image to be between 0 and 1\n",
    "    img /= 255.0\n",
    "    return img"
   ]
  },
  {
   "cell_type": "code",
   "execution_count": 12,
   "metadata": {},
   "outputs": [
    {
     "data": {
      "text/plain": [
       "<matplotlib.image.AxesImage at 0x16ce32f3400>"
      ]
     },
     "execution_count": 12,
     "metadata": {},
     "output_type": "execute_result"
    },
    {
     "data": {
      "image/png": "[encoded data removed]",
      "text/plain": [
       "<Figure size 640x480 with 1 Axes>"
      ]
     },
     "metadata": {},
     "output_type": "display_data"
    }
   ],
   "source": [
    "img = preprocess('data\\\\anchoer\\\\677c2477-3bb4-11ed-9313-7c8ae18b9df3.jpg')\n",
    "plt.imshow(img)"
   ]
  },
  {
   "cell_type": "code",
   "execution_count": 13,
   "metadata": {},
   "outputs": [
    {
     "data": {
      "text/plain": [
       "0.94264704"
      ]
     },
     "execution_count": 13,
     "metadata": {},
     "output_type": "execute_result"
    }
   ],
   "source": [
    "img.numpy().max()"
   ]
  },
  {
   "cell_type": "markdown",
   "metadata": {},
   "source": [
    "## 3.3 Create Labelled Dataset"
   ]
  },
  {
   "cell_type": "markdown",
   "metadata": {},
   "source": [
    "we gonna pass anchor with positive or negative image and get 1's or 0's\n",
    "\n",
    "(anchor, positive) => 1,1,1,1,1\n",
    "\n",
    "(anchor, negative) => 0,0,0,0,0"
   ]
  },
  {
   "cell_type": "code",
   "execution_count": 14,
   "metadata": {},
   "outputs": [
    {
     "data": {
      "text/plain": [
       "<tf.Tensor: shape=(300,), dtype=float32, numpy=\n",
       "array([1., 1., 1., 1., 1., 1., 1., 1., 1., 1., 1., 1., 1., 1., 1., 1., 1.,\n",
       "       1., 1., 1., 1., 1., 1., 1., 1., 1., 1., 1., 1., 1., 1., 1., 1., 1.,\n",
       "       1., 1., 1., 1., 1., 1., 1., 1., 1., 1., 1., 1., 1., 1., 1., 1., 1.,\n",
       "       1., 1., 1., 1., 1., 1., 1., 1., 1., 1., 1., 1., 1., 1., 1., 1., 1.,\n",
       "       1., 1., 1., 1., 1., 1., 1., 1., 1., 1., 1., 1., 1., 1., 1., 1., 1.,\n",
       "       1., 1., 1., 1., 1., 1., 1., 1., 1., 1., 1., 1., 1., 1., 1., 1., 1.,\n",
       "       1., 1., 1., 1., 1., 1., 1., 1., 1., 1., 1., 1., 1., 1., 1., 1., 1.,\n",
       "       1., 1., 1., 1., 1., 1., 1., 1., 1., 1., 1., 1., 1., 1., 1., 1., 1.,\n",
       "       1., 1., 1., 1., 1., 1., 1., 1., 1., 1., 1., 1., 1., 1., 1., 1., 1.,\n",
       "       1., 1., 1., 1., 1., 1., 1., 1., 1., 1., 1., 1., 1., 1., 1., 1., 1.,\n",
       "       1., 1., 1., 1., 1., 1., 1., 1., 1., 1., 1., 1., 1., 1., 1., 1., 1.,\n",
       "       1., 1., 1., 1., 1., 1., 1., 1., 1., 1., 1., 1., 1., 1., 1., 1., 1.,\n",
       "       1., 1., 1., 1., 1., 1., 1., 1., 1., 1., 1., 1., 1., 1., 1., 1., 1.,\n",
       "       1., 1., 1., 1., 1., 1., 1., 1., 1., 1., 1., 1., 1., 1., 1., 1., 1.,\n",
       "       1., 1., 1., 1., 1., 1., 1., 1., 1., 1., 1., 1., 1., 1., 1., 1., 1.,\n",
       "       1., 1., 1., 1., 1., 1., 1., 1., 1., 1., 1., 1., 1., 1., 1., 1., 1.,\n",
       "       1., 1., 1., 1., 1., 1., 1., 1., 1., 1., 1., 1., 1., 1., 1., 1., 1.,\n",
       "       1., 1., 1., 1., 1., 1., 1., 1., 1., 1., 1.], dtype=float32)>"
      ]
     },
     "execution_count": 14,
     "metadata": {},
     "output_type": "execute_result"
    }
   ],
   "source": [
    "tf.ones(len(anchor))"
   ]
  },
  {
   "cell_type": "code",
   "execution_count": 15,
   "metadata": {},
   "outputs": [],
   "source": [
    "class_labels = tf.data.Dataset.from_tensor_slices([1,2,3,4])\n",
    "iterator_labels = class_labels.as_numpy_iterator()"
   ]
  },
  {
   "cell_type": "code",
   "execution_count": 16,
   "metadata": {},
   "outputs": [
    {
     "data": {
      "text/plain": [
       "1"
      ]
     },
     "execution_count": 16,
     "metadata": {},
     "output_type": "execute_result"
    }
   ],
   "source": [
    "iterator_labels.next()"
   ]
  },
  {
   "cell_type": "code",
   "execution_count": 17,
   "metadata": {},
   "outputs": [],
   "source": [
    "# zip to iterate the three of them at the same time \n",
    "positive = tf.data.Dataset.zip((anchor, positive, tf.data.Dataset.from_tensor_slices(tf.ones(len(anchor)))))\n",
    "negative = tf.data.Dataset.zip((anchor, negative, tf.data.Dataset.from_tensor_slices(tf.zeros(len(anchor)))))\n",
    "data =  positive.concatenate(negative)"
   ]
  },
  {
   "cell_type": "code",
   "execution_count": 18,
   "metadata": {},
   "outputs": [
    {
     "data": {
      "text/plain": [
       "<ConcatenateDataset shapes: ((), (), ()), types: (tf.string, tf.string, tf.float32)>"
      ]
     },
     "execution_count": 18,
     "metadata": {},
     "output_type": "execute_result"
    }
   ],
   "source": [
    "# now we have a dataset with (anchor path, +/- path, label)\n",
    "data"
   ]
  },
  {
   "cell_type": "code",
   "execution_count": 19,
   "metadata": {},
   "outputs": [],
   "source": [
    "samples = data.as_numpy_iterator()"
   ]
  },
  {
   "cell_type": "code",
   "execution_count": 20,
   "metadata": {},
   "outputs": [],
   "source": [
    "example = samples.next()"
   ]
  },
  {
   "cell_type": "markdown",
   "metadata": {},
   "source": [
    "### Apply preprocessing function "
   ]
  },
  {
   "cell_type": "code",
   "execution_count": 21,
   "metadata": {},
   "outputs": [
    {
     "data": {
      "text/plain": [
       "(<tf.Tensor: shape=(100, 100, 3), dtype=float32, numpy=\n",
       " array([[[0.78333336, 0.7911765 , 0.7480392 ],\n",
       "         [0.78333336, 0.7911765 , 0.7480392 ],\n",
       "         [0.78333336, 0.7882353 , 0.75392157],\n",
       "         ...,\n",
       "         [0.82230395, 0.8301471 , 0.7870098 ],\n",
       "         [0.8303922 , 0.8382353 , 0.79509807],\n",
       "         [0.82058823, 0.83235294, 0.7970588 ]],\n",
       " \n",
       "        [[0.7794118 , 0.7872549 , 0.7441176 ],\n",
       "         [0.78333336, 0.7911765 , 0.7480392 ],\n",
       "         [0.78039217, 0.7852941 , 0.7509804 ],\n",
       "         ...,\n",
       "         [0.8235294 , 0.827451  , 0.79607844],\n",
       "         [0.827451  , 0.83137256, 0.8014706 ],\n",
       "         [0.8235294 , 0.8352941 , 0.80196077]],\n",
       " \n",
       "        [[0.78112745, 0.7889706 , 0.73995095],\n",
       "         [0.78431374, 0.7921569 , 0.74460787],\n",
       "         [0.7879902 , 0.79509807, 0.75416666],\n",
       "         ...,\n",
       "         [0.8237745 , 0.8276961 , 0.80220586],\n",
       "         [0.8267157 , 0.8306373 , 0.8066176 ],\n",
       "         [0.8235294 , 0.8352941 , 0.80784315]],\n",
       " \n",
       "        ...,\n",
       " \n",
       "        [[0.3240196 , 0.3612745 , 0.3985294 ],\n",
       "         [0.4865196 , 0.5257353 , 0.5617647 ],\n",
       "         [0.43995097, 0.4879902 , 0.51593137],\n",
       "         ...,\n",
       "         [0.33553922, 0.39803922, 0.48406863],\n",
       "         [0.39460784, 0.44754902, 0.5240196 ],\n",
       "         [0.43333334, 0.47916666, 0.5470588 ]],\n",
       " \n",
       "        [[0.35343137, 0.37892157, 0.425     ],\n",
       "         [0.49019608, 0.52181375, 0.5644608 ],\n",
       "         [0.45808825, 0.49142158, 0.532598  ],\n",
       "         ...,\n",
       "         [0.32647058, 0.3867647 , 0.46838236],\n",
       "         [0.35686275, 0.40980393, 0.4862745 ],\n",
       "         [0.3622549 , 0.4132353 , 0.47965688]],\n",
       " \n",
       "        [[0.4245098 , 0.4480392 , 0.49509802],\n",
       "         [0.4852941 , 0.5088235 , 0.55588233],\n",
       "         [0.46911764, 0.49264705, 0.54558825],\n",
       "         ...,\n",
       "         [0.30465686, 0.3634804 , 0.45367646],\n",
       "         [0.31960785, 0.37843138, 0.46862745],\n",
       "         [0.35980392, 0.41862744, 0.49460784]]], dtype=float32)>,\n",
       " <tf.Tensor: shape=(100, 100, 3), dtype=float32, numpy=\n",
       " array([[[0.7852941 , 0.7852941 , 0.7852941 ],\n",
       "         [0.78357846, 0.78455883, 0.7737745 ],\n",
       "         [0.78995097, 0.79387254, 0.7742647 ],\n",
       "         ...,\n",
       "         [0.82892156, 0.8328431 , 0.8093137 ],\n",
       "         [0.8303922 , 0.83431375, 0.81078434],\n",
       "         [0.8303922 , 0.83431375, 0.81078434]],\n",
       " \n",
       "        [[0.77843136, 0.78039217, 0.77156866],\n",
       "         [0.7852941 , 0.7879902 , 0.7764706 ],\n",
       "         [0.79632354, 0.80196077, 0.77867645],\n",
       "         ...,\n",
       "         [0.8303922 , 0.83431375, 0.81078434],\n",
       "         [0.8303922 , 0.83431375, 0.81078434],\n",
       "         [0.83137256, 0.8352941 , 0.8117647 ]],\n",
       " \n",
       "        [[0.78455883, 0.79240197, 0.7865196 ],\n",
       "         [0.78357846, 0.7914216 , 0.77916664],\n",
       "         [0.78431374, 0.7921569 , 0.77254903],\n",
       "         ...,\n",
       "         [0.827451  , 0.83137256, 0.80784315],\n",
       "         [0.8267157 , 0.8306373 , 0.80710787],\n",
       "         [0.8235294 , 0.827451  , 0.8039216 ]],\n",
       " \n",
       "        ...,\n",
       " \n",
       "        [[0.5115196 , 0.54509807, 0.58431375],\n",
       "         [0.46470588, 0.5019608 , 0.529902  ],\n",
       "         [0.40784314, 0.4509804 , 0.4715686 ],\n",
       "         ...,\n",
       "         [0.6       , 0.5867647 , 0.5367647 ],\n",
       "         [0.60882354, 0.5882353 , 0.5323529 ],\n",
       "         [0.6156863 , 0.58431375, 0.5352941 ]],\n",
       " \n",
       "        [[0.5095588 , 0.54093134, 0.58455884],\n",
       "         [0.48284313, 0.5122549 , 0.5485294 ],\n",
       "         [0.422549  , 0.44754902, 0.46568626],\n",
       "         ...,\n",
       "         [0.5872549 , 0.5752451 , 0.5355392 ],\n",
       "         [0.6095588 , 0.5801471 , 0.5389706 ],\n",
       "         [0.6098039 , 0.58137256, 0.5411765 ]],\n",
       " \n",
       "        [[0.5294118 , 0.54901963, 0.57058823],\n",
       "         [0.50980395, 0.5269608 , 0.54338235],\n",
       "         [0.5632353 , 0.5627451 , 0.56691176],\n",
       "         ...,\n",
       "         [0.59313726, 0.577451  , 0.5411765 ],\n",
       "         [0.6110294 , 0.57867646, 0.54044116],\n",
       "         [0.6039216 , 0.5764706 , 0.54509807]]], dtype=float32)>,\n",
       " 1.0)"
      ]
     },
     "execution_count": 21,
     "metadata": {},
     "output_type": "execute_result"
    }
   ],
   "source": [
    "def preprocess_twin(input_img, validation_img, label):\n",
    "    return(preprocess(input_img),preprocess(validation_img),label)\n",
    "\n",
    "res = preprocess_twin(*example)\n",
    "res"
   ]
  },
  {
   "cell_type": "code",
   "execution_count": 22,
   "metadata": {},
   "outputs": [
    {
     "data": {
      "text/plain": [
       "3"
      ]
     },
     "execution_count": 22,
     "metadata": {},
     "output_type": "execute_result"
    }
   ],
   "source": [
    "# we getting three things as a result, a\n",
    "len(res)"
   ]
  },
  {
   "cell_type": "code",
   "execution_count": 23,
   "metadata": {},
   "outputs": [
    {
     "data": {
      "text/plain": [
       "<matplotlib.image.AxesImage at 0x16ce364b460>"
      ]
     },
     "execution_count": 23,
     "metadata": {},
     "output_type": "execute_result"
    },
    {
     "data": {
      "image/png": "[encoded data removed]",
      "text/plain": [
       "<Figure size 640x480 with 1 Axes>"
      ]
     },
     "metadata": {},
     "output_type": "display_data"
    }
   ],
   "source": [
    "plt.imshow(res[0])"
   ]
  },
  {
   "cell_type": "markdown",
   "metadata": {},
   "source": [
    "## 3.4 Build Train and Test Partition"
   ]
  },
  {
   "cell_type": "code",
   "execution_count": 24,
   "metadata": {},
   "outputs": [
    {
     "data": {
      "text/plain": [
       "<ShuffleDataset shapes: ((100, 100, None), (100, 100, None), ()), types: (tf.float32, tf.float32, tf.float32)>"
      ]
     },
     "execution_count": 24,
     "metadata": {},
     "output_type": "execute_result"
    }
   ],
   "source": [
    "# Build dataloader pipeline\n",
    "data = data.map(preprocess_twin)\n",
    "data = data.cache()\n",
    "data = data.shuffle(buffer_size=1024)\n",
    "data"
   ]
  },
  {
   "cell_type": "code",
   "execution_count": 25,
   "metadata": {},
   "outputs": [],
   "source": [
    "samples = data.as_numpy_iterator() "
   ]
  },
  {
   "cell_type": "code",
   "execution_count": 26,
   "metadata": {},
   "outputs": [],
   "source": [
    "example = samples.next()"
   ]
  },
  {
   "cell_type": "code",
   "execution_count": 27,
   "metadata": {},
   "outputs": [
    {
     "data": {
      "text/plain": [
       "<matplotlib.image.AxesImage at 0x16ce373f340>"
      ]
     },
     "execution_count": 27,
     "metadata": {},
     "output_type": "execute_result"
    },
    {
     "data": {
      "image/png": "[encoded data removed]",
      "text/plain": [
       "<Figure size 640x480 with 1 Axes>"
      ]
     },
     "metadata": {},
     "output_type": "display_data"
    }
   ],
   "source": [
    "plt.imshow(example[0])"
   ]
  },
  {
   "cell_type": "code",
   "execution_count": 28,
   "metadata": {},
   "outputs": [
    {
     "data": {
      "text/plain": [
       "<matplotlib.image.AxesImage at 0x16ce3806850>"
      ]
     },
     "execution_count": 28,
     "metadata": {},
     "output_type": "execute_result"
    },
    {
     "data": {
      "image/png": "[encoded data removed]",
      "text/plain": [
       "<Figure size 640x480 with 1 Axes>"
      ]
     },
     "metadata": {},
     "output_type": "display_data"
    }
   ],
   "source": [
    "plt.imshow(example[1])"
   ]
  },
  {
   "cell_type": "code",
   "execution_count": 29,
   "metadata": {},
   "outputs": [
    {
     "data": {
      "text/plain": [
       "0.0"
      ]
     },
     "execution_count": 29,
     "metadata": {},
     "output_type": "execute_result"
    }
   ],
   "source": [
    "example[2]"
   ]
  },
  {
   "cell_type": "code",
   "execution_count": 30,
   "metadata": {},
   "outputs": [],
   "source": [
    "# Training partition\n",
    "train_data = data.take(round(len(data)*.7))\n",
    "train_data = train_data.batch(16)\n",
    "train_data = train_data.prefetch(8)"
   ]
  },
  {
   "cell_type": "code",
   "execution_count": 31,
   "metadata": {},
   "outputs": [],
   "source": [
    "# Testing partition\n",
    "test_data = data.skip(round(len(data)*.7))\n",
    "test_data = data.take(round(len(data)*.3))\n",
    "test_data = test_data.batch(16)\n",
    "test_data = test_data.prefetch(8)"
   ]
  },
  {
   "cell_type": "code",
   "execution_count": 32,
   "metadata": {},
   "outputs": [
    {
     "data": {
      "text/plain": [
       "16"
      ]
     },
     "execution_count": 32,
     "metadata": {},
     "output_type": "execute_result"
    }
   ],
   "source": [
    "# now rather than having one image per value we have 16, no. batch\n",
    "train_sample = train_data.as_numpy_iterator()\n",
    "train_sample = train_sample.next()\n",
    "len(train_sample[0])"
   ]
  },
  {
   "cell_type": "markdown",
   "metadata": {},
   "source": [
    "# 4. Model Engineering, Build our model"
   ]
  },
  {
   "cell_type": "markdown",
   "metadata": {},
   "source": [
    "## 4.1. Build Embedding Layer"
   ]
  },
  {
   "cell_type": "markdown",
   "metadata": {},
   "source": [
    "### Our core block for building the neural network:\n",
    "\n",
    "1. Conv2D(no. flitters, filleter size, strokes=1, activation)\n",
    "\n",
    "2. MaxPooling2D(no. flitters, filleter size, strokes=1, padding),\n",
    "   * condensing down the amount of data,\n",
    "   * padding is the same in order to replicate the output shape\n",
    "  \n",
    "make_embedding: will translate the input to a feature vector"
   ]
  },
  {
   "cell_type": "code",
   "execution_count": 33,
   "metadata": {},
   "outputs": [
    {
     "name": "stdout",
     "output_type": "stream",
     "text": [
      "Model: \"embedding\"\n",
      "_________________________________________________________________\n",
      "Layer (type)                 Output Shape              Param #   \n",
      "=================================================================\n",
      "input_image (InputLayer)     [(None, 100, 100, 3)]     0         \n",
      "_________________________________________________________________\n",
      "conv2d (Conv2D)              (None, 91, 91, 64)        19264     \n",
      "_________________________________________________________________\n",
      "max_pooling2d (MaxPooling2D) (None, 46, 46, 64)        0         \n",
      "_________________________________________________________________\n",
      "conv2d_1 (Conv2D)            (None, 40, 40, 128)       401536    \n",
      "_________________________________________________________________\n",
      "max_pooling2d_1 (MaxPooling2 (None, 20, 20, 128)       0         \n",
      "_________________________________________________________________\n",
      "conv2d_2 (Conv2D)            (None, 17, 17, 128)       262272    \n",
      "_________________________________________________________________\n",
      "max_pooling2d_2 (MaxPooling2 (None, 9, 9, 128)         0         \n",
      "_________________________________________________________________\n",
      "conv2d_3 (Conv2D)            (None, 6, 6, 256)         524544    \n",
      "_________________________________________________________________\n",
      "flatten (Flatten)            (None, 9216)              0         \n",
      "_________________________________________________________________\n",
      "dense (Dense)                (None, 4096)              37752832  \n",
      "=================================================================\n",
      "Total params: 38,960,448\n",
      "Trainable params: 38,960,448\n",
      "Non-trainable params: 0\n",
      "_________________________________________________________________\n"
     ]
    }
   ],
   "source": [
    "def make_embedding():\n",
    "    inp = Input(shape=(100, 100, 3), name='input_image')\n",
    "    \n",
    "    # First Block \n",
    "    c1 = Conv2D(64, (10,10), activation='relu')(inp)\n",
    "    m1 = MaxPooling2D(64, (2,2), padding='same')(c1)\n",
    "    \n",
    "    # Second Block\n",
    "    c2 = Conv2D(128, (7,7), activation='relu')(m1)\n",
    "    m2 = MaxPooling2D(64, (2,2), padding='same')(c2)\n",
    "\n",
    "    # Third Block\n",
    "    c3 = Conv2D(128, (4,4), activation='relu')(m2)\n",
    "    m3 = MaxPooling2D(64, (2,2), padding='same')(c3)\n",
    "\n",
    "    # Final embedding block\n",
    "    c4 = Conv2D(256, (4,4), activation='relu')(m3)\n",
    "    f1 = Flatten()(c4)\n",
    "    d1 = Dense(4096, activation='sigmoid')(f1)\n",
    "\n",
    "    return Model(inputs=[inp], outputs=[d1], name='embedding')\n",
    "\n",
    "embedding_model = make_embedding()\n",
    "embedding_model.summary()"
   ]
  },
  {
   "cell_type": "markdown",
   "metadata": {},
   "source": [
    "### Explanation of make_embedding()"
   ]
  },
  {
   "cell_type": "code",
   "execution_count": 34,
   "metadata": {},
   "outputs": [
    {
     "data": {
      "text/plain": [
       "<KerasTensor: shape=(None, 105, 105, 3) dtype=float32 (created by layer 'input_image')>"
      ]
     },
     "execution_count": 34,
     "metadata": {},
     "output_type": "execute_result"
    }
   ],
   "source": [
    "inp = Input(shape=(105, 105, 3), name='input_image')\n",
    "inp"
   ]
  },
  {
   "cell_type": "code",
   "execution_count": 35,
   "metadata": {},
   "outputs": [],
   "source": [
    "c1 = Conv2D(64, (10,10), activation='relu')(inp)\n",
    "m1 = MaxPooling2D(64, (2,2), padding='same')(c1)"
   ]
  },
  {
   "cell_type": "code",
   "execution_count": 36,
   "metadata": {},
   "outputs": [],
   "source": [
    "c2 = Conv2D(128, (7,7), activation='relu')(m1)\n",
    "m2 = MaxPooling2D(64, (2,2), padding='same')(c2)"
   ]
  },
  {
   "cell_type": "code",
   "execution_count": 37,
   "metadata": {},
   "outputs": [],
   "source": [
    "c3 = Conv2D(128, (4,4), activation='relu')(m2)\n",
    "m3 = MaxPooling2D(64, (2,2), padding='same')(c3)"
   ]
  },
  {
   "cell_type": "code",
   "execution_count": 38,
   "metadata": {},
   "outputs": [],
   "source": [
    "c4 = Conv2D(256, (4,4), activation='relu')(m3)\n",
    "f1 = Flatten()(c4)\n",
    "d1 = Dense(4096, activation='sigmoid')(f1)"
   ]
  },
  {
   "cell_type": "code",
   "execution_count": 39,
   "metadata": {},
   "outputs": [
    {
     "name": "stdout",
     "output_type": "stream",
     "text": [
      "KerasTensor(type_spec=TensorSpec(shape=(None, 6, 6, 256), dtype=tf.float32, name=None), name='conv2d_7/Relu:0', description=\"created by layer 'conv2d_7'\")\n",
      "9216\n"
     ]
    },
    {
     "data": {
      "text/plain": [
       "<KerasTensor: shape=(None, 9216) dtype=float32 (created by layer 'flatten_1')>"
      ]
     },
     "execution_count": 39,
     "metadata": {},
     "output_type": "execute_result"
    }
   ],
   "source": [
    "print(c4)\n",
    "print(str(6*6*256))\n",
    "f1"
   ]
  },
  {
   "cell_type": "code",
   "execution_count": 40,
   "metadata": {},
   "outputs": [
    {
     "data": {
      "text/plain": [
       "<tensorflow.python.keras.engine.functional.Functional at 0x16ce3d8a280>"
      ]
     },
     "execution_count": 40,
     "metadata": {},
     "output_type": "execute_result"
    }
   ],
   "source": [
    "mod = Model(inputs=[inp], outputs=[d1], name='embedding')\n",
    "mod"
   ]
  },
  {
   "cell_type": "code",
   "execution_count": 41,
   "metadata": {},
   "outputs": [
    {
     "name": "stdout",
     "output_type": "stream",
     "text": [
      "Model: \"embedding\"\n",
      "_________________________________________________________________\n",
      "Layer (type)                 Output Shape              Param #   \n",
      "=================================================================\n",
      "input_image (InputLayer)     [(None, 105, 105, 3)]     0         \n",
      "_________________________________________________________________\n",
      "conv2d_4 (Conv2D)            (None, 96, 96, 64)        19264     \n",
      "_________________________________________________________________\n",
      "max_pooling2d_3 (MaxPooling2 (None, 48, 48, 64)        0         \n",
      "_________________________________________________________________\n",
      "conv2d_5 (Conv2D)            (None, 42, 42, 128)       401536    \n",
      "_________________________________________________________________\n",
      "max_pooling2d_4 (MaxPooling2 (None, 21, 21, 128)       0         \n",
      "_________________________________________________________________\n",
      "conv2d_6 (Conv2D)            (None, 18, 18, 128)       262272    \n",
      "_________________________________________________________________\n",
      "max_pooling2d_5 (MaxPooling2 (None, 9, 9, 128)         0         \n",
      "_________________________________________________________________\n",
      "conv2d_7 (Conv2D)            (None, 6, 6, 256)         524544    \n",
      "_________________________________________________________________\n",
      "flatten_1 (Flatten)          (None, 9216)              0         \n",
      "_________________________________________________________________\n",
      "dense_1 (Dense)              (None, 4096)              37752832  \n",
      "=================================================================\n",
      "Total params: 38,960,448\n",
      "Trainable params: 38,960,448\n",
      "Non-trainable params: 0\n",
      "_________________________________________________________________\n"
     ]
    }
   ],
   "source": [
    "# we are in business guys\n",
    "mod.summary()"
   ]
  },
  {
   "cell_type": "markdown",
   "metadata": {},
   "source": [
    "## 4.2. Build Distance layer"
   ]
  },
  {
   "cell_type": "markdown",
   "metadata": {},
   "source": [
    "sometimes they, !, pass three rivers/streams, anchor and validation and validation + anchor"
   ]
  },
  {
   "cell_type": "code",
   "execution_count": 42,
   "metadata": {},
   "outputs": [],
   "source": [
    "# Siamese L1 Distance class\n",
    "class L1Dist(Layer):\n",
    "    # the inheritance of Layer init\n",
    "    def __init__(self, **kwargs):\n",
    "        super().__init__()\n",
    "    \n",
    "    # Similarity calculation\n",
    "    def call(self, input_embedding, validation_embedding):\n",
    "        return tf.math.abs(input_embedding - validation_embedding)"
   ]
  },
  {
   "cell_type": "code",
   "execution_count": 43,
   "metadata": {},
   "outputs": [
    {
     "data": {
      "text/plain": [
       "<__main__.L1Dist at 0x16ce3d79ac0>"
      ]
     },
     "execution_count": 43,
     "metadata": {},
     "output_type": "execute_result"
    }
   ],
   "source": [
    "l1 = L1Dist()\n",
    "l1"
   ]
  },
  {
   "cell_type": "markdown",
   "metadata": {},
   "source": [
    "## 4.3 Make Siamese Model"
   ]
  },
  {
   "cell_type": "markdown",
   "metadata": {},
   "source": [
    "1. Handle input, two streams, anchor and validation\n",
    "2. pass the inputs to **make_embedding**: now we have two featured vectors\n",
    "3. pass the vectors to **L1Dist**: now we have a one vector represent the distance between two images\n",
    "4. pass the distance vector to **classification layer** uses sigmoid activation function:  it uses Dense to create a fully connected layer, it will tell either the images/vectors are smiler or not based on the distance victor form step 3"
   ]
  },
  {
   "cell_type": "code",
   "execution_count": 44,
   "metadata": {},
   "outputs": [
    {
     "name": "stdout",
     "output_type": "stream",
     "text": [
      "Model: \"SiameseNetwork\"\n",
      "__________________________________________________________________________________________________\n",
      "Layer (type)                    Output Shape         Param #     Connected to                     \n",
      "==================================================================================================\n",
      "input_img (InputLayer)          [(None, 100, 100, 3) 0                                            \n",
      "__________________________________________________________________________________________________\n",
      "validation_img (InputLayer)     [(None, 100, 100, 3) 0                                            \n",
      "__________________________________________________________________________________________________\n",
      "embedding (Functional)          (None, 4096)         38960448    input_img[0][0]                  \n",
      "                                                                 validation_img[0][0]             \n",
      "__________________________________________________________________________________________________\n",
      "distance (L1Dist)               (None, 4096)         0           embedding[0][0]                  \n",
      "                                                                 embedding[1][0]                  \n",
      "__________________________________________________________________________________________________\n",
      "dense_2 (Dense)                 (None, 1)            4097        distance[0][0]                   \n",
      "==================================================================================================\n",
      "Total params: 38,964,545\n",
      "Trainable params: 38,964,545\n",
      "Non-trainable params: 0\n",
      "__________________________________________________________________________________________________\n"
     ]
    }
   ],
   "source": [
    "def make_siamese_model():\n",
    "\n",
    "    # 1. Handling Inputs:\n",
    "    # Anchor image input\n",
    "    input_img = Input(name='input_img', shape=(100,100,3))\n",
    "    # Validation image\n",
    "    validation_img = Input(name='validation_img', shape=(100,100,3))\n",
    "\n",
    "    # 2+3. Combine siamese distance components\n",
    "    siamese_layer = L1Dist()\n",
    "    siamese_layer._name = 'distance'\n",
    "    distances = siamese_layer(embedding_model(input_img),embedding_model(validation_img))\n",
    "    \n",
    "    # 4. Classification layer\n",
    "    classifier = Dense(1, activation='sigmoid')(distances)\n",
    "\n",
    "    # combine all together\n",
    "    return Model(inputs=[input_img, validation_img], outputs= classifier, name='SiameseNetwork')\n",
    "\n",
    "siamese_model = make_siamese_model()\n",
    "siamese_model.summary()\n"
   ]
  },
  {
   "cell_type": "markdown",
   "metadata": {},
   "source": [
    "### Explanation of make_siamese_model"
   ]
  },
  {
   "cell_type": "code",
   "execution_count": 45,
   "metadata": {},
   "outputs": [],
   "source": [
    "input_img = Input(name='input_img', shape=(100,100,3))\n",
    "validation_img = Input(name='validation_img', shape=(100,100,3))"
   ]
  },
  {
   "cell_type": "code",
   "execution_count": 46,
   "metadata": {},
   "outputs": [],
   "source": [
    "inp_embedded = embedding_model(input_img)\n",
    "val_embedded = embedding_model(validation_img)"
   ]
  },
  {
   "cell_type": "code",
   "execution_count": 47,
   "metadata": {},
   "outputs": [],
   "source": [
    "siamese_layer = L1Dist()\n",
    "distances = siamese_layer(inp_embedded,val_embedded)"
   ]
  },
  {
   "cell_type": "code",
   "execution_count": 48,
   "metadata": {},
   "outputs": [
    {
     "data": {
      "text/plain": [
       "<KerasTensor: shape=(None, 1) dtype=float32 (created by layer 'dense_3')>"
      ]
     },
     "execution_count": 48,
     "metadata": {},
     "output_type": "execute_result"
    }
   ],
   "source": [
    "classifier = Dense(1, activation='sigmoid')(distances)\n",
    "classifier"
   ]
  },
  {
   "cell_type": "code",
   "execution_count": 49,
   "metadata": {},
   "outputs": [
    {
     "name": "stdout",
     "output_type": "stream",
     "text": [
      "Model: \"SiameseNetwork\"\n",
      "__________________________________________________________________________________________________\n",
      "Layer (type)                    Output Shape         Param #     Connected to                     \n",
      "==================================================================================================\n",
      "input_img (InputLayer)          [(None, 100, 100, 3) 0                                            \n",
      "__________________________________________________________________________________________________\n",
      "validation_img (InputLayer)     [(None, 100, 100, 3) 0                                            \n",
      "__________________________________________________________________________________________________\n",
      "embedding (Functional)          (None, 4096)         38960448    input_img[0][0]                  \n",
      "                                                                 validation_img[0][0]             \n",
      "__________________________________________________________________________________________________\n",
      "l1_dist_2 (L1Dist)              (None, 4096)         0           embedding[2][0]                  \n",
      "                                                                 embedding[3][0]                  \n",
      "__________________________________________________________________________________________________\n",
      "dense_3 (Dense)                 (None, 1)            4097        l1_dist_2[0][0]                  \n",
      "==================================================================================================\n",
      "Total params: 38,964,545\n",
      "Trainable params: 38,964,545\n",
      "Non-trainable params: 0\n",
      "__________________________________________________________________________________________________\n"
     ]
    }
   ],
   "source": [
    "siamese_mod = Model(inputs=[input_img, validation_img], outputs= classifier, name='SiameseNetwork')\n",
    "siamese_mod.summary()\n"
   ]
  },
  {
   "cell_type": "markdown",
   "metadata": {},
   "source": [
    "# 5. Training"
   ]
  },
  {
   "cell_type": "markdown",
   "metadata": {},
   "source": [
    "## 5.1 Setup Loss and Optimizer"
   ]
  },
  {
   "cell_type": "markdown",
   "metadata": {},
   "source": [
    "the whole perpouse of NN is to minimze the loss, cuz that means that it perform better for this function\n",
    "\n",
    "Optimizer: is what perform the backpropagation "
   ]
  },
  {
   "cell_type": "code",
   "execution_count": 50,
   "metadata": {},
   "outputs": [],
   "source": [
    "binary_cross_loss = tf.losses.BinaryCrossentropy()"
   ]
  },
  {
   "cell_type": "code",
   "execution_count": 51,
   "metadata": {},
   "outputs": [],
   "source": [
    "# set learing rate = 0.0001\n",
    "opt = tf.keras.optimizers.Adam(1e-4) "
   ]
  },
  {
   "cell_type": "markdown",
   "metadata": {},
   "source": [
    "## 5.2 Establish Checkpoints"
   ]
  },
  {
   "cell_type": "markdown",
   "metadata": {},
   "source": [
    "Works as a placeholder where we could to get back and restart form"
   ]
  },
  {
   "cell_type": "code",
   "execution_count": 52,
   "metadata": {},
   "outputs": [],
   "source": [
    "checkpoints_dir = \"./training_checkpoints\"\n",
    "checkpoints_prefix = os.path.join(checkpoints_dir, \"ckpt\")\n",
    "checkpoint = tf.train.Checkpoint(opt=opt,siamese_model=siamese_model)\n",
    "\n",
    "# to reload the checkpoint use:\n",
    "# model.load('path_to_checkpoint')"
   ]
  },
  {
   "cell_type": "markdown",
   "metadata": {},
   "source": [
    "## 5.3 Build Train Step Function"
   ]
  },
  {
   "cell_type": "markdown",
   "metadata": {},
   "source": [
    "This define what happens when we train on a single batch"
   ]
  },
  {
   "cell_type": "markdown",
   "metadata": {},
   "source": [
    "The basic steps for training on one batch:\n",
    "1. Make a prediction\n",
    "2. Calculate loss\n",
    "3. Derive gradients\n",
    "4. Calculate new weights and apply"
   ]
  },
  {
   "cell_type": "code",
   "execution_count": 53,
   "metadata": {},
   "outputs": [],
   "source": [
    "@tf.function\n",
    "# it compiles an entire neural network into a graph and allows us to\n",
    "# trian it in efficient manner\n",
    "# so we compiles what is going to happend under this function\n",
    "def train_step(batch):\n",
    "\n",
    "    # to perform the differentiation -> allows to perform Backpropegation -> so we get the gradients for NN\n",
    "    # look at everything happend in the nn and\n",
    "    with tf.GradientTape() as tape:\n",
    "        # get anchor and postive/negative image\n",
    "        X = batch[:2]\n",
    "        # get label\n",
    "        y = batch[2]\n",
    "\n",
    "        # forword pass\n",
    "        # yhat is y predicted\n",
    "        yhat = siamese_model(X, training=True)\n",
    "        # Calculate loss\n",
    "        loss = binary_cross_loss(y, yhat)\n",
    "    print(loss)\n",
    "\n",
    "    # Calculate gradients\n",
    "    grads = tape.gradient(loss, siamese_model.trainable_variables)\n",
    "\n",
    "    # Calculate updated wieghts and apply to siamese model\n",
    "    opt.apply_gradients(zip(grads, siamese_model.trainable_variables))\n",
    "    return loss"
   ]
  },
  {
   "cell_type": "markdown",
   "metadata": {},
   "source": [
    "Drowback with this method:\n",
    "\n",
    "you have to define all progress bars and loss matrices being output\n",
    "\n",
    "Solutoin: wrap them inside a module"
   ]
  },
  {
   "cell_type": "markdown",
   "metadata": {},
   "source": [
    "### Explination"
   ]
  },
  {
   "cell_type": "code",
   "execution_count": 54,
   "metadata": {},
   "outputs": [
    {
     "data": {
      "text/plain": [
       "<tensorflow.python.data.ops.dataset_ops._NumpyIterator at 0x16ceae52580>"
      ]
     },
     "execution_count": 54,
     "metadata": {},
     "output_type": "execute_result"
    }
   ],
   "source": [
    "test_batch = train_data.as_numpy_iterator()\n",
    "test_batch"
   ]
  },
  {
   "cell_type": "code",
   "execution_count": 55,
   "metadata": {},
   "outputs": [
    {
     "data": {
      "text/plain": [
       "(array([[[[0.78357846, 0.78357846, 0.7522059 ],\n",
       "          [0.7823529 , 0.78333336, 0.7519608 ],\n",
       "          [0.78406864, 0.7879902 , 0.75661767],\n",
       "          ...,\n",
       "          [0.8281863 , 0.83210784, 0.8007353 ],\n",
       "          [0.83137256, 0.8352941 , 0.8039216 ],\n",
       "          [0.8245098 , 0.82843137, 0.7970588 ]],\n",
       " \n",
       "         [[0.78357846, 0.78357846, 0.7502451 ],\n",
       "          [0.7830882 , 0.7865196 , 0.7529412 ],\n",
       "          [0.7921569 , 0.7970588 , 0.7627451 ],\n",
       "          ...,\n",
       "          [0.8245098 , 0.82843137, 0.80490196],\n",
       "          [0.8252451 , 0.82916665, 0.80563724],\n",
       "          [0.82843137, 0.83235294, 0.8088235 ]],\n",
       " \n",
       "         [[0.78137255, 0.7872549 , 0.74509805],\n",
       "          [0.78137255, 0.7877451 , 0.74534315],\n",
       "          [0.7884804 , 0.79632354, 0.7531863 ],\n",
       "          ...,\n",
       "          [0.8245098 , 0.82843137, 0.79901963],\n",
       "          [0.827451  , 0.83137256, 0.80196077],\n",
       "          [0.82254905, 0.8264706 , 0.7970588 ]],\n",
       " \n",
       "         ...,\n",
       " \n",
       "         [[0.3142157 , 0.3495098 , 0.37696078],\n",
       "          [0.47745097, 0.5147059 , 0.54264706],\n",
       "          [0.45637256, 0.49509802, 0.5296569 ],\n",
       "          ...,\n",
       "          [0.33406863, 0.39828432, 0.46764705],\n",
       "          [0.3647059 , 0.4252451 , 0.48872548],\n",
       "          [0.3865196 , 0.44632354, 0.5090686 ]],\n",
       " \n",
       "         [[0.34509805, 0.38627452, 0.4107843 ],\n",
       "          [0.49656862, 0.5397059 , 0.5632353 ],\n",
       "          [0.46617648, 0.5085784 , 0.53431374],\n",
       "          ...,\n",
       "          [0.33284312, 0.39338234, 0.45612746],\n",
       "          [0.34779412, 0.3973039 , 0.4598039 ],\n",
       "          [0.34583333, 0.39387256, 0.4507353 ]],\n",
       " \n",
       "         [[0.41495097, 0.45808825, 0.48161766],\n",
       "          [0.5009804 , 0.5441176 , 0.56764704],\n",
       "          [0.46691176, 0.51004905, 0.5276961 ],\n",
       "          ...,\n",
       "          [0.3142157 , 0.36519608, 0.42794117],\n",
       "          [0.3392157 , 0.3872549 , 0.44411764],\n",
       "          [0.34730393, 0.39436275, 0.44142157]]],\n",
       " \n",
       " \n",
       "        [[[0.7823529 , 0.7941176 , 0.7509804 ],\n",
       "          [0.78039217, 0.7921569 , 0.75686276],\n",
       "          [0.79044116, 0.79632354, 0.7639706 ],\n",
       "          ...,\n",
       "          [0.82843137, 0.8372549 , 0.79607844],\n",
       "          [0.8215686 , 0.8333333 , 0.8039216 ],\n",
       "          [0.82058823, 0.83235294, 0.80490196]],\n",
       " \n",
       "         [[0.78333336, 0.79313725, 0.7588235 ],\n",
       "          [0.78137255, 0.7897059 , 0.75808823],\n",
       "          [0.78431374, 0.7882353 , 0.7647059 ],\n",
       "          ...,\n",
       "          [0.83235294, 0.8382353 , 0.79607844],\n",
       "          [0.8301471 , 0.8338235 , 0.7982843 ],\n",
       "          [0.8303922 , 0.8333333 , 0.80196077]],\n",
       " \n",
       "         [[0.7801471 , 0.78406864, 0.7526961 ],\n",
       "          [0.7875    , 0.7914216 , 0.76053923],\n",
       "          [0.78137255, 0.7852941 , 0.7558824 ],\n",
       "          ...,\n",
       "          [0.8333333 , 0.8333333 , 0.79558825],\n",
       "          [0.8355392 , 0.8355392 , 0.80220586],\n",
       "          [0.83431375, 0.83431375, 0.8029412 ]],\n",
       " \n",
       "         ...,\n",
       " \n",
       "         [[0.32205883, 0.33382353, 0.35931373],\n",
       "          [0.50490195, 0.5237745 , 0.5480392 ],\n",
       "          [0.46544117, 0.49289215, 0.52230394],\n",
       "          ...,\n",
       "          [0.8257353 , 0.7892157 , 0.7620098 ],\n",
       "          [0.80710787, 0.7776961 , 0.7512255 ],\n",
       "          [0.73995095, 0.72132355, 0.6870098 ]],\n",
       " \n",
       "         [[0.3507353 , 0.36544117, 0.37916666],\n",
       "          [0.49779412, 0.51740193, 0.53357846],\n",
       "          [0.46691176, 0.4968137 , 0.5115196 ],\n",
       "          ...,\n",
       "          [0.8029412 , 0.7519608 , 0.7176471 ],\n",
       "          [0.8242647 , 0.785049  , 0.7468137 ],\n",
       "          [0.8301471 , 0.7919118 , 0.7585784 ]],\n",
       " \n",
       "         [[0.42843136, 0.45759803, 0.47009805],\n",
       "          [0.49534315, 0.5262255 , 0.54068625],\n",
       "          [0.48014706, 0.5154412 , 0.535049  ],\n",
       "          ...,\n",
       "          [0.74019605, 0.6931372 , 0.6401961 ],\n",
       "          [0.75171566, 0.7105392 , 0.6634804 ],\n",
       "          [0.7745098 , 0.7352941 , 0.6960784 ]]],\n",
       " \n",
       " \n",
       "        [[[0.79093134, 0.7948529 , 0.7713235 ],\n",
       "          [0.79509807, 0.8009804 , 0.76862746],\n",
       "          [0.7879902 , 0.80857843, 0.7703431 ],\n",
       "          ...,\n",
       "          [0.4752451 , 0.51053923, 0.5772059 ],\n",
       "          [0.47916666, 0.5144608 , 0.58112746],\n",
       "          [0.4882353 , 0.5235294 , 0.58235294]],\n",
       " \n",
       "         [[0.7921569 , 0.79607844, 0.7647059 ],\n",
       "          [0.79632354, 0.80220586, 0.76985294],\n",
       "          [0.7970588 , 0.8088235 , 0.7794118 ],\n",
       "          ...,\n",
       "          [0.46887255, 0.50416666, 0.5629902 ],\n",
       "          [0.47254902, 0.5026961 , 0.5622549 ],\n",
       "          [0.46862745, 0.4970588 , 0.5568628 ]],\n",
       " \n",
       "         [[0.7921569 , 0.79901963, 0.7588235 ],\n",
       "          [0.78995097, 0.79656863, 0.7583333 ],\n",
       "          [0.78995097, 0.8002451 , 0.76715684],\n",
       "          ...,\n",
       "          [0.44313726, 0.4872549 , 0.547549  ],\n",
       "          [0.44828433, 0.485049  , 0.5416667 ],\n",
       "          [0.45392156, 0.4882353 , 0.54509807]],\n",
       " \n",
       "         ...,\n",
       " \n",
       "         [[0.3272059 , 0.35465688, 0.38602942],\n",
       "          [0.49509802, 0.53186274, 0.55857843],\n",
       "          [0.45735294, 0.5004902 , 0.5240196 ],\n",
       "          ...,\n",
       "          [0.5379902 , 0.51053923, 0.44191176],\n",
       "          [0.5446078 , 0.51715684, 0.44852942],\n",
       "          [0.54901963, 0.51862746, 0.44411764]],\n",
       " \n",
       "         [[0.37990198, 0.40735295, 0.4387255 ],\n",
       "          [0.5085784 , 0.5394608 , 0.56911767],\n",
       "          [0.4762255 , 0.5129902 , 0.5441176 ],\n",
       "          ...,\n",
       "          [0.5394608 , 0.50759804, 0.43970588],\n",
       "          [0.54019606, 0.5127451 , 0.44215685],\n",
       "          [0.54313725, 0.51642156, 0.43970588]],\n",
       " \n",
       "         [[0.45661765, 0.48406863, 0.5154412 ],\n",
       "          [0.5269608 , 0.55441177, 0.5857843 ],\n",
       "          [0.47965688, 0.5129902 , 0.5414216 ],\n",
       "          ...,\n",
       "          [0.5323529 , 0.5019608 , 0.4259804 ],\n",
       "          [0.5362745 , 0.5095588 , 0.43284315],\n",
       "          [0.5392157 , 0.5156863 , 0.41960785]]],\n",
       " \n",
       " \n",
       "        ...,\n",
       " \n",
       " \n",
       "        [[[0.7911765 , 0.8029412 , 0.7754902 ],\n",
       "          [0.79313725, 0.80490196, 0.777451  ],\n",
       "          [0.7968137 , 0.80857843, 0.78112745],\n",
       "          ...,\n",
       "          [0.8362745 , 0.8401961 , 0.81666666],\n",
       "          [0.8333333 , 0.84313726, 0.81666666],\n",
       "          [0.83137256, 0.84313726, 0.8156863 ]],\n",
       " \n",
       "         [[0.79901963, 0.8088235 , 0.7823529 ],\n",
       "          [0.79901963, 0.8088235 , 0.7823529 ],\n",
       "          [0.8       , 0.8098039 , 0.78333336],\n",
       "          ...,\n",
       "          [0.82990193, 0.84313726, 0.8156863 ],\n",
       "          [0.82843137, 0.8401961 , 0.8127451 ],\n",
       "          [0.827451  , 0.8392157 , 0.8117647 ]],\n",
       " \n",
       "         [[0.7980392 , 0.79901963, 0.76960784],\n",
       "          [0.79607844, 0.8       , 0.77205884],\n",
       "          [0.80196077, 0.80588233, 0.7823529 ],\n",
       "          ...,\n",
       "          [0.8240196 , 0.84313726, 0.8156863 ],\n",
       "          [0.82916665, 0.8401961 , 0.81715685],\n",
       "          [0.83137256, 0.8401961 , 0.8186275 ]],\n",
       " \n",
       "         ...,\n",
       " \n",
       "         [[0.33431372, 0.3617647 , 0.38455883],\n",
       "          [0.48897058, 0.532598  , 0.5502451 ],\n",
       "          [0.45490196, 0.50784314, 0.53186274],\n",
       "          ...,\n",
       "          [0.56764704, 0.5245098 , 0.45196077],\n",
       "          [0.53210783, 0.5       , 0.4490196 ],\n",
       "          [0.40416667, 0.38578433, 0.4139706 ]],\n",
       " \n",
       "         [[0.389951  , 0.42818627, 0.4389706 ],\n",
       "          [0.48284313, 0.5375    , 0.55      ],\n",
       "          [0.4507353 , 0.5095588 , 0.52916664],\n",
       "          ...,\n",
       "          [0.5688726 , 0.5352941 , 0.45367646],\n",
       "          [0.5348039 , 0.50441176, 0.44754902],\n",
       "          [0.42009804, 0.3973039 , 0.41666666]],\n",
       " \n",
       "         [[0.43823528, 0.47401962, 0.47965688],\n",
       "          [0.48897058, 0.535049  , 0.54068625],\n",
       "          [0.45588234, 0.5137255 , 0.5235294 ],\n",
       "          ...,\n",
       "          [0.55269605, 0.51666665, 0.46004903],\n",
       "          [0.5257353 , 0.49509802, 0.4477941 ],\n",
       "          [0.4343137 , 0.4117647 , 0.43039215]]],\n",
       " \n",
       " \n",
       "        [[[0.78039217, 0.78431374, 0.7607843 ],\n",
       "          [0.7882353 , 0.79313725, 0.7588235 ],\n",
       "          [0.7872549 , 0.79509807, 0.7504902 ],\n",
       "          ...,\n",
       "          [0.827451  , 0.83137256, 0.8       ],\n",
       "          [0.8235294 , 0.8303922 , 0.79019606],\n",
       "          [0.8188726 , 0.8306373 , 0.7875    ]],\n",
       " \n",
       "         [[0.78431374, 0.79607844, 0.76862746],\n",
       "          [0.78357846, 0.79338235, 0.7590686 ],\n",
       "          [0.78431374, 0.7911765 , 0.7509804 ],\n",
       "          ...,\n",
       "          [0.81936276, 0.83112746, 0.79534316],\n",
       "          [0.8156863 , 0.827451  , 0.7857843 ],\n",
       "          [0.8117647 , 0.8235294 , 0.78039217]],\n",
       " \n",
       "         [[0.76936275, 0.78995097, 0.7536765 ],\n",
       "          [0.7759804 , 0.7872549 , 0.7507353 ],\n",
       "          [0.7796569 , 0.7879902 , 0.74558824],\n",
       "          ...,\n",
       "          [0.81960785, 0.83137256, 0.7897059 ],\n",
       "          [0.81960785, 0.83137256, 0.7882353 ],\n",
       "          [0.81960785, 0.83137256, 0.7882353 ]],\n",
       " \n",
       "         ...,\n",
       " \n",
       "         [[0.3120098 , 0.3492647 , 0.37573528],\n",
       "          [0.46960783, 0.5063726 , 0.53112745],\n",
       "          [0.4389706 , 0.46985295, 0.49166667],\n",
       "          ...,\n",
       "          [0.3245098 , 0.37254903, 0.42941177],\n",
       "          [0.3134804 , 0.3629902 , 0.42941177],\n",
       "          [0.2997549 , 0.34289217, 0.40857843]],\n",
       " \n",
       "         [[0.3622549 , 0.40539217, 0.42892158],\n",
       "          [0.45784312, 0.5004902 , 0.5237745 ],\n",
       "          [0.43284315, 0.47401962, 0.49656862],\n",
       "          ...,\n",
       "          [0.32377452, 0.37279412, 0.42083332],\n",
       "          [0.30563724, 0.35514706, 0.42156863],\n",
       "          [0.29534313, 0.33553922, 0.40710783]],\n",
       " \n",
       "         [[0.44191176, 0.485049  , 0.5085784 ],\n",
       "          [0.4764706 , 0.51960784, 0.54313725],\n",
       "          [0.44436276, 0.4875    , 0.5110294 ],\n",
       "          ...,\n",
       "          [0.3242647 , 0.37965685, 0.4247549 ],\n",
       "          [0.31176472, 0.3745098 , 0.4362745 ],\n",
       "          [0.2870098 , 0.3379902 , 0.4125    ]]],\n",
       " \n",
       " \n",
       "        [[[0.7245098 , 0.7519608 , 0.7205882 ],\n",
       "          [0.7375    , 0.75710785, 0.7296569 ],\n",
       "          [0.7473039 , 0.7610294 , 0.73357844],\n",
       "          ...,\n",
       "          [0.79019606, 0.7980392 , 0.7862745 ],\n",
       "          [0.7867647 , 0.7887255 , 0.779902  ],\n",
       "          [0.7921569 , 0.7921569 , 0.78431374]],\n",
       " \n",
       "         [[0.7352941 , 0.7529412 , 0.7235294 ],\n",
       "          [0.735049  , 0.7512255 , 0.7223039 ],\n",
       "          [0.74485296, 0.75514704, 0.72843134],\n",
       "          ...,\n",
       "          [0.79093134, 0.7987745 , 0.785049  ],\n",
       "          [0.7801471 , 0.7879902 , 0.7742647 ],\n",
       "          [0.78431374, 0.7852941 , 0.7745098 ]],\n",
       " \n",
       "         [[0.7372549 , 0.7490196 , 0.7137255 ],\n",
       "          [0.7470588 , 0.7529412 , 0.72107846],\n",
       "          [0.7495098 , 0.75392157, 0.7242647 ],\n",
       "          ...,\n",
       "          [0.7742647 , 0.78210783, 0.7625    ],\n",
       "          [0.78161764, 0.7894608 , 0.76985294],\n",
       "          [0.7914216 , 0.7982843 , 0.77867645]],\n",
       " \n",
       "         ...,\n",
       " \n",
       "         [[0.26519608, 0.29264706, 0.31617647],\n",
       "          [0.4504902 , 0.48186275, 0.49362746],\n",
       "          [0.41764706, 0.4490196 , 0.46078432],\n",
       "          ...,\n",
       "          [0.26593137, 0.32843137, 0.40441176],\n",
       "          [0.25416666, 0.3139706 , 0.37965685],\n",
       "          [0.28529412, 0.3360294 , 0.39656863]],\n",
       " \n",
       "         [[0.33112746, 0.35857844, 0.38210785],\n",
       "          [0.44877452, 0.48014706, 0.49191177],\n",
       "          [0.41568628, 0.44485295, 0.4632353 ],\n",
       "          ...,\n",
       "          [0.28529412, 0.34044117, 0.43970588],\n",
       "          [0.25490198, 0.3115196 , 0.3882353 ],\n",
       "          [0.28235295, 0.33161765, 0.3987745 ]],\n",
       " \n",
       "         [[0.36544117, 0.40465686, 0.4125    ],\n",
       "          [0.44754902, 0.4862745 , 0.4968137 ],\n",
       "          [0.40882352, 0.44754902, 0.46544117],\n",
       "          ...,\n",
       "          [0.2742647 , 0.33700982, 0.4272059 ],\n",
       "          [0.24779412, 0.3134804 , 0.39485294],\n",
       "          [0.2617647 , 0.32058823, 0.39509803]]]], dtype=float32),\n",
       " array([[[[7.7720588e-01, 7.8112745e-01, 7.6053923e-01],\n",
       "          [7.8210783e-01, 7.8529412e-01, 7.6789218e-01],\n",
       "          [7.8750002e-01, 7.9436272e-01, 7.7916664e-01],\n",
       "          ...,\n",
       "          [8.2450980e-01, 8.2450980e-01, 8.1813723e-01],\n",
       "          [8.2524508e-01, 8.3112746e-01, 8.2034314e-01],\n",
       "          [8.2352942e-01, 8.3137256e-01, 8.1176472e-01]],\n",
       " \n",
       "         [[7.7941179e-01, 7.8039217e-01, 7.9117650e-01],\n",
       "          [7.7377450e-01, 7.7769607e-01, 7.8750002e-01],\n",
       "          [7.7769607e-01, 7.8455883e-01, 7.8357846e-01],\n",
       "          ...,\n",
       "          [8.3039218e-01, 8.3308822e-01, 8.2009804e-01],\n",
       "          [8.2598037e-01, 8.3382350e-01, 8.1274509e-01],\n",
       "          [8.2352942e-01, 8.3235294e-01, 8.1078434e-01]],\n",
       " \n",
       "         [[7.8210783e-01, 7.9093134e-01, 8.1936276e-01],\n",
       "          [7.8529412e-01, 7.9509807e-01, 8.1470591e-01],\n",
       "          [7.8750002e-01, 7.9362744e-01, 8.0857843e-01],\n",
       "          ...,\n",
       "          [8.2279414e-01, 8.3063728e-01, 8.1102943e-01],\n",
       "          [8.2279414e-01, 8.3137256e-01, 8.1029409e-01],\n",
       "          [8.2352942e-01, 8.3529413e-01, 8.0784315e-01]],\n",
       " \n",
       "         ...,\n",
       " \n",
       "         [[4.9387255e-01, 5.3504902e-01, 5.5367649e-01],\n",
       "          [4.5759803e-01, 4.9730393e-01, 5.2598041e-01],\n",
       "          [4.2009804e-01, 4.5539215e-01, 4.9068627e-01],\n",
       "          ...,\n",
       "          [5.2279413e-01, 5.5833334e-01, 6.0367650e-01],\n",
       "          [6.6127449e-01, 6.6372550e-01, 6.6740197e-01],\n",
       "          [7.2156864e-01, 6.8137252e-01, 6.7156863e-01]],\n",
       " \n",
       "         [[5.1200980e-01, 5.4730392e-01, 5.7475489e-01],\n",
       "          [4.6642157e-01, 5.0098038e-01, 5.3774512e-01],\n",
       "          [4.3357843e-01, 4.6813726e-01, 5.0490195e-01],\n",
       "          ...,\n",
       "          [4.7230393e-01, 5.1299018e-01, 5.7132351e-01],\n",
       "          [5.8995098e-01, 5.9656864e-01, 6.0808825e-01],\n",
       "          [6.4117646e-01, 6.0906863e-01, 5.8823532e-01]],\n",
       " \n",
       "         [[5.1887256e-01, 5.5416667e-01, 5.8161765e-01],\n",
       "          [4.6495098e-01, 5.0024509e-01, 5.3553921e-01],\n",
       "          [4.3333334e-01, 4.6862745e-01, 5.0392157e-01],\n",
       "          ...,\n",
       "          [4.2352942e-01, 4.8235294e-01, 5.4166669e-01],\n",
       "          [5.3431374e-01, 5.5784315e-01, 5.7352942e-01],\n",
       "          [6.0000002e-01, 5.8725488e-01, 5.5784315e-01]]],\n",
       " \n",
       " \n",
       "        [[[8.1470591e-01, 7.0392156e-01, 6.5490198e-01],\n",
       "          [8.0759805e-01, 7.3406863e-01, 7.0318627e-01],\n",
       "          [9.4338238e-01, 9.2965686e-01, 9.3063724e-01],\n",
       "          ...,\n",
       "          [8.9411765e-01, 9.0196079e-01, 9.4901961e-01],\n",
       "          [9.0024507e-01, 9.0808821e-01, 9.5514709e-01],\n",
       "          [9.0490198e-01, 9.1274512e-01, 9.5980394e-01]],\n",
       " \n",
       "         [[7.6568627e-01, 6.6544116e-01, 6.0171568e-01],\n",
       "          [7.6936275e-01, 7.0514709e-01, 6.6715688e-01],\n",
       "          [9.3014705e-01, 9.1691178e-01, 9.0686274e-01],\n",
       "          ...,\n",
       "          [8.9975488e-01, 9.0759802e-01, 9.5563728e-01],\n",
       "          [9.0588236e-01, 9.1372550e-01, 9.6176469e-01],\n",
       "          [9.0980393e-01, 9.1764706e-01, 9.6568626e-01]],\n",
       " \n",
       "         [[8.2769608e-01, 7.4583334e-01, 6.6274512e-01],\n",
       "          [7.9607844e-01, 7.3700982e-01, 6.8333334e-01],\n",
       "          [9.0171570e-01, 8.7892157e-01, 8.6151963e-01],\n",
       "          ...,\n",
       "          [9.0514708e-01, 9.1299021e-01, 9.6397060e-01],\n",
       "          [9.1200978e-01, 9.1985291e-01, 9.7083336e-01],\n",
       "          [9.1666669e-01, 9.2450982e-01, 9.7549021e-01]],\n",
       " \n",
       "         ...,\n",
       " \n",
       "         [[6.8627452e-03, 1.0784314e-02, 3.0392157e-02],\n",
       "          [9.8039219e-03, 1.1764706e-02, 3.2352943e-02],\n",
       "          [1.6666668e-02, 1.8627452e-02, 3.9215688e-02],\n",
       "          ...,\n",
       "          [1.8039216e-01, 2.2745098e-01, 3.2107842e-01],\n",
       "          [1.8431373e-01, 2.3137255e-01, 3.1911764e-01],\n",
       "          [1.8823530e-01, 2.3529412e-01, 3.2156864e-01]],\n",
       " \n",
       "         [[6.8627452e-03, 1.0784314e-02, 2.7450981e-02],\n",
       "          [1.2745098e-02, 8.8235298e-03, 3.0147059e-02],\n",
       "          [1.9607844e-02, 1.5686275e-02, 4.3627452e-02],\n",
       "          ...,\n",
       "          [1.8039216e-01, 2.2745098e-01, 3.1519607e-01],\n",
       "          [1.8431373e-01, 2.3137255e-01, 3.1764707e-01],\n",
       "          [1.8823530e-01, 2.3529412e-01, 3.2156864e-01]],\n",
       " \n",
       "         [[1.1764706e-02, 1.5686275e-02, 3.1372551e-02],\n",
       "          [1.6666668e-02, 1.0784314e-02, 3.2352943e-02],\n",
       "          [2.2549020e-02, 1.0784314e-02, 4.4117648e-02],\n",
       "          ...,\n",
       "          [1.8039216e-01, 2.2745098e-01, 3.1372550e-01],\n",
       "          [1.8039216e-01, 2.2745098e-01, 3.1372550e-01],\n",
       "          [1.8627451e-01, 2.3725490e-01, 3.1176472e-01]]],\n",
       " \n",
       " \n",
       "        [[[3.9044118e-01, 1.8553922e-01, 1.2867647e-01],\n",
       "          [3.5147059e-01, 1.4656863e-01, 8.9705884e-02],\n",
       "          [3.2254902e-01, 1.2794118e-01, 6.7401960e-02],\n",
       "          ...,\n",
       "          [9.9901962e-01, 1.0000000e+00, 1.0000000e+00],\n",
       "          [9.9607843e-01, 1.0000000e+00, 1.0000000e+00],\n",
       "          [9.9313724e-01, 1.0000000e+00, 9.9705881e-01]],\n",
       " \n",
       "         [[3.1323528e-01, 1.4142157e-01, 1.0980392e-01],\n",
       "          [2.6299021e-01, 9.8774508e-02, 6.5686278e-02],\n",
       "          [2.0686275e-01, 5.6372549e-02, 2.0343138e-02],\n",
       "          ...,\n",
       "          [9.9411762e-01, 9.9754900e-01, 9.9583334e-01],\n",
       "          [9.9583334e-01, 1.0000000e+00, 9.9975491e-01],\n",
       "          [9.9215686e-01, 1.0000000e+00, 9.9607843e-01]],\n",
       " \n",
       "         [[2.7818626e-01, 1.3529412e-01, 1.2745099e-01],\n",
       "          [1.8897060e-01, 6.5441176e-02, 5.1715687e-02],\n",
       "          [1.3725491e-01, 3.2598041e-02, 1.6666668e-02],\n",
       "          ...,\n",
       "          [9.8823529e-01, 9.9607843e-01, 9.9215686e-01],\n",
       "          [9.9289215e-01, 1.0000000e+00, 9.9681371e-01],\n",
       "          [9.8235291e-01, 9.9607843e-01, 9.9215686e-01]],\n",
       " \n",
       "         ...,\n",
       " \n",
       "         [[7.3872548e-01, 5.9852940e-01, 5.2990198e-01],\n",
       "          [7.5294119e-01, 6.0906863e-01, 5.2401960e-01],\n",
       "          [8.2205880e-01, 6.7696077e-01, 5.7205880e-01],\n",
       "          ...,\n",
       "          [4.5686275e-01, 4.9411765e-01, 5.4019606e-01],\n",
       "          [4.6715686e-01, 4.8872548e-01, 5.0833333e-01],\n",
       "          [5.7720590e-01, 5.6740195e-01, 5.6985295e-01]],\n",
       " \n",
       "         [[6.3725489e-01, 4.8235294e-01, 4.4215685e-01],\n",
       "          [6.7965686e-01, 5.2696079e-01, 4.6225491e-01],\n",
       "          [6.7843139e-01, 5.3039217e-01, 4.2843136e-01],\n",
       "          ...,\n",
       "          [5.9142154e-01, 6.2867647e-01, 6.7475492e-01],\n",
       "          [4.9926472e-01, 5.2083331e-01, 5.4044116e-01],\n",
       "          [7.2965688e-01, 7.1985292e-01, 7.2965688e-01]],\n",
       " \n",
       "         [[6.2156862e-01, 4.5196077e-01, 4.3137255e-01],\n",
       "          [6.1960787e-01, 4.5588234e-01, 4.0294117e-01],\n",
       "          [6.0049021e-01, 4.5147058e-01, 3.5049018e-01],\n",
       "          ...,\n",
       "          [6.0049021e-01, 6.3774508e-01, 6.8382353e-01],\n",
       "          [4.7303921e-01, 4.9460784e-01, 5.2009803e-01],\n",
       "          [7.4093139e-01, 7.3112744e-01, 7.4093139e-01]]],\n",
       " \n",
       " \n",
       "        ...,\n",
       " \n",
       " \n",
       "        [[[7.3039216e-01, 7.5784314e-01, 7.2818625e-01],\n",
       "          [7.4632353e-01, 7.6568627e-01, 7.2990197e-01],\n",
       "          [7.6053923e-01, 7.6151961e-01, 7.3014706e-01],\n",
       "          ...,\n",
       "          [7.9387254e-01, 7.9779410e-01, 7.6642156e-01],\n",
       "          [7.9142159e-01, 7.9534316e-01, 7.6397061e-01],\n",
       "          [7.9019606e-01, 7.9411763e-01, 7.7058822e-01]],\n",
       " \n",
       "         [[7.2696078e-01, 7.6617646e-01, 7.3088235e-01],\n",
       "          [7.3995095e-01, 7.6053923e-01, 7.2034311e-01],\n",
       "          [7.5955880e-01, 7.6838237e-01, 7.2524512e-01],\n",
       "          ...,\n",
       "          [7.9240197e-01, 7.9632354e-01, 7.6495099e-01],\n",
       "          [7.9607844e-01, 8.0000001e-01, 7.7009803e-01],\n",
       "          [7.9215688e-01, 8.0392158e-01, 7.7647060e-01]],\n",
       " \n",
       "         [[7.2892159e-01, 7.6740193e-01, 7.3750001e-01],\n",
       "          [7.3897058e-01, 7.6838237e-01, 7.2622550e-01],\n",
       "          [7.5514704e-01, 7.6838237e-01, 7.3039216e-01],\n",
       "          ...,\n",
       "          [7.9215688e-01, 7.9607844e-01, 7.6470590e-01],\n",
       "          [7.9093134e-01, 7.9926473e-01, 7.7156866e-01],\n",
       "          [7.9191178e-01, 8.0367649e-01, 7.7622551e-01]],\n",
       " \n",
       "         ...,\n",
       " \n",
       "         [[4.5955881e-01, 5.0857842e-01, 5.3014708e-01],\n",
       "          [4.2181373e-01, 4.7083333e-01, 4.9289215e-01],\n",
       "          [3.4436274e-01, 3.9338234e-01, 4.1691175e-01],\n",
       "          ...,\n",
       "          [6.0049021e-01, 6.0563725e-01, 5.7818627e-01],\n",
       "          [6.5784311e-01, 6.2745100e-01, 5.8529413e-01],\n",
       "          [7.0808822e-01, 6.6887254e-01, 6.2769610e-01]],\n",
       " \n",
       "         [[4.7426471e-01, 5.1740193e-01, 5.2720588e-01],\n",
       "          [4.1568628e-01, 4.6102941e-01, 4.7205883e-01],\n",
       "          [3.4558824e-01, 3.9093137e-01, 4.0784314e-01],\n",
       "          ...,\n",
       "          [5.4509807e-01, 5.4803920e-01, 5.3235292e-01],\n",
       "          [6.0637254e-01, 5.7598037e-01, 5.3382355e-01],\n",
       "          [6.3455880e-01, 5.9828430e-01, 5.4240197e-01]],\n",
       " \n",
       "         [[4.6642157e-01, 5.2132350e-01, 5.2524507e-01],\n",
       "          [4.2156863e-01, 4.7647059e-01, 4.8039216e-01],\n",
       "          [3.7352940e-01, 4.2843136e-01, 4.3235293e-01],\n",
       "          ...,\n",
       "          [5.0710785e-01, 5.1568627e-01, 5.0833333e-01],\n",
       "          [5.9705883e-01, 5.6666666e-01, 5.2647060e-01],\n",
       "          [5.9901959e-01, 5.5196077e-01, 4.9705881e-01]]],\n",
       " \n",
       " \n",
       "        [[[7.3529413e-04, 2.6960785e-03, 0.0000000e+00],\n",
       "          [0.0000000e+00, 6.8627452e-03, 0.0000000e+00],\n",
       "          [0.0000000e+00, 5.3921570e-03, 1.4705883e-03],\n",
       "          ...,\n",
       "          [0.0000000e+00, 0.0000000e+00, 0.0000000e+00],\n",
       "          [0.0000000e+00, 0.0000000e+00, 0.0000000e+00],\n",
       "          [0.0000000e+00, 0.0000000e+00, 0.0000000e+00]],\n",
       " \n",
       "         [[2.0588236e-02, 0.0000000e+00, 3.8970590e-02],\n",
       "          [2.0833334e-02, 0.0000000e+00, 1.2990196e-02],\n",
       "          [9.5588239e-03, 0.0000000e+00, 0.0000000e+00],\n",
       "          ...,\n",
       "          [0.0000000e+00, 0.0000000e+00, 0.0000000e+00],\n",
       "          [0.0000000e+00, 0.0000000e+00, 0.0000000e+00],\n",
       "          [0.0000000e+00, 0.0000000e+00, 0.0000000e+00]],\n",
       " \n",
       "         [[0.0000000e+00, 9.5588239e-03, 4.1666669e-03],\n",
       "          [4.4117649e-03, 2.2058825e-03, 1.9607844e-03],\n",
       "          [7.3529413e-04, 0.0000000e+00, 1.4705883e-03],\n",
       "          ...,\n",
       "          [0.0000000e+00, 0.0000000e+00, 0.0000000e+00],\n",
       "          [0.0000000e+00, 0.0000000e+00, 0.0000000e+00],\n",
       "          [0.0000000e+00, 0.0000000e+00, 0.0000000e+00]],\n",
       " \n",
       "         ...,\n",
       " \n",
       "         [[0.0000000e+00, 0.0000000e+00, 0.0000000e+00],\n",
       "          [0.0000000e+00, 0.0000000e+00, 0.0000000e+00],\n",
       "          [0.0000000e+00, 6.1274511e-03, 1.3970588e-02],\n",
       "          ...,\n",
       "          [0.0000000e+00, 0.0000000e+00, 0.0000000e+00],\n",
       "          [0.0000000e+00, 0.0000000e+00, 0.0000000e+00],\n",
       "          [0.0000000e+00, 0.0000000e+00, 0.0000000e+00]],\n",
       " \n",
       "         [[0.0000000e+00, 2.9411765e-03, 0.0000000e+00],\n",
       "          [0.0000000e+00, 0.0000000e+00, 0.0000000e+00],\n",
       "          [4.4117649e-03, 9.0686278e-03, 1.3970588e-02],\n",
       "          ...,\n",
       "          [0.0000000e+00, 0.0000000e+00, 0.0000000e+00],\n",
       "          [0.0000000e+00, 0.0000000e+00, 0.0000000e+00],\n",
       "          [0.0000000e+00, 0.0000000e+00, 0.0000000e+00]],\n",
       " \n",
       "         [[0.0000000e+00, 3.9215689e-03, 0.0000000e+00],\n",
       "          [0.0000000e+00, 0.0000000e+00, 0.0000000e+00],\n",
       "          [1.5686275e-02, 1.8627452e-02, 2.3529412e-02],\n",
       "          ...,\n",
       "          [0.0000000e+00, 0.0000000e+00, 0.0000000e+00],\n",
       "          [0.0000000e+00, 0.0000000e+00, 0.0000000e+00],\n",
       "          [0.0000000e+00, 0.0000000e+00, 0.0000000e+00]]],\n",
       " \n",
       " \n",
       "        [[[7.8357846e-01, 7.9534316e-01, 7.6789218e-01],\n",
       "          [7.8750002e-01, 7.9730392e-01, 7.6299018e-01],\n",
       "          [7.8823531e-01, 7.9215688e-01, 7.6666665e-01],\n",
       "          ...,\n",
       "          [8.3529413e-01, 8.3921570e-01, 8.1960785e-01],\n",
       "          [8.3161765e-01, 8.3553922e-01, 8.1593138e-01],\n",
       "          [8.3137256e-01, 8.3137256e-01, 8.2352942e-01]],\n",
       " \n",
       "         [[7.8529412e-01, 7.9828429e-01, 7.7377450e-01],\n",
       "          [7.8700978e-01, 7.9632354e-01, 7.7156866e-01],\n",
       "          [7.9068625e-01, 7.9509807e-01, 7.7132350e-01],\n",
       "          ...,\n",
       "          [8.2450980e-01, 8.3039218e-01, 8.1519610e-01],\n",
       "          [8.3063728e-01, 8.3063728e-01, 8.2279414e-01],\n",
       "          [8.3137256e-01, 8.3137256e-01, 8.2352942e-01]],\n",
       " \n",
       "         [[7.7818626e-01, 8.0049020e-01, 7.9289216e-01],\n",
       "          [7.7352941e-01, 7.8725493e-01, 7.8137255e-01],\n",
       "          [7.7818626e-01, 7.9485291e-01, 7.7818626e-01],\n",
       "          ...,\n",
       "          [8.2696080e-01, 8.3431375e-01, 8.2279414e-01],\n",
       "          [8.2843137e-01, 8.2990193e-01, 8.2132351e-01],\n",
       "          [8.2745099e-01, 8.2745099e-01, 8.1960785e-01]],\n",
       " \n",
       "         ...,\n",
       " \n",
       "         [[5.1029414e-01, 5.5343139e-01, 5.7058823e-01],\n",
       "          [4.7573531e-01, 5.1887256e-01, 5.3259802e-01],\n",
       "          [3.9436275e-01, 4.3750000e-01, 4.5122549e-01],\n",
       "          ...,\n",
       "          [6.7990196e-01, 6.7941177e-01, 6.6936272e-01],\n",
       "          [6.7009807e-01, 6.7328429e-01, 6.5588236e-01],\n",
       "          [6.6372550e-01, 6.7058825e-01, 6.4999998e-01]],\n",
       " \n",
       "         [[5.0906861e-01, 5.5220586e-01, 5.6200981e-01],\n",
       "          [4.8382354e-01, 5.2696079e-01, 5.3627449e-01],\n",
       "          [4.0367648e-01, 4.4681373e-01, 4.6053922e-01],\n",
       "          ...,\n",
       "          [7.2475493e-01, 7.1495098e-01, 6.9632351e-01],\n",
       "          [6.8651962e-01, 6.7867649e-01, 6.5980393e-01],\n",
       "          [6.7083335e-01, 6.6372550e-01, 6.4166665e-01]],\n",
       " \n",
       "         [[5.0588238e-01, 5.6078434e-01, 5.7254905e-01],\n",
       "          [4.8602942e-01, 5.2916664e-01, 5.4681373e-01],\n",
       "          [4.2058823e-01, 4.6372548e-01, 4.8725489e-01],\n",
       "          ...,\n",
       "          [8.0808824e-01, 7.8504902e-01, 7.6151961e-01],\n",
       "          [8.0514705e-01, 7.7916664e-01, 7.5563723e-01],\n",
       "          [7.5637257e-01, 7.3039216e-01, 7.0686275e-01]]]], dtype=float32),\n",
       " array([1., 0., 0., 0., 0., 1., 1., 1., 0., 0., 0., 0., 1., 1., 0., 1.],\n",
       "       dtype=float32))"
      ]
     },
     "execution_count": 55,
     "metadata": {},
     "output_type": "execute_result"
    }
   ],
   "source": [
    "batch_1 = test_batch.next()\n",
    "batch_1"
   ]
  },
  {
   "cell_type": "code",
   "execution_count": 56,
   "metadata": {},
   "outputs": [
    {
     "data": {
      "text/plain": [
       "2"
      ]
     },
     "execution_count": 56,
     "metadata": {},
     "output_type": "execute_result"
    }
   ],
   "source": [
    "# think of this as a features\n",
    "x = batch_1[:2]\n",
    "len(x)"
   ]
  },
  {
   "cell_type": "code",
   "execution_count": 57,
   "metadata": {},
   "outputs": [
    {
     "data": {
      "text/plain": [
       "(2, 16, 100, 100, 3)"
      ]
     },
     "execution_count": 57,
     "metadata": {},
     "output_type": "execute_result"
    }
   ],
   "source": [
    "# no. of components (anchor,positive/negative), batch size, shape (100x100x3)\n",
    "np.array(x).shape"
   ]
  },
  {
   "cell_type": "code",
   "execution_count": 58,
   "metadata": {},
   "outputs": [
    {
     "data": {
      "text/plain": [
       "array([1., 0., 0., 0., 0., 1., 1., 1., 0., 0., 0., 0., 1., 1., 0., 1.],\n",
       "      dtype=float32)"
      ]
     },
     "execution_count": 58,
     "metadata": {},
     "output_type": "execute_result"
    }
   ],
   "source": [
    "# just label\n",
    "y = batch_1[2]\n",
    "y"
   ]
  },
  {
   "cell_type": "markdown",
   "metadata": {},
   "source": [
    "## 5.4 Build Training Loop"
   ]
  },
  {
   "cell_type": "markdown",
   "metadata": {},
   "source": [
    "apply train step on every epoch, entire data set oof epoches "
   ]
  },
  {
   "cell_type": "code",
   "execution_count": 59,
   "metadata": {},
   "outputs": [],
   "source": [
    "def trian(data, EPOCHS):\n",
    "    # Loop through epochs\n",
    "    for epoch in range(1, EPOCHS+1):\n",
    "        # print what epoch we up to\n",
    "        print('\\n Epoch {}/{}'.format(epoch, EPOCHS))\n",
    "        # show the prograce bar, if we rape this in a model we would not do it explicitly\n",
    "        progbar = tf.keras.utils.Progbar(len(data))\n",
    "\n",
    "        # Loop through each batch\n",
    "        # idx: counter, batch: actual batch\n",
    "        for idx, batch in enumerate(data):\n",
    "            # Run train step here\n",
    "            train_step(batch)\n",
    "            progbar.update(idx+1)\n",
    "\n",
    "        # Save checkpoint\n",
    "        if epoch % 10 == 0:\n",
    "            checkpoint.save(file_prefix=checkpoints_prefix)"
   ]
  },
  {
   "cell_type": "markdown",
   "metadata": {},
   "source": [
    "## 5.5 Kickoff Trianing"
   ]
  },
  {
   "cell_type": "code",
   "execution_count": 60,
   "metadata": {},
   "outputs": [],
   "source": [
    "EPOCHS = 50"
   ]
  },
  {
   "cell_type": "code",
   "execution_count": 61,
   "metadata": {},
   "outputs": [
    {
     "name": "stdout",
     "output_type": "stream",
     "text": [
      "\n",
      " Epoch 1/50\n",
      "Tensor(\"binary_crossentropy/weighted_loss/value:0\", shape=(), dtype=float32)\n",
      "Tensor(\"binary_crossentropy/weighted_loss/value:0\", shape=(), dtype=float32)\n",
      "26/27 [===========================>..] - ETA: 0sTensor(\"binary_crossentropy/weighted_loss/value:0\", shape=(), dtype=float32)\n",
      "27/27 [==============================] - 20s 362ms/step\n",
      "\n",
      " Epoch 2/50\n",
      "27/27 [==============================] - 9s 342ms/step\n",
      "\n",
      " Epoch 3/50\n",
      "27/27 [==============================] - 9s 337ms/step\n",
      "\n",
      " Epoch 4/50\n",
      "27/27 [==============================] - 9s 331ms/step\n",
      "\n",
      " Epoch 5/50\n",
      "27/27 [==============================] - 9s 335ms/step\n",
      "\n",
      " Epoch 6/50\n",
      "27/27 [==============================] - 9s 335ms/step\n",
      "\n",
      " Epoch 7/50\n",
      "27/27 [==============================] - 9s 333ms/step\n",
      "\n",
      " Epoch 8/50\n",
      "27/27 [==============================] - 9s 335ms/step\n",
      "\n",
      " Epoch 9/50\n",
      "27/27 [==============================] - 9s 333ms/step\n",
      "\n",
      " Epoch 10/50\n",
      "27/27 [==============================] - 9s 333ms/step\n",
      "\n",
      " Epoch 11/50\n",
      "27/27 [==============================] - 9s 335ms/step\n",
      "\n",
      " Epoch 12/50\n",
      "27/27 [==============================] - 9s 335ms/step\n",
      "\n",
      " Epoch 13/50\n",
      "27/27 [==============================] - 9s 336ms/step\n",
      "\n",
      " Epoch 14/50\n",
      "27/27 [==============================] - 9s 335ms/step\n",
      "\n",
      " Epoch 15/50\n",
      "27/27 [==============================] - 9s 334ms/step\n",
      "\n",
      " Epoch 16/50\n",
      "27/27 [==============================] - 9s 335ms/step\n",
      "\n",
      " Epoch 17/50\n",
      "27/27 [==============================] - 9s 335ms/step\n",
      "\n",
      " Epoch 18/50\n",
      "27/27 [==============================] - 9s 336ms/step\n",
      "\n",
      " Epoch 19/50\n",
      "27/27 [==============================] - 9s 336ms/step\n",
      "\n",
      " Epoch 20/50\n",
      "27/27 [==============================] - 9s 336ms/step\n",
      "\n",
      " Epoch 21/50\n",
      "27/27 [==============================] - 9s 334ms/step\n",
      "\n",
      " Epoch 22/50\n",
      "27/27 [==============================] - 9s 334ms/step\n",
      "\n",
      " Epoch 23/50\n",
      "27/27 [==============================] - 9s 334ms/step\n",
      "\n",
      " Epoch 24/50\n",
      "27/27 [==============================] - 8s 322ms/step\n",
      "\n",
      " Epoch 25/50\n",
      "27/27 [==============================] - 8s 312ms/step\n",
      "\n",
      " Epoch 26/50\n",
      "27/27 [==============================] - 8s 313ms/step\n",
      "\n",
      " Epoch 27/50\n",
      "27/27 [==============================] - 8s 313ms/step\n",
      "\n",
      " Epoch 28/50\n",
      "27/27 [==============================] - 8s 311ms/step\n",
      "\n",
      " Epoch 29/50\n",
      "27/27 [==============================] - 8s 310ms/step\n",
      "\n",
      " Epoch 30/50\n",
      "27/27 [==============================] - 8s 310ms/step\n",
      "\n",
      " Epoch 31/50\n",
      "27/27 [==============================] - 8s 309ms/step\n",
      "\n",
      " Epoch 32/50\n",
      "27/27 [==============================] - 8s 310ms/step\n",
      "\n",
      " Epoch 33/50\n",
      "27/27 [==============================] - 8s 311ms/step\n",
      "\n",
      " Epoch 34/50\n",
      "27/27 [==============================] - 8s 311ms/step\n",
      "\n",
      " Epoch 35/50\n",
      "27/27 [==============================] - 8s 310ms/step\n",
      "\n",
      " Epoch 36/50\n",
      "27/27 [==============================] - 8s 310ms/step\n",
      "\n",
      " Epoch 37/50\n",
      "27/27 [==============================] - 8s 310ms/step\n",
      "\n",
      " Epoch 38/50\n",
      "27/27 [==============================] - 8s 310ms/step\n",
      "\n",
      " Epoch 39/50\n",
      "27/27 [==============================] - 8s 309ms/step\n",
      "\n",
      " Epoch 40/50\n",
      "27/27 [==============================] - 8s 310ms/step\n",
      "\n",
      " Epoch 41/50\n",
      "27/27 [==============================] - 8s 310ms/step\n",
      "\n",
      " Epoch 42/50\n",
      "27/27 [==============================] - 8s 311ms/step\n",
      "\n",
      " Epoch 43/50\n",
      "27/27 [==============================] - 8s 310ms/step\n",
      "\n",
      " Epoch 44/50\n",
      "27/27 [==============================] - 8s 311ms/step\n",
      "\n",
      " Epoch 45/50\n",
      "27/27 [==============================] - 8s 311ms/step\n",
      "\n",
      " Epoch 46/50\n",
      "27/27 [==============================] - 8s 311ms/step\n",
      "\n",
      " Epoch 47/50\n",
      "27/27 [==============================] - 8s 309ms/step\n",
      "\n",
      " Epoch 48/50\n",
      "27/27 [==============================] - 8s 310ms/step\n",
      "\n",
      " Epoch 49/50\n",
      "27/27 [==============================] - 8s 310ms/step\n",
      "\n",
      " Epoch 50/50\n",
      "27/27 [==============================] - 8s 310ms/step\n"
     ]
    }
   ],
   "source": [
    "trian(train_data,EPOCHS)"
   ]
  },
  {
   "cell_type": "markdown",
   "metadata": {},
   "source": [
    "We need something called  eager execution to print the loss"
   ]
  },
  {
   "cell_type": "code",
   "execution_count": null,
   "metadata": {},
   "outputs": [],
   "source": []
  }
 ],
 "metadata": {
  "accelerator": "GPU",
  "colab": {
   "collapsed_sections": [],
   "provenance": []
  },
  "kernelspec": {
   "display_name": "Python 3.8.10 64-bit",
   "language": "python",
   "name": "python3"
  },
  "language_info": {
   "codemirror_mode": {
    "name": "ipython",
    "version": 3
   },
   "file_extension": ".py",
   "mimetype": "text/x-python",
   "name": "python",
   "nbconvert_exporter": "python",
   "pygments_lexer": "ipython3",
   "version": "3.8.10"
  },
  "vscode": {
   "interpreter": {
    "hash": "25a19fbe0a9132dfb9279d48d161753c6352f8f9478c2e74383d340069b907c3"
   }
  }
 },
 "nbformat": 4,
 "nbformat_minor": 1
}
