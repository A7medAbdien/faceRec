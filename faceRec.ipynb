{
 "cells": [
  {
   "cell_type": "markdown",
   "metadata": {
    "id": "zv3-hH5AdGEl"
   },
   "source": [
    "## Things do not understand\n",
    "\n",
    "1. sequential API vs functional API\n",
    "2. Siamese Neural Network\n",
    "3. convolution neural network\n",
    "4. Memory growth of GPU \n",
    "5. virtual environment\n",
    "6. Scaling\n",
    "7. data.cache()\n",
    "8. train_data.prefetch(8)\n",
    "9. redundant naming\n",
    "10. create a trianing model"
   ]
  },
  {
   "cell_type": "markdown",
   "metadata": {
    "id": "RwmJf0ADAQYv"
   },
   "source": [
    "## New things\n",
    "\n",
    "1. checking my GPU\n",
    "2. moving files\n",
    "3. cv2\n",
    "4. each python version works with TF version\n",
    "5. using tf.data.Dataset\n",
    "6. zip and *\n",
    "7. tf.data.Dataset.from_tensor_slices"
   ]
  },
  {
   "cell_type": "markdown",
   "metadata": {
    "id": "sB9R7siNUM_R"
   },
   "source": [
    "# 1. Setup"
   ]
  },
  {
   "cell_type": "markdown",
   "metadata": {
    "id": "ya3cbzf7UQ7j"
   },
   "source": [
    "## 1.1 Install Dependencies"
   ]
  },
  {
   "cell_type": "code",
   "execution_count": 1,
   "metadata": {
    "colab": {
     "base_uri": "https://localhost:8080/",
     "height": 1000
    },
    "id": "FL504KSPS-rT",
    "outputId": "28516073-0884-4e9c-976e-42f4f428ed48"
   },
   "outputs": [
    {
     "name": "stdout",
     "output_type": "stream",
     "text": [
      "Requirement already satisfied: tensorflow==2.4.1 in c:\\users\\bashr\\weekly projects\\facerec\\lib\\site-packages (2.4.1)\n",
      "Requirement already satisfied: tensorflow-gpu==2.4.1 in c:\\users\\bashr\\weekly projects\\facerec\\lib\\site-packages (2.4.1)\n",
      "Requirement already satisfied: opencv-python in c:\\users\\bashr\\weekly projects\\facerec\\lib\\site-packages (4.6.0.66)\n",
      "Requirement already satisfied: matplotlib in c:\\users\\bashr\\weekly projects\\facerec\\lib\\site-packages (3.6.0)\n",
      "Requirement already satisfied: typing-extensions~=3.7.4 in c:\\users\\bashr\\weekly projects\\facerec\\lib\\site-packages (from tensorflow==2.4.1) (3.7.4.3)\n",
      "Requirement already satisfied: wheel~=0.35 in c:\\users\\bashr\\weekly projects\\facerec\\lib\\site-packages (from tensorflow==2.4.1) (0.37.1)\n",
      "Requirement already satisfied: absl-py~=0.10 in c:\\users\\bashr\\weekly projects\\facerec\\lib\\site-packages (from tensorflow==2.4.1) (0.15.0)\n",
      "Requirement already satisfied: numpy~=1.19.2 in c:\\users\\bashr\\weekly projects\\facerec\\lib\\site-packages (from tensorflow==2.4.1) (1.19.5)\n",
      "Requirement already satisfied: google-pasta~=0.2 in c:\\users\\bashr\\weekly projects\\facerec\\lib\\site-packages (from tensorflow==2.4.1) (0.2.0)\n",
      "Requirement already satisfied: gast==0.3.3 in c:\\users\\bashr\\weekly projects\\facerec\\lib\\site-packages (from tensorflow==2.4.1) (0.3.3)\n",
      "Requirement already satisfied: astunparse~=1.6.3 in c:\\users\\bashr\\weekly projects\\facerec\\lib\\site-packages (from tensorflow==2.4.1) (1.6.3)\n",
      "Requirement already satisfied: h5py~=2.10.0 in c:\\users\\bashr\\weekly projects\\facerec\\lib\\site-packages (from tensorflow==2.4.1) (2.10.0)\n",
      "Requirement already satisfied: keras-preprocessing~=1.1.2 in c:\\users\\bashr\\weekly projects\\facerec\\lib\\site-packages (from tensorflow==2.4.1) (1.1.2)\n",
      "Requirement already satisfied: tensorboard~=2.4 in c:\\users\\bashr\\weekly projects\\facerec\\lib\\site-packages (from tensorflow==2.4.1) (2.10.0)\n",
      "Requirement already satisfied: tensorflow-estimator<2.5.0,>=2.4.0 in c:\\users\\bashr\\weekly projects\\facerec\\lib\\site-packages (from tensorflow==2.4.1) (2.4.0)\n",
      "Requirement already satisfied: wrapt~=1.12.1 in c:\\users\\bashr\\weekly projects\\facerec\\lib\\site-packages (from tensorflow==2.4.1) (1.12.1)\n",
      "Requirement already satisfied: opt-einsum~=3.3.0 in c:\\users\\bashr\\weekly projects\\facerec\\lib\\site-packages (from tensorflow==2.4.1) (3.3.0)\n",
      "Requirement already satisfied: flatbuffers~=1.12.0 in c:\\users\\bashr\\weekly projects\\facerec\\lib\\site-packages (from tensorflow==2.4.1) (1.12)\n",
      "Requirement already satisfied: grpcio~=1.32.0 in c:\\users\\bashr\\weekly projects\\facerec\\lib\\site-packages (from tensorflow==2.4.1) (1.32.0)\n",
      "Requirement already satisfied: protobuf>=3.9.2 in c:\\users\\bashr\\weekly projects\\facerec\\lib\\site-packages (from tensorflow==2.4.1) (3.19.5)\n",
      "Requirement already satisfied: termcolor~=1.1.0 in c:\\users\\bashr\\weekly projects\\facerec\\lib\\site-packages (from tensorflow==2.4.1) (1.1.0)\n",
      "Requirement already satisfied: six~=1.15.0 in c:\\users\\bashr\\weekly projects\\facerec\\lib\\site-packages (from tensorflow==2.4.1) (1.15.0)\n",
      "Requirement already satisfied: packaging>=20.0 in c:\\users\\bashr\\weekly projects\\facerec\\lib\\site-packages (from matplotlib) (21.3)\n",
      "Requirement already satisfied: cycler>=0.10 in c:\\users\\bashr\\weekly projects\\facerec\\lib\\site-packages (from matplotlib) (0.11.0)\n",
      "Requirement already satisfied: fonttools>=4.22.0 in c:\\users\\bashr\\weekly projects\\facerec\\lib\\site-packages (from matplotlib) (4.37.4)\n",
      "Requirement already satisfied: contourpy>=1.0.1 in c:\\users\\bashr\\weekly projects\\facerec\\lib\\site-packages (from matplotlib) (1.0.5)\n",
      "Requirement already satisfied: pyparsing>=2.2.1 in c:\\users\\bashr\\weekly projects\\facerec\\lib\\site-packages (from matplotlib) (3.0.9)\n",
      "Requirement already satisfied: pillow>=6.2.0 in c:\\users\\bashr\\weekly projects\\facerec\\lib\\site-packages (from matplotlib) (9.2.0)\n",
      "Requirement already satisfied: kiwisolver>=1.0.1 in c:\\users\\bashr\\weekly projects\\facerec\\lib\\site-packages (from matplotlib) (1.4.4)\n",
      "Requirement already satisfied: python-dateutil>=2.7 in c:\\users\\bashr\\weekly projects\\facerec\\lib\\site-packages (from matplotlib) (2.8.2)\n",
      "Requirement already satisfied: tensorboard-data-server<0.7.0,>=0.6.0 in c:\\users\\bashr\\weekly projects\\facerec\\lib\\site-packages (from tensorboard~=2.4->tensorflow==2.4.1) (0.6.1)\n",
      "Requirement already satisfied: tensorboard-plugin-wit>=1.6.0 in c:\\users\\bashr\\weekly projects\\facerec\\lib\\site-packages (from tensorboard~=2.4->tensorflow==2.4.1) (1.8.1)\n",
      "Requirement already satisfied: requests<3,>=2.21.0 in c:\\users\\bashr\\weekly projects\\facerec\\lib\\site-packages (from tensorboard~=2.4->tensorflow==2.4.1) (2.28.1)\n",
      "Requirement already satisfied: werkzeug>=1.0.1 in c:\\users\\bashr\\weekly projects\\facerec\\lib\\site-packages (from tensorboard~=2.4->tensorflow==2.4.1) (2.2.2)\n",
      "Requirement already satisfied: google-auth<3,>=1.6.3 in c:\\users\\bashr\\weekly projects\\facerec\\lib\\site-packages (from tensorboard~=2.4->tensorflow==2.4.1) (2.11.1)\n",
      "Requirement already satisfied: setuptools>=41.0.0 in c:\\users\\bashr\\weekly projects\\facerec\\lib\\site-packages (from tensorboard~=2.4->tensorflow==2.4.1) (65.3.0)\n",
      "Requirement already satisfied: google-auth-oauthlib<0.5,>=0.4.1 in c:\\users\\bashr\\weekly projects\\facerec\\lib\\site-packages (from tensorboard~=2.4->tensorflow==2.4.1) (0.4.6)\n",
      "Requirement already satisfied: markdown>=2.6.8 in c:\\users\\bashr\\weekly projects\\facerec\\lib\\site-packages (from tensorboard~=2.4->tensorflow==2.4.1) (3.4.1)\n",
      "Requirement already satisfied: pyasn1-modules>=0.2.1 in c:\\users\\bashr\\weekly projects\\facerec\\lib\\site-packages (from google-auth<3,>=1.6.3->tensorboard~=2.4->tensorflow==2.4.1) (0.2.8)\n",
      "Requirement already satisfied: cachetools<6.0,>=2.0.0 in c:\\users\\bashr\\weekly projects\\facerec\\lib\\site-packages (from google-auth<3,>=1.6.3->tensorboard~=2.4->tensorflow==2.4.1) (5.2.0)\n",
      "Requirement already satisfied: rsa<5,>=3.1.4 in c:\\users\\bashr\\weekly projects\\facerec\\lib\\site-packages (from google-auth<3,>=1.6.3->tensorboard~=2.4->tensorflow==2.4.1) (4.9)\n",
      "Requirement already satisfied: requests-oauthlib>=0.7.0 in c:\\users\\bashr\\weekly projects\\facerec\\lib\\site-packages (from google-auth-oauthlib<0.5,>=0.4.1->tensorboard~=2.4->tensorflow==2.4.1) (1.3.1)\n",
      "Requirement already satisfied: importlib-metadata>=4.4 in c:\\users\\bashr\\weekly projects\\facerec\\lib\\site-packages (from markdown>=2.6.8->tensorboard~=2.4->tensorflow==2.4.1) (4.12.0)\n",
      "Requirement already satisfied: certifi>=2017.4.17 in c:\\users\\bashr\\weekly projects\\facerec\\lib\\site-packages (from requests<3,>=2.21.0->tensorboard~=2.4->tensorflow==2.4.1) (2022.9.14)\n",
      "Requirement already satisfied: idna<4,>=2.5 in c:\\users\\bashr\\weekly projects\\facerec\\lib\\site-packages (from requests<3,>=2.21.0->tensorboard~=2.4->tensorflow==2.4.1) (3.4)\n",
      "Requirement already satisfied: urllib3<1.27,>=1.21.1 in c:\\users\\bashr\\weekly projects\\facerec\\lib\\site-packages (from requests<3,>=2.21.0->tensorboard~=2.4->tensorflow==2.4.1) (1.26.12)\n",
      "Requirement already satisfied: charset-normalizer<3,>=2 in c:\\users\\bashr\\weekly projects\\facerec\\lib\\site-packages (from requests<3,>=2.21.0->tensorboard~=2.4->tensorflow==2.4.1) (2.1.1)\n",
      "Requirement already satisfied: MarkupSafe>=2.1.1 in c:\\users\\bashr\\weekly projects\\facerec\\lib\\site-packages (from werkzeug>=1.0.1->tensorboard~=2.4->tensorflow==2.4.1) (2.1.1)\n",
      "Requirement already satisfied: zipp>=0.5 in c:\\users\\bashr\\weekly projects\\facerec\\lib\\site-packages (from importlib-metadata>=4.4->markdown>=2.6.8->tensorboard~=2.4->tensorflow==2.4.1) (3.8.1)\n",
      "Requirement already satisfied: pyasn1<0.5.0,>=0.4.6 in c:\\users\\bashr\\weekly projects\\facerec\\lib\\site-packages (from pyasn1-modules>=0.2.1->google-auth<3,>=1.6.3->tensorboard~=2.4->tensorflow==2.4.1) (0.4.8)\n",
      "Requirement already satisfied: oauthlib>=3.0.0 in c:\\users\\bashr\\weekly projects\\facerec\\lib\\site-packages (from requests-oauthlib>=0.7.0->google-auth-oauthlib<0.5,>=0.4.1->tensorboard~=2.4->tensorflow==2.4.1) (3.2.1)\n",
      "Note: you may need to restart the kernel to use updated packages.\n"
     ]
    }
   ],
   "source": [
    "%pip install tensorflow==2.4.1 tensorflow-gpu==2.4.1 opencv-python matplotlib"
   ]
  },
  {
   "cell_type": "markdown",
   "metadata": {
    "id": "qyHxzU7iVNm6"
   },
   "source": [
    "## 1.2 import dependencies"
   ]
  },
  {
   "cell_type": "markdown",
   "metadata": {
    "id": "Xi5eLrhQbjfL"
   },
   "source": [
    "Standerd dependancies"
   ]
  },
  {
   "cell_type": "code",
   "execution_count": 2,
   "metadata": {
    "id": "9SdIxclrVSeP"
   },
   "outputs": [],
   "source": [
    "# opencv will give us image process capabilities, and we needs it for testing\n",
    "import cv2\n",
    "# it abstact the OS from our python code! makes it a whole heap, and easier to work with different directories and different file paths\n",
    "import os\n",
    "# ganerate random data\n",
    "import random\n",
    "# great when working with arrays\n",
    "import numpy as np\n",
    "# visualization\n",
    "from matplotlib import pyplot as plt\n",
    "# nameing images\n",
    "import uuid"
   ]
  },
  {
   "cell_type": "markdown",
   "metadata": {
    "id": "IyNGJ7EEbohj"
   },
   "source": [
    "### Transorflow Ddpendencies\n",
    "\n",
    "there is a sequintial API, and functional API. fancional API, usefull for hardcore deep learning models\n"
   ]
  },
  {
   "cell_type": "code",
   "execution_count": 3,
   "metadata": {
    "id": "Hl9z_heUbuoI"
   },
   "outputs": [],
   "source": [
    "from tensorflow.keras.models import Model\n",
    "from tensorflow.keras.layers import Layer, Conv2D, Dense, MaxPooling2D, Input, Flatten\n",
    "import tensorflow as tf\n",
    "from tensorflow.keras.metrics import Precision, Recall\n"
   ]
  },
  {
   "cell_type": "markdown",
   "metadata": {
    "id": "Y8Dx9oVSe5HA"
   },
   "source": [
    "Model: Model(inputs=[inputimage, verificationimage], outputs=[0,1])\n",
    "\n",
    "Layer: high level class, allows to define a cusom layer, class L1Dist(Layer)\n",
    "\n",
    "Conv2v: allow convolution, convolutional nural newtwork\n",
    "\n",
    "Dense: give us fully connected layer\n",
    "\n",
    "MaxPooling: shrinks the information \n",
    "\n",
    "Input: Input(shape=)\n",
    "\n",
    "flatten: flatten the data into a single dimension layer, allows to pass the convolutional neural network data to dense layer"
   ]
  },
  {
   "cell_type": "markdown",
   "metadata": {
    "id": "FMtQ_W89g9rb"
   },
   "source": [
    "## 1.3 Set GPU Growth"
   ]
  },
  {
   "cell_type": "markdown",
   "metadata": {},
   "source": [
    "limits how much vram tensorflow can use, don't let TF to go crazy"
   ]
  },
  {
   "cell_type": "code",
   "execution_count": 4,
   "metadata": {
    "id": "2Nf_6AyGePEP"
   },
   "outputs": [],
   "source": [
    "# avoind OOM errors by setting GPU Memory Consumption Growth\n",
    "# giting all available GPUs on our machien\n",
    "gpus = tf.config.experimental.list_physical_devices('GPU')\n",
    "for gpu in gpus:\n",
    "    tf.config.experimental.set_memory_growth(gpu,True)"
   ]
  },
  {
   "cell_type": "code",
   "execution_count": 5,
   "metadata": {
    "colab": {
     "base_uri": "https://localhost:8080/"
    },
    "id": "huFIL_LtiUXM",
    "outputId": "c2f3d6d5-e04a-427e-95e3-8f0d1a6144d0"
   },
   "outputs": [
    {
     "data": {
      "text/plain": [
       "1"
      ]
     },
     "execution_count": 5,
     "metadata": {},
     "output_type": "execute_result"
    }
   ],
   "source": [
    "len(gpus)"
   ]
  },
  {
   "cell_type": "markdown",
   "metadata": {
    "id": "xusHx8Hskgf0"
   },
   "source": [
    "## 1.4 Create folder Structures"
   ]
  },
  {
   "cell_type": "markdown",
   "metadata": {},
   "source": [
    "Anchor: Unknown Input\n",
    "\n",
    "Positive: What should match\n",
    "\n",
    "Negative: What should not match"
   ]
  },
  {
   "cell_type": "code",
   "execution_count": 6,
   "metadata": {
    "id": "52CKdJqNkf28"
   },
   "outputs": [],
   "source": [
    "# Setup paths\n",
    "POS_PATH = os.path.join('data', 'positive')\n",
    "NEG_PATH = os.path.join('data', 'negative')\n",
    "ANC_PATH = os.path.join('data', 'anchoer')"
   ]
  },
  {
   "cell_type": "code",
   "execution_count": 7,
   "metadata": {
    "id": "BGAdq8eTmQ9w"
   },
   "outputs": [],
   "source": [
    "# Mke the directories, just run them first time\n",
    "# os.makedirs(POS_PATH)\n",
    "# os.makedirs(NEG_PATH)\n",
    "# os.makedirs(ANC_PATH)"
   ]
  },
  {
   "cell_type": "markdown",
   "metadata": {},
   "source": [
    "# 2. Collect positive and anchor data"
   ]
  },
  {
   "cell_type": "markdown",
   "metadata": {},
   "source": [
    "## 2.1 Untar the dataset, Collect Negative data"
   ]
  },
  {
   "cell_type": "code",
   "execution_count": 8,
   "metadata": {
    "colab": {
     "base_uri": "https://localhost:8080/"
    },
    "id": "TMplDjBwCDuC",
    "outputId": "386e5064-8238-4759-9837-8272e3a5c8cb"
   },
   "outputs": [],
   "source": [
    "# uncompress the database, just the first time\n",
    "# !tar -xf lfw.tgz"
   ]
  },
  {
   "cell_type": "code",
   "execution_count": 9,
   "metadata": {
    "id": "1pb7UluXClG8"
   },
   "outputs": [],
   "source": [
    "# move dataset to the negative directory, just the first time\n",
    "\n",
    "# for dir in os.listdir('lfw'):\n",
    "#   for file in os.listdir(os.path.join('lfw', dir)):\n",
    "#     EX_PATH = os.path.join('lfw', dir, file)\n",
    "#     NEW_PATH = os.path.join(NEG_PATH, file)\n",
    "#     os.replace(EX_PATH, NEW_PATH)"
   ]
  },
  {
   "cell_type": "markdown",
   "metadata": {
    "id": "slAqNDmj8bE3"
   },
   "source": [
    "## 2.2 Collect Positive and Anchor data"
   ]
  },
  {
   "cell_type": "markdown",
   "metadata": {},
   "source": [
    "That will be done using the openCV to access the camera "
   ]
  },
  {
   "cell_type": "code",
   "execution_count": 10,
   "metadata": {},
   "outputs": [],
   "source": [
    "# import uuid, universally unique identity identifier, to generate unique image names\n",
    "import uuid"
   ]
  },
  {
   "cell_type": "code",
   "execution_count": 11,
   "metadata": {
    "id": "SkLFaclh9BQo"
   },
   "outputs": [],
   "source": [
    "# # establish connection with webcam, !! just the first time\n",
    "# #0 for your primary camera and 1 for your secondary camera\n",
    "# cap = cv2.VideoCapture(0)\n",
    "# # loop on every frame in our webcam\n",
    "# print(cap.isOpened())\n",
    "# while cap.isOpened():\n",
    "#     # unpack the result\n",
    "#     # ret: returned value!\n",
    "#     # frame: actual frame, the actual image\n",
    "#     ret, frame = cap.read()\n",
    "\n",
    "#     # 2. Cut down frame to 250x250px\n",
    "#     frame = frame[120:120+250, 200:200+250, :]\n",
    "    \n",
    "#     # 3. Collect anchor and positive\n",
    "#     if cv2.waitKey(1) & 0xFF == ord('p'):\n",
    "#         # Create image name\n",
    "#         imgname = os.path.join(POS_PATH, '{}.jpg'.format(uuid.uuid1()))\n",
    "#         # write out image\n",
    "#         cv2.imwrite(imgname, frame)\n",
    "\n",
    "#     if cv2.waitKey(1) & 0xFF == ord('a'):\n",
    "#         # Create image name\n",
    "#         imgname = os.path.join(ANC_PATH, '{}.jpg'.format(uuid.uuid1()))\n",
    "#         # write out image\n",
    "#         cv2.imwrite(imgname, frame)\n",
    "        \n",
    "#     # to see what we doing, it shows the image back to the screen\n",
    "#     # showing the feed from the webcam on the screen or inside cv2 frame\n",
    "#     cv2.imshow('Image Collection', frame)\n",
    "\n",
    "#     # Breaking gracefully\n",
    "#     # waitKey(1): wait 1ms\n",
    "#     # 0xFF == ord('q'): checking what key is being pressed,\n",
    "#     # unpacking what is being pressed from our keyboard\n",
    "#     if cv2.waitKey(1) & 0xFF == ord('q'):\n",
    "#         break\n",
    "\n",
    "# # release the webcam\n",
    "# cap.release()\n",
    "# # close the image show frame\n",
    "# cv2.destroyAllWindows()"
   ]
  },
  {
   "cell_type": "markdown",
   "metadata": {},
   "source": [
    "### Explination of collecting the positive and anchor images"
   ]
  },
  {
   "cell_type": "code",
   "execution_count": 12,
   "metadata": {
    "id": "gkcZLSeFHVww"
   },
   "outputs": [],
   "source": [
    "# frame.shape "
   ]
  },
  {
   "cell_type": "code",
   "execution_count": 13,
   "metadata": {
    "collapsed": true
   },
   "outputs": [],
   "source": [
    "# frame[x, y, channels]\n",
    "# plt.imshow(frame[120:120+250, 200:200+250, :])"
   ]
  },
  {
   "cell_type": "code",
   "execution_count": 14,
   "metadata": {
    "colab": {
     "base_uri": "https://localhost:8080/",
     "height": 182
    },
    "collapsed": true,
    "id": "YBEiZPo_HK4L",
    "outputId": "198b8afe-57cd-40e7-f0e3-f2cfaac8202d"
   },
   "outputs": [],
   "source": [
    "# frame before cut, the color looks diffrent because openCV have a different channel order\n",
    "# plt.imshow(frame)"
   ]
  },
  {
   "cell_type": "markdown",
   "metadata": {},
   "source": [
    "## 2.3 Data Augmentation"
   ]
  },
  {
   "cell_type": "code",
   "execution_count": 15,
   "metadata": {},
   "outputs": [],
   "source": [
    "def data_aug(img):\n",
    "    data = []\n",
    "    for i in range(9):\n",
    "        img = tf.image.stateless_random_brightness(img,max_delta=0.002, seed=(1,2))\n",
    "        img = tf.image.stateless_random_contrast(img, lower=0.6, upper=1, seed=(1,3))\n",
    "        # img = tf.image.stateless_random_crop(img, size=(20,20,3), seed=(1,2))\n",
    "        img = tf.image.stateless_random_flip_left_right(img, seed=(np.random.randint(100),np.random.randint(100)))\n",
    "        img = tf.image.stateless_random_jpeg_quality(img, min_jpeg_quality=90, max_jpeg_quality=100,seed=(np.random.randint(100),np.random.randint(100)))\n",
    "        img = tf.image.stateless_random_saturation(img, lower=0.9, upper=1, seed=(np.random.randint(100),np.random.randint(100)))\n",
    "\n",
    "        data.append(img)\n",
    "\n",
    "    return data"
   ]
  },
  {
   "cell_type": "code",
   "execution_count": 16,
   "metadata": {},
   "outputs": [],
   "source": [
    "# for file_name in os.listdir(os.path.join(ANC_PATH)):\n",
    "#     img_path = os.path.join(ANC_PATH, file_name)\n",
    "#     img = cv2.imread(img_path)\n",
    "#     augmented_images = data_aug(img)\n",
    "\n",
    "#     for image in augmented_images:\n",
    "#         cv2.imwrite(os.path.join(ANC_PATH,'{}.jpg'.format(uuid.uuid1())),image.numpy())"
   ]
  },
  {
   "cell_type": "code",
   "execution_count": 17,
   "metadata": {},
   "outputs": [],
   "source": [
    "# for file_name in os.listdir(os.path.join(POS_PATH)):\n",
    "#     img_path = os.path.join(POS_PATH, file_name)\n",
    "#     img = cv2.imread(img_path)\n",
    "#     augmented_images = data_aug(img)\n",
    "\n",
    "#     for image in augmented_images:\n",
    "#         cv2.imwrite(os.path.join(POS_PATH,'{}.jpg'.format(uuid.uuid1())),image.numpy())"
   ]
  },
  {
   "cell_type": "markdown",
   "metadata": {},
   "source": [
    "### Explination of 2.3"
   ]
  },
  {
   "cell_type": "code",
   "execution_count": 19,
   "metadata": {},
   "outputs": [],
   "source": [
    "# img_path = os.path.join(ANC_PATH,'4fbf3bfb-3bb4-11ed-ab95-7c8ae18b9df3.jpg')\n",
    "# img = cv2.imread(img_path)\n",
    "# augmented_images = data_aug(img)\n",
    "\n",
    "# for image in augmented_images:\n",
    "#     cv2.imwrite(os.path.join(ANC_PATH,'{}.jpg'.format(uuid.uuid1())),image.numpy())"
   ]
  },
  {
   "cell_type": "markdown",
   "metadata": {},
   "source": [
    "# 3. Load and Preprocessing Images"
   ]
  },
  {
   "cell_type": "markdown",
   "metadata": {},
   "source": [
    "## 3.1 Get image directories"
   ]
  },
  {
   "cell_type": "code",
   "execution_count": 20,
   "metadata": {},
   "outputs": [],
   "source": [
    "\n",
    "# using a generator te be able to loop through specific directory\n",
    "# creates a set or pipeline for files in this directory\n",
    "# it loads the image path not the image itself\n",
    "anchor = tf.data.Dataset.list_files(ANC_PATH + '\\*.jpg').take(3000)\n",
    "positive = tf.data.Dataset.list_files(POS_PATH + '\\*.jpg').take(3000)\n",
    "negative = tf.data.Dataset.list_files(NEG_PATH + '\\*.jpg').take(3000)"
   ]
  },
  {
   "cell_type": "markdown",
   "metadata": {},
   "source": [
    "### Explination of 3.1"
   ]
  },
  {
   "cell_type": "code",
   "execution_count": 21,
   "metadata": {},
   "outputs": [
    {
     "data": {
      "text/plain": [
       "'data\\\\anchoer\\\\*.jpg'"
      ]
     },
     "execution_count": 21,
     "metadata": {},
     "output_type": "execute_result"
    }
   ],
   "source": [
    "ANC_PATH + '\\*.jpg'"
   ]
  },
  {
   "cell_type": "code",
   "execution_count": 22,
   "metadata": {},
   "outputs": [
    {
     "data": {
      "text/plain": [
       "b'data\\\\anchoer\\\\7dc9e394-471e-11ed-b732-7c8ae18b9df3.jpg'"
      ]
     },
     "execution_count": 22,
     "metadata": {},
     "output_type": "execute_result"
    }
   ],
   "source": [
    "dir_test = anchor.as_numpy_iterator()\n",
    "dir_test.next()"
   ]
  },
  {
   "cell_type": "markdown",
   "metadata": {},
   "source": [
    "### How we gonna train:\n",
    "\n",
    "1. take a batch\n",
    "2. calculate error/lost\n",
    "3. calculate the gradients\n",
    "4. update wights by apply the uprated gradients\n",
    "\n",
    "this data pipeline or as_numpy_iterator allows us to this"
   ]
  },
  {
   "cell_type": "markdown",
   "metadata": {},
   "source": [
    "## 3.2 PreProcessing - Scale and Resize"
   ]
  },
  {
   "cell_type": "markdown",
   "metadata": {},
   "source": [
    "1. loads our images from directory\n",
    "2. resize it\n",
    "3. perform some scaling\n",
    "\n",
    "Converting all images value from (255-0) to (1-0), to optimize performance of neural network for get the gradient descent"
   ]
  },
  {
   "cell_type": "markdown",
   "metadata": {},
   "source": [
    "**this our goal:** dataset_generator.map(preprocessing_function)"
   ]
  },
  {
   "cell_type": "code",
   "execution_count": 23,
   "metadata": {},
   "outputs": [],
   "source": [
    "def preprocess(file_path):\n",
    "\n",
    "    # Read in image, as a bytes-like object, from file path\n",
    "    byte_img = tf.io.read_file(file_path)\n",
    "    # load in the image/\n",
    "    img = tf.io.decode_jpeg(byte_img)\n",
    "\n",
    "    # Preprocessing steps\n",
    "    # 1. resizing the image to be 100x100\n",
    "    img = tf.image.resize(img,(100,100))\n",
    "    # 2. Scale image to be between 0 and 1\n",
    "    img /= 255.0\n",
    "    return img"
   ]
  },
  {
   "cell_type": "markdown",
   "metadata": {},
   "source": [
    "### Explination of 3.2"
   ]
  },
  {
   "cell_type": "code",
   "execution_count": 22,
   "metadata": {},
   "outputs": [
    {
     "data": {
      "text/plain": [
       "<matplotlib.image.AxesImage at 0x21dbcbf8ee0>"
      ]
     },
     "execution_count": 22,
     "metadata": {},
     "output_type": "execute_result"
    },
    {
     "data": {
      "image/png": "[encoded data removed]",
      "text/plain": [
       "<Figure size 640x480 with 1 Axes>"
      ]
     },
     "metadata": {},
     "output_type": "display_data"
    }
   ],
   "source": [
    "\n",
    "img = preprocess('data\\\\anchoer\\\\88a22e88-471e-11ed-a462-7c8ae18b9df3.jpg')\n",
    "plt.imshow(img)"
   ]
  },
  {
   "cell_type": "code",
   "execution_count": 23,
   "metadata": {},
   "outputs": [
    {
     "data": {
      "text/plain": [
       "0.84068626"
      ]
     },
     "execution_count": 23,
     "metadata": {},
     "output_type": "execute_result"
    }
   ],
   "source": [
    "img.numpy().max()"
   ]
  },
  {
   "cell_type": "markdown",
   "metadata": {},
   "source": [
    "## 3.3 Create Labelled Dataset"
   ]
  },
  {
   "cell_type": "markdown",
   "metadata": {},
   "source": [
    "we gonna pass anchor with positive or negative image and get 1's or 0's\n",
    "\n",
    "(anchor, positive) => 1,1,1,1,1\n",
    "\n",
    "(anchor, negative) => 0,0,0,0,0"
   ]
  },
  {
   "cell_type": "code",
   "execution_count": 24,
   "metadata": {},
   "outputs": [],
   "source": [
    "# zip to iterate the three of them at the same time \n",
    "positive = tf.data.Dataset.zip((anchor, positive, tf.data.Dataset.from_tensor_slices(tf.ones(len(anchor)))))\n",
    "negative = tf.data.Dataset.zip((anchor, negative, tf.data.Dataset.from_tensor_slices(tf.zeros(len(anchor)))))\n",
    "data =  positive.concatenate(negative)"
   ]
  },
  {
   "cell_type": "code",
   "execution_count": 25,
   "metadata": {},
   "outputs": [],
   "source": [
    "def preprocess_twin(input_img, validation_img, label):\n",
    "    return(preprocess(input_img),preprocess(validation_img),label)"
   ]
  },
  {
   "cell_type": "markdown",
   "metadata": {},
   "source": [
    "### Explination of 3.3 Collecte labelled dataset"
   ]
  },
  {
   "cell_type": "code",
   "execution_count": 26,
   "metadata": {},
   "outputs": [
    {
     "data": {
      "text/plain": [
       "<tf.Tensor: shape=(3000,), dtype=float32, numpy=array([1., 1., 1., ..., 1., 1., 1.], dtype=float32)>"
      ]
     },
     "execution_count": 26,
     "metadata": {},
     "output_type": "execute_result"
    }
   ],
   "source": [
    "tf.ones(len(anchor))"
   ]
  },
  {
   "cell_type": "code",
   "execution_count": 27,
   "metadata": {},
   "outputs": [],
   "source": [
    "class_labels = tf.data.Dataset.from_tensor_slices([1,2,3,4])\n",
    "iterator_labels = class_labels.as_numpy_iterator()"
   ]
  },
  {
   "cell_type": "code",
   "execution_count": 28,
   "metadata": {},
   "outputs": [
    {
     "data": {
      "text/plain": [
       "1"
      ]
     },
     "execution_count": 28,
     "metadata": {},
     "output_type": "execute_result"
    }
   ],
   "source": [
    "iterator_labels.next()"
   ]
  },
  {
   "cell_type": "code",
   "execution_count": 29,
   "metadata": {},
   "outputs": [
    {
     "data": {
      "text/plain": [
       "<ConcatenateDataset shapes: ((), (), ()), types: (tf.string, tf.string, tf.float32)>"
      ]
     },
     "execution_count": 29,
     "metadata": {},
     "output_type": "execute_result"
    }
   ],
   "source": [
    "# now we have a dataset with (anchor path, +/- path, label)\n",
    "data"
   ]
  },
  {
   "cell_type": "code",
   "execution_count": 30,
   "metadata": {},
   "outputs": [],
   "source": [
    "samples = data.as_numpy_iterator()"
   ]
  },
  {
   "cell_type": "code",
   "execution_count": 31,
   "metadata": {},
   "outputs": [],
   "source": [
    "example = samples.next()"
   ]
  },
  {
   "cell_type": "code",
   "execution_count": 32,
   "metadata": {},
   "outputs": [
    {
     "data": {
      "text/plain": [
       "(<tf.Tensor: shape=(100, 100, 3), dtype=float32, numpy=\n",
       " array([[[0.65      , 0.7205882 , 0.66568625],\n",
       "         [0.6507353 , 0.72132355, 0.6664216 ],\n",
       "         [0.6492647 , 0.7139706 , 0.66789216],\n",
       "         ...,\n",
       "         [0.6428922 , 0.689951  , 0.63504905],\n",
       "         [0.639951  , 0.6870098 , 0.63210785],\n",
       "         [0.6333333 , 0.68039215, 0.6254902 ]],\n",
       " \n",
       "        [[0.6546569 , 0.7134804 , 0.6627451 ],\n",
       "         [0.65318626, 0.7139706 , 0.6629902 ],\n",
       "         [0.65833336, 0.7147059 , 0.6637255 ],\n",
       "         ...,\n",
       "         [0.6431373 , 0.68921566, 0.6343137 ],\n",
       "         [0.6431373 , 0.68921566, 0.6343137 ],\n",
       "         [0.6362745 , 0.68235296, 0.627451  ]],\n",
       " \n",
       "        [[0.6735294 , 0.7147059 , 0.6764706 ],\n",
       "         [0.6666667 , 0.7137255 , 0.6666667 ],\n",
       "         [0.66568625, 0.7147059 , 0.6666667 ],\n",
       "         ...,\n",
       "         [0.6431373 , 0.6862745 , 0.6313726 ],\n",
       "         [0.6392157 , 0.68235296, 0.627451  ],\n",
       "         [0.64215684, 0.6852941 , 0.63039213]],\n",
       " \n",
       "        ...,\n",
       " \n",
       "        [[0.4       , 0.44313726, 0.4117647 ],\n",
       "         [0.38455883, 0.42965686, 0.39142156],\n",
       "         [0.4480392 , 0.48137254, 0.43823528],\n",
       "         ...,\n",
       "         [0.44607842, 0.49313724, 0.47745097],\n",
       "         [0.45539215, 0.502451  , 0.4867647 ],\n",
       "         [0.38210785, 0.42916667, 0.4134804 ]],\n",
       " \n",
       "        [[0.38210785, 0.42892158, 0.39019608],\n",
       "         [0.37843138, 0.42352942, 0.37745097],\n",
       "         [0.45318627, 0.4875    , 0.43553922],\n",
       "         ...,\n",
       "         [0.4625    , 0.5095588 , 0.49387255],\n",
       "         [0.46519607, 0.5122549 , 0.49656862],\n",
       "         [0.40637255, 0.45343137, 0.4377451 ]],\n",
       " \n",
       "        [[0.3872549 , 0.4343137 , 0.39509803],\n",
       "         [0.3754902 , 0.42156863, 0.37254903],\n",
       "         [0.46862745, 0.5029412 , 0.44509804],\n",
       "         ...,\n",
       "         [0.4745098 , 0.52156866, 0.5058824 ],\n",
       "         [0.47549018, 0.52254903, 0.50686276],\n",
       "         [0.42941177, 0.4764706 , 0.46078432]]], dtype=float32)>,\n",
       " <tf.Tensor: shape=(100, 100, 3), dtype=float32, numpy=\n",
       " array([[[0.6745098 , 0.68235296, 0.6661765 ],\n",
       "         [0.6813725 , 0.6852941 , 0.6602941 ],\n",
       "         [0.6745098 , 0.68210787, 0.6397059 ],\n",
       "         ...,\n",
       "         [0.7080882 , 0.7169118 , 0.69534314],\n",
       "         [0.70759803, 0.71936274, 0.69191176],\n",
       "         [0.6990196 , 0.722549  , 0.68333334]],\n",
       " \n",
       "        [[0.6745098 , 0.68921566, 0.65882355],\n",
       "         [0.67401963, 0.6879902 , 0.65      ],\n",
       "         [0.67769605, 0.6872549 , 0.6397059 ],\n",
       "         ...,\n",
       "         [0.7002451 , 0.7198529 , 0.69779414],\n",
       "         [0.69779414, 0.717402  , 0.69166666],\n",
       "         [0.70098037, 0.7205882 , 0.6931372 ]],\n",
       " \n",
       "        [[0.66789216, 0.6933824 , 0.66593134],\n",
       "         [0.6718137 , 0.6960784 , 0.6637255 ],\n",
       "         [0.672549  , 0.6901961 , 0.6607843 ],\n",
       "         ...,\n",
       "         [0.6997549 , 0.71936274, 0.7031863 ],\n",
       "         [0.69730395, 0.7169118 , 0.69485295],\n",
       "         [0.69509804, 0.7205882 , 0.6931372 ]],\n",
       " \n",
       "        ...,\n",
       " \n",
       "        [[0.4122549 , 0.44754902, 0.4730392 ],\n",
       "         [0.39240196, 0.42769608, 0.45514706],\n",
       "         [0.33578432, 0.37107843, 0.3985294 ],\n",
       "         ...,\n",
       "         [0.6142157 , 0.6161765 , 0.59656864],\n",
       "         [0.5769608 , 0.57892156, 0.5593137 ],\n",
       "         [0.5803922 , 0.58235294, 0.5598039 ]],\n",
       " \n",
       "        [[0.4406863 , 0.48186275, 0.4985294 ],\n",
       "         [0.40318626, 0.44436276, 0.4629902 ],\n",
       "         [0.33308825, 0.37426472, 0.3973039 ],\n",
       "         ...,\n",
       "         [0.7117647 , 0.7019608 , 0.6764706 ],\n",
       "         [0.70612746, 0.6963235 , 0.67083335],\n",
       "         [0.68039215, 0.67058825, 0.64509803]],\n",
       " \n",
       "        [[0.43137255, 0.4745098 , 0.48235294],\n",
       "         [0.3970588 , 0.44019607, 0.45      ],\n",
       "         [0.32941177, 0.37254903, 0.39411765],\n",
       "         ...,\n",
       "         [0.6862745 , 0.672549  , 0.6460784 ],\n",
       "         [0.69485295, 0.6752451 , 0.6517157 ],\n",
       "         [0.7       , 0.68039215, 0.65686274]]], dtype=float32)>,\n",
       " 1.0)"
      ]
     },
     "execution_count": 32,
     "metadata": {},
     "output_type": "execute_result"
    }
   ],
   "source": [
    "# Apply preprocessing function\n",
    "res = preprocess_twin(*example)\n",
    "res"
   ]
  },
  {
   "cell_type": "code",
   "execution_count": 33,
   "metadata": {},
   "outputs": [
    {
     "data": {
      "text/plain": [
       "3"
      ]
     },
     "execution_count": 33,
     "metadata": {},
     "output_type": "execute_result"
    }
   ],
   "source": [
    "# we getting three things as a result, a\n",
    "len(res)"
   ]
  },
  {
   "cell_type": "code",
   "execution_count": 35,
   "metadata": {},
   "outputs": [
    {
     "data": {
      "text/plain": [
       "<matplotlib.image.AxesImage at 0x21e17f06250>"
      ]
     },
     "execution_count": 35,
     "metadata": {},
     "output_type": "execute_result"
    },
    {
     "data": {
      "image/png": "[encoded data removed]",
      "text/plain": [
       "<Figure size 640x480 with 1 Axes>"
      ]
     },
     "metadata": {},
     "output_type": "display_data"
    }
   ],
   "source": [
    "plt.imshow(res[0])"
   ]
  },
  {
   "cell_type": "markdown",
   "metadata": {},
   "source": [
    "## 3.4 Build Train and Test Partition"
   ]
  },
  {
   "cell_type": "code",
   "execution_count": 26,
   "metadata": {},
   "outputs": [
    {
     "data": {
      "text/plain": [
       "<ShuffleDataset shapes: ((100, 100, None), (100, 100, None), ()), types: (tf.float32, tf.float32, tf.float32)>"
      ]
     },
     "execution_count": 26,
     "metadata": {},
     "output_type": "execute_result"
    }
   ],
   "source": [
    "# Build dataloader pipeline\n",
    "data = data.map(preprocess_twin)\n",
    "data = data.cache()\n",
    "data = data.shuffle(buffer_size=10000)\n",
    "data"
   ]
  },
  {
   "cell_type": "code",
   "execution_count": 27,
   "metadata": {},
   "outputs": [],
   "source": [
    "# Training partition\n",
    "train_data = data.take(round(len(data)*.7))\n",
    "train_data = train_data.batch(16)\n",
    "train_data = train_data.prefetch(8)"
   ]
  },
  {
   "cell_type": "code",
   "execution_count": 28,
   "metadata": {},
   "outputs": [],
   "source": [
    "# Testing partition\n",
    "test_data = data.skip(round(len(data)*.7))\n",
    "test_data = data.take(round(len(data)*.3))\n",
    "test_data = test_data.batch(16)\n",
    "test_data = test_data.prefetch(8)"
   ]
  },
  {
   "cell_type": "markdown",
   "metadata": {},
   "source": [
    "### Explination of 3.4"
   ]
  },
  {
   "cell_type": "code",
   "execution_count": 37,
   "metadata": {},
   "outputs": [
    {
     "data": {
      "text/plain": [
       "<tensorflow.python.data.ops.dataset_ops._NumpyIterator at 0x21e17f6a340>"
      ]
     },
     "execution_count": 37,
     "metadata": {},
     "output_type": "execute_result"
    }
   ],
   "source": [
    "samples = data.as_numpy_iterator()\n",
    "samples "
   ]
  },
  {
   "cell_type": "code",
   "execution_count": 38,
   "metadata": {},
   "outputs": [
    {
     "data": {
      "text/plain": [
       "(array([[[0.7058824 , 0.7490196 , 0.69411767],\n",
       "         [0.7058824 , 0.7480392 , 0.6960784 ],\n",
       "         [0.7026961 , 0.74191177, 0.6987745 ],\n",
       "         ...,\n",
       "         [0.67034316, 0.7134804 , 0.6477941 ],\n",
       "         [0.6666667 , 0.70980394, 0.65294117],\n",
       "         [0.6754902 , 0.70686275, 0.65588236]],\n",
       " \n",
       "        [[0.69509804, 0.7382353 , 0.68333334],\n",
       "         [0.6911765 , 0.73333335, 0.6813725 ],\n",
       "         [0.70392156, 0.74313724, 0.7       ],\n",
       "         ...,\n",
       "         [0.6666667 , 0.7088235 , 0.65686274],\n",
       "         [0.66838235, 0.7105392 , 0.65857846],\n",
       "         [0.6666667 , 0.7058824 , 0.6627451 ]],\n",
       " \n",
       "        [[0.6875    , 0.73063725, 0.6757353 ],\n",
       "         [0.6872549 , 0.7294118 , 0.67745095],\n",
       "         [0.6911765 , 0.73039216, 0.6872549 ],\n",
       "         ...,\n",
       "         [0.66593134, 0.7051471 , 0.6620098 ],\n",
       "         [0.6644608 , 0.70367646, 0.6605392 ],\n",
       "         [0.65392154, 0.6990196 , 0.65294117]],\n",
       " \n",
       "        ...,\n",
       " \n",
       "        [[0.3973039 , 0.45514706, 0.44632354],\n",
       "         [0.3647059 , 0.4137255 , 0.3872549 ],\n",
       "         [0.3747549 , 0.40710783, 0.3737745 ],\n",
       "         ...,\n",
       "         [0.4595588 , 0.51053923, 0.48308823],\n",
       "         [0.49754903, 0.5485294 , 0.5210784 ],\n",
       "         [0.37843138, 0.42941177, 0.4019608 ]],\n",
       " \n",
       "        [[0.3627451 , 0.42058823, 0.4117647 ],\n",
       "         [0.36397058, 0.41299018, 0.3865196 ],\n",
       "         [0.3852941 , 0.41764706, 0.38431373],\n",
       "         ...,\n",
       "         [0.46495098, 0.51593137, 0.4884804 ],\n",
       "         [0.49754903, 0.5485294 , 0.5210784 ],\n",
       "         [0.42034313, 0.47132352, 0.44387254]],\n",
       " \n",
       "        [[0.36078432, 0.41862744, 0.40980393],\n",
       "         [0.35392156, 0.40294117, 0.3764706 ],\n",
       "         [0.4       , 0.44117647, 0.40490195],\n",
       "         ...,\n",
       "         [0.45514706, 0.5061275 , 0.47867647],\n",
       "         [0.48333332, 0.53431374, 0.50686276],\n",
       "         [0.45294118, 0.50392157, 0.4764706 ]]], dtype=float32),\n",
       " array([[[0.        , 0.        , 0.        ],\n",
       "         [0.        , 0.        , 0.        ],\n",
       "         [0.        , 0.        , 0.        ],\n",
       "         ...,\n",
       "         [0.        , 0.        , 0.        ],\n",
       "         [0.        , 0.        , 0.        ],\n",
       "         [0.        , 0.        , 0.        ]],\n",
       " \n",
       "        [[0.        , 0.        , 0.        ],\n",
       "         [0.        , 0.        , 0.        ],\n",
       "         [0.        , 0.        , 0.        ],\n",
       "         ...,\n",
       "         [0.        , 0.        , 0.        ],\n",
       "         [0.        , 0.        , 0.        ],\n",
       "         [0.        , 0.        , 0.        ]],\n",
       " \n",
       "        [[0.        , 0.        , 0.        ],\n",
       "         [0.        , 0.        , 0.        ],\n",
       "         [0.        , 0.        , 0.        ],\n",
       "         ...,\n",
       "         [0.        , 0.        , 0.        ],\n",
       "         [0.        , 0.        , 0.        ],\n",
       "         [0.        , 0.        , 0.        ]],\n",
       " \n",
       "        ...,\n",
       " \n",
       "        [[0.08259804, 0.06397059, 0.02965686],\n",
       "         [0.06372549, 0.04411765, 0.02254902],\n",
       "         [0.07205883, 0.05318628, 0.04044118],\n",
       "         ...,\n",
       "         [0.09901961, 0.09901961, 0.05980392],\n",
       "         [0.11053921, 0.11053921, 0.07132353],\n",
       "         [0.10882353, 0.10882353, 0.06960785]],\n",
       " \n",
       "        [[0.09093137, 0.06348039, 0.03210784],\n",
       "         [0.08161765, 0.05759804, 0.03602941],\n",
       "         [0.07352941, 0.05686275, 0.04411765],\n",
       "         ...,\n",
       "         [0.09828431, 0.09828431, 0.05906863],\n",
       "         [0.10686275, 0.10686275, 0.06764706],\n",
       "         [0.10588235, 0.10588235, 0.06666667]],\n",
       " \n",
       "        [[0.09509804, 0.05980392, 0.04019608],\n",
       "         [0.09607843, 0.07058824, 0.04901961],\n",
       "         [0.09215686, 0.07843138, 0.05980392],\n",
       "         ...,\n",
       "         [0.10588235, 0.10588235, 0.06666667],\n",
       "         [0.10588235, 0.10588235, 0.06666667],\n",
       "         [0.10980392, 0.10980392, 0.07058824]]], dtype=float32),\n",
       " 0.0)"
      ]
     },
     "execution_count": 38,
     "metadata": {},
     "output_type": "execute_result"
    }
   ],
   "source": [
    "example = samples.next()\n",
    "example"
   ]
  },
  {
   "cell_type": "code",
   "execution_count": 39,
   "metadata": {},
   "outputs": [
    {
     "data": {
      "text/plain": [
       "<matplotlib.image.AxesImage at 0x21e17fe7d90>"
      ]
     },
     "execution_count": 39,
     "metadata": {},
     "output_type": "execute_result"
    },
    {
     "data": {
      "image/png": "[encoded data removed]",
      "text/plain": [
       "<Figure size 640x480 with 1 Axes>"
      ]
     },
     "metadata": {},
     "output_type": "display_data"
    }
   ],
   "source": [
    "plt.imshow(example[0])"
   ]
  },
  {
   "cell_type": "code",
   "execution_count": 40,
   "metadata": {},
   "outputs": [
    {
     "data": {
      "text/plain": [
       "<matplotlib.image.AxesImage at 0x21e181f3be0>"
      ]
     },
     "execution_count": 40,
     "metadata": {},
     "output_type": "execute_result"
    },
    {
     "data": {
      "image/png": "[encoded data removed]",
      "text/plain": [
       "<Figure size 640x480 with 1 Axes>"
      ]
     },
     "metadata": {},
     "output_type": "display_data"
    }
   ],
   "source": [
    "plt.imshow(example[1])"
   ]
  },
  {
   "cell_type": "code",
   "execution_count": 41,
   "metadata": {},
   "outputs": [
    {
     "data": {
      "text/plain": [
       "0.0"
      ]
     },
     "execution_count": 41,
     "metadata": {},
     "output_type": "execute_result"
    }
   ],
   "source": [
    "example[2]"
   ]
  },
  {
   "cell_type": "code",
   "execution_count": 44,
   "metadata": {},
   "outputs": [
    {
     "data": {
      "text/plain": [
       "16"
      ]
     },
     "execution_count": 44,
     "metadata": {},
     "output_type": "execute_result"
    }
   ],
   "source": [
    "# now rather than having one image per value we have 16, no. batch\n",
    "train_sample = train_data.as_numpy_iterator()\n",
    "train_sample = train_sample.next()\n",
    "len(train_sample[0])"
   ]
  },
  {
   "cell_type": "markdown",
   "metadata": {},
   "source": [
    "# 4. Model Engineering, Build our model"
   ]
  },
  {
   "cell_type": "markdown",
   "metadata": {},
   "source": [
    "## 4.1. Build Embedding Layer"
   ]
  },
  {
   "cell_type": "markdown",
   "metadata": {},
   "source": [
    "### Our core block for building the neural network:\n",
    "\n",
    "1. Conv2D(no. flitters, filleter size, strokes=1, activation)\n",
    "\n",
    "2. MaxPooling2D(no. flitters, filleter size, strokes=1, padding),\n",
    "   * condensing down the amount of data,\n",
    "   * padding is the same in order to replicate the output shape\n",
    "  \n",
    "make_embedding: will translate the input to a feature vector"
   ]
  },
  {
   "cell_type": "code",
   "execution_count": 29,
   "metadata": {},
   "outputs": [
    {
     "name": "stdout",
     "output_type": "stream",
     "text": [
      "Model: \"embedding\"\n",
      "_________________________________________________________________\n",
      "Layer (type)                 Output Shape              Param #   \n",
      "=================================================================\n",
      "input_image (InputLayer)     [(None, 100, 100, 3)]     0         \n",
      "_________________________________________________________________\n",
      "conv2d (Conv2D)              (None, 91, 91, 64)        19264     \n",
      "_________________________________________________________________\n",
      "max_pooling2d (MaxPooling2D) (None, 46, 46, 64)        0         \n",
      "_________________________________________________________________\n",
      "conv2d_1 (Conv2D)            (None, 40, 40, 128)       401536    \n",
      "_________________________________________________________________\n",
      "max_pooling2d_1 (MaxPooling2 (None, 20, 20, 128)       0         \n",
      "_________________________________________________________________\n",
      "conv2d_2 (Conv2D)            (None, 17, 17, 128)       262272    \n",
      "_________________________________________________________________\n",
      "max_pooling2d_2 (MaxPooling2 (None, 9, 9, 128)         0         \n",
      "_________________________________________________________________\n",
      "conv2d_3 (Conv2D)            (None, 6, 6, 256)         524544    \n",
      "_________________________________________________________________\n",
      "flatten (Flatten)            (None, 9216)              0         \n",
      "_________________________________________________________________\n",
      "dense (Dense)                (None, 4096)              37752832  \n",
      "=================================================================\n",
      "Total params: 38,960,448\n",
      "Trainable params: 38,960,448\n",
      "Non-trainable params: 0\n",
      "_________________________________________________________________\n"
     ]
    }
   ],
   "source": [
    "def make_embedding():\n",
    "    inp = Input(shape=(100, 100, 3), name='input_image')\n",
    "    \n",
    "    # First Block \n",
    "    c1 = Conv2D(64, (10,10), activation='relu')(inp)\n",
    "    m1 = MaxPooling2D(64, (2,2), padding='same')(c1)\n",
    "    \n",
    "    # Second Block\n",
    "    c2 = Conv2D(128, (7,7), activation='relu')(m1)\n",
    "    m2 = MaxPooling2D(64, (2,2), padding='same')(c2)\n",
    "\n",
    "    # Third Block\n",
    "    c3 = Conv2D(128, (4,4), activation='relu')(m2)\n",
    "    m3 = MaxPooling2D(64, (2,2), padding='same')(c3)\n",
    "\n",
    "    # Final embedding block\n",
    "    c4 = Conv2D(256, (4,4), activation='relu')(m3)\n",
    "    f1 = Flatten()(c4)\n",
    "    d1 = Dense(4096, activation='sigmoid')(f1)\n",
    "\n",
    "    return Model(inputs=[inp], outputs=[d1], name='embedding')\n",
    "\n",
    "embedding_model = make_embedding()\n",
    "embedding_model.summary()"
   ]
  },
  {
   "cell_type": "markdown",
   "metadata": {},
   "source": [
    "### Explanation of make_embedding()"
   ]
  },
  {
   "cell_type": "code",
   "execution_count": 46,
   "metadata": {},
   "outputs": [
    {
     "data": {
      "text/plain": [
       "<KerasTensor: shape=(None, 105, 105, 3) dtype=float32 (created by layer 'input_image')>"
      ]
     },
     "execution_count": 46,
     "metadata": {},
     "output_type": "execute_result"
    }
   ],
   "source": [
    "inp = Input(shape=(105, 105, 3), name='input_image')\n",
    "inp"
   ]
  },
  {
   "cell_type": "code",
   "execution_count": 47,
   "metadata": {},
   "outputs": [],
   "source": [
    "c1 = Conv2D(64, (10,10), activation='relu')(inp)\n",
    "m1 = MaxPooling2D(64, (2,2), padding='same')(c1)"
   ]
  },
  {
   "cell_type": "code",
   "execution_count": 48,
   "metadata": {},
   "outputs": [],
   "source": [
    "c2 = Conv2D(128, (7,7), activation='relu')(m1)\n",
    "m2 = MaxPooling2D(64, (2,2), padding='same')(c2)"
   ]
  },
  {
   "cell_type": "code",
   "execution_count": 49,
   "metadata": {},
   "outputs": [],
   "source": [
    "c3 = Conv2D(128, (4,4), activation='relu')(m2)\n",
    "m3 = MaxPooling2D(64, (2,2), padding='same')(c3)"
   ]
  },
  {
   "cell_type": "code",
   "execution_count": 50,
   "metadata": {},
   "outputs": [],
   "source": [
    "c4 = Conv2D(256, (4,4), activation='relu')(m3)\n",
    "f1 = Flatten()(c4)\n",
    "d1 = Dense(4096, activation='sigmoid')(f1)"
   ]
  },
  {
   "cell_type": "code",
   "execution_count": 51,
   "metadata": {},
   "outputs": [
    {
     "name": "stdout",
     "output_type": "stream",
     "text": [
      "KerasTensor(type_spec=TensorSpec(shape=(None, 6, 6, 256), dtype=tf.float32, name=None), name='conv2d_7/Relu:0', description=\"created by layer 'conv2d_7'\")\n",
      "9216\n"
     ]
    },
    {
     "data": {
      "text/plain": [
       "<KerasTensor: shape=(None, 9216) dtype=float32 (created by layer 'flatten_1')>"
      ]
     },
     "execution_count": 51,
     "metadata": {},
     "output_type": "execute_result"
    }
   ],
   "source": [
    "print(c4)\n",
    "print(str(6*6*256))\n",
    "f1"
   ]
  },
  {
   "cell_type": "code",
   "execution_count": 52,
   "metadata": {},
   "outputs": [
    {
     "data": {
      "text/plain": [
       "<tensorflow.python.keras.engine.functional.Functional at 0x21e18198490>"
      ]
     },
     "execution_count": 52,
     "metadata": {},
     "output_type": "execute_result"
    }
   ],
   "source": [
    "mod = Model(inputs=[inp], outputs=[d1], name='embedding')\n",
    "mod"
   ]
  },
  {
   "cell_type": "code",
   "execution_count": 53,
   "metadata": {},
   "outputs": [
    {
     "name": "stdout",
     "output_type": "stream",
     "text": [
      "Model: \"embedding\"\n",
      "_________________________________________________________________\n",
      "Layer (type)                 Output Shape              Param #   \n",
      "=================================================================\n",
      "input_image (InputLayer)     [(None, 105, 105, 3)]     0         \n",
      "_________________________________________________________________\n",
      "conv2d_4 (Conv2D)            (None, 96, 96, 64)        19264     \n",
      "_________________________________________________________________\n",
      "max_pooling2d_3 (MaxPooling2 (None, 48, 48, 64)        0         \n",
      "_________________________________________________________________\n",
      "conv2d_5 (Conv2D)            (None, 42, 42, 128)       401536    \n",
      "_________________________________________________________________\n",
      "max_pooling2d_4 (MaxPooling2 (None, 21, 21, 128)       0         \n",
      "_________________________________________________________________\n",
      "conv2d_6 (Conv2D)            (None, 18, 18, 128)       262272    \n",
      "_________________________________________________________________\n",
      "max_pooling2d_5 (MaxPooling2 (None, 9, 9, 128)         0         \n",
      "_________________________________________________________________\n",
      "conv2d_7 (Conv2D)            (None, 6, 6, 256)         524544    \n",
      "_________________________________________________________________\n",
      "flatten_1 (Flatten)          (None, 9216)              0         \n",
      "_________________________________________________________________\n",
      "dense_1 (Dense)              (None, 4096)              37752832  \n",
      "=================================================================\n",
      "Total params: 38,960,448\n",
      "Trainable params: 38,960,448\n",
      "Non-trainable params: 0\n",
      "_________________________________________________________________\n"
     ]
    }
   ],
   "source": [
    "# we are in business guys\n",
    "mod.summary()"
   ]
  },
  {
   "cell_type": "markdown",
   "metadata": {},
   "source": [
    "## 4.2. Build Distance layer"
   ]
  },
  {
   "cell_type": "markdown",
   "metadata": {},
   "source": [
    "sometimes they, !, pass three rivers/streams, anchor and validation and validation + anchor"
   ]
  },
  {
   "cell_type": "code",
   "execution_count": 30,
   "metadata": {},
   "outputs": [],
   "source": [
    "# Siamese L1 Distance class\n",
    "class L1Dist(Layer):\n",
    "    # the inheritance of Layer init\n",
    "    def __init__(self, **kwargs):\n",
    "        super().__init__()\n",
    "    \n",
    "    # Similarity calculation\n",
    "    def call(self, input_embedding, validation_embedding):\n",
    "        return tf.math.abs(input_embedding - validation_embedding)"
   ]
  },
  {
   "cell_type": "code",
   "execution_count": 31,
   "metadata": {},
   "outputs": [
    {
     "data": {
      "text/plain": [
       "<__main__.L1Dist at 0x1f591b495b0>"
      ]
     },
     "execution_count": 31,
     "metadata": {},
     "output_type": "execute_result"
    }
   ],
   "source": [
    "l1 = L1Dist()\n",
    "l1"
   ]
  },
  {
   "cell_type": "markdown",
   "metadata": {},
   "source": [
    "## 4.3 Make Siamese Model"
   ]
  },
  {
   "cell_type": "markdown",
   "metadata": {},
   "source": [
    "1. Handle input, two streams, anchor and validation\n",
    "2. pass the inputs to **make_embedding**: now we have two featured vectors\n",
    "3. pass the vectors to **L1Dist**: now we have a one vector represent the distance between two images\n",
    "4. pass the distance vector to **classification layer** uses sigmoid activation function:  it uses Dense to create a fully connected layer, it will tell either the images/vectors are smiler or not based on the distance victor form step 3"
   ]
  },
  {
   "cell_type": "code",
   "execution_count": 32,
   "metadata": {},
   "outputs": [
    {
     "name": "stdout",
     "output_type": "stream",
     "text": [
      "Model: \"SiameseNetwork\"\n",
      "__________________________________________________________________________________________________\n",
      "Layer (type)                    Output Shape         Param #     Connected to                     \n",
      "==================================================================================================\n",
      "input_img (InputLayer)          [(None, 100, 100, 3) 0                                            \n",
      "__________________________________________________________________________________________________\n",
      "validation_img (InputLayer)     [(None, 100, 100, 3) 0                                            \n",
      "__________________________________________________________________________________________________\n",
      "embedding (Functional)          (None, 4096)         38960448    input_img[0][0]                  \n",
      "                                                                 validation_img[0][0]             \n",
      "__________________________________________________________________________________________________\n",
      "distance (L1Dist)               (None, 4096)         0           embedding[0][0]                  \n",
      "                                                                 embedding[1][0]                  \n",
      "__________________________________________________________________________________________________\n",
      "dense_1 (Dense)                 (None, 1)            4097        distance[0][0]                   \n",
      "==================================================================================================\n",
      "Total params: 38,964,545\n",
      "Trainable params: 38,964,545\n",
      "Non-trainable params: 0\n",
      "__________________________________________________________________________________________________\n"
     ]
    }
   ],
   "source": [
    "def make_siamese_model():\n",
    "\n",
    "    # 1. Handling Inputs:\n",
    "    # Anchor image input\n",
    "    input_img = Input(name='input_img', shape=(100,100,3))\n",
    "    # Validation image\n",
    "    validation_img = Input(name='validation_img', shape=(100,100,3))\n",
    "\n",
    "    # 2+3. Combine siamese distance components\n",
    "    siamese_layer = L1Dist()\n",
    "    siamese_layer._name = 'distance'\n",
    "    distances = siamese_layer(embedding_model(input_img),embedding_model(validation_img))\n",
    "    \n",
    "    # 4. Classification layer\n",
    "    classifier = Dense(1, activation='sigmoid')(distances)\n",
    "\n",
    "    # combine all together\n",
    "    return Model(inputs=[input_img, validation_img], outputs= classifier, name='SiameseNetwork')\n",
    "\n",
    "siamese_model = make_siamese_model()\n",
    "siamese_model.summary()\n"
   ]
  },
  {
   "cell_type": "markdown",
   "metadata": {},
   "source": [
    "### Explanation of make_siamese_model"
   ]
  },
  {
   "cell_type": "code",
   "execution_count": 33,
   "metadata": {},
   "outputs": [],
   "source": [
    "input_img = Input(name='input_img', shape=(100,100,3))\n",
    "validation_img = Input(name='validation_img', shape=(100,100,3))"
   ]
  },
  {
   "cell_type": "code",
   "execution_count": 34,
   "metadata": {},
   "outputs": [],
   "source": [
    "inp_embedded = embedding_model(input_img)\n",
    "val_embedded = embedding_model(validation_img)"
   ]
  },
  {
   "cell_type": "code",
   "execution_count": 35,
   "metadata": {},
   "outputs": [],
   "source": [
    "siamese_layer = L1Dist()\n",
    "distances = siamese_layer(inp_embedded,val_embedded)"
   ]
  },
  {
   "cell_type": "code",
   "execution_count": 36,
   "metadata": {},
   "outputs": [
    {
     "data": {
      "text/plain": [
       "<KerasTensor: shape=(None, 1) dtype=float32 (created by layer 'dense_2')>"
      ]
     },
     "execution_count": 36,
     "metadata": {},
     "output_type": "execute_result"
    }
   ],
   "source": [
    "classifier = Dense(1, activation='sigmoid')(distances)\n",
    "classifier"
   ]
  },
  {
   "cell_type": "code",
   "execution_count": 37,
   "metadata": {},
   "outputs": [
    {
     "name": "stdout",
     "output_type": "stream",
     "text": [
      "Model: \"SiameseNetwork\"\n",
      "__________________________________________________________________________________________________\n",
      "Layer (type)                    Output Shape         Param #     Connected to                     \n",
      "==================================================================================================\n",
      "input_img (InputLayer)          [(None, 100, 100, 3) 0                                            \n",
      "__________________________________________________________________________________________________\n",
      "validation_img (InputLayer)     [(None, 100, 100, 3) 0                                            \n",
      "__________________________________________________________________________________________________\n",
      "embedding (Functional)          (None, 4096)         38960448    input_img[0][0]                  \n",
      "                                                                 validation_img[0][0]             \n",
      "__________________________________________________________________________________________________\n",
      "l1_dist_2 (L1Dist)              (None, 4096)         0           embedding[2][0]                  \n",
      "                                                                 embedding[3][0]                  \n",
      "__________________________________________________________________________________________________\n",
      "dense_2 (Dense)                 (None, 1)            4097        l1_dist_2[0][0]                  \n",
      "==================================================================================================\n",
      "Total params: 38,964,545\n",
      "Trainable params: 38,964,545\n",
      "Non-trainable params: 0\n",
      "__________________________________________________________________________________________________\n"
     ]
    }
   ],
   "source": [
    "siamese_mod = Model(inputs=[input_img, validation_img], outputs= classifier, name='SiameseNetwork')\n",
    "siamese_mod.summary()\n"
   ]
  },
  {
   "cell_type": "markdown",
   "metadata": {},
   "source": [
    "# 5. Training"
   ]
  },
  {
   "cell_type": "markdown",
   "metadata": {},
   "source": [
    "## 5.1 Setup Loss and Optimizer"
   ]
  },
  {
   "cell_type": "markdown",
   "metadata": {},
   "source": [
    "the whole perpouse of NN is to minimze the loss, cuz that means that it perform better for this function\n",
    "\n",
    "Optimizer: is what perform the backpropagation "
   ]
  },
  {
   "cell_type": "code",
   "execution_count": 38,
   "metadata": {},
   "outputs": [],
   "source": [
    "binary_cross_loss = tf.losses.BinaryCrossentropy()"
   ]
  },
  {
   "cell_type": "code",
   "execution_count": 39,
   "metadata": {},
   "outputs": [],
   "source": [
    "# set learing rate = 0.0001\n",
    "opt = tf.keras.optimizers.Adam(1e-4) "
   ]
  },
  {
   "cell_type": "markdown",
   "metadata": {},
   "source": [
    "## 5.2 Establish Checkpoints"
   ]
  },
  {
   "cell_type": "markdown",
   "metadata": {},
   "source": [
    "Works as a placeholder where we could to get back and restart form"
   ]
  },
  {
   "cell_type": "code",
   "execution_count": 40,
   "metadata": {},
   "outputs": [],
   "source": [
    "checkpoints_dir = \"./training_checkpoints\"\n",
    "checkpoints_prefix = os.path.join(checkpoints_dir, \"ckpt\")\n",
    "checkpoint = tf.train.Checkpoint(opt=opt,siamese_model=siamese_model)\n",
    "\n",
    "# to reload the checkpoint use:\n",
    "# model.load('path_to_checkpoint')"
   ]
  },
  {
   "cell_type": "markdown",
   "metadata": {},
   "source": [
    "## 5.3 Build Train Step Function"
   ]
  },
  {
   "cell_type": "markdown",
   "metadata": {},
   "source": [
    "This define what happens when we train on a single batch"
   ]
  },
  {
   "cell_type": "markdown",
   "metadata": {},
   "source": [
    "The basic steps for training on one batch:\n",
    "1. Make a prediction\n",
    "2. Calculate loss\n",
    "3. Derive gradients\n",
    "4. Calculate new weights and apply"
   ]
  },
  {
   "cell_type": "code",
   "execution_count": 41,
   "metadata": {},
   "outputs": [],
   "source": [
    "@tf.function\n",
    "# it compiles an entire neural network into a graph and allows us to\n",
    "# trian it in efficient manner\n",
    "# so we compiles what is going to happend under this function\n",
    "def train_step(batch):\n",
    "\n",
    "    # to perform the differentiation -> allows to perform Backpropegation -> so we get the gradients for NN\n",
    "    # look at everything happend in the nn and\n",
    "    with tf.GradientTape() as tape:\n",
    "        # get anchor and postive/negative image\n",
    "        X = batch[:2]\n",
    "        # get label\n",
    "        y = batch[2]\n",
    "\n",
    "        # forword pass\n",
    "        # yhat is y predicted\n",
    "        yhat = siamese_model(X, training=True)\n",
    "        # Calculate loss\n",
    "        loss = binary_cross_loss(y, yhat)\n",
    "    print(loss)\n",
    "\n",
    "    # Calculate gradients\n",
    "    grads = tape.gradient(loss, siamese_model.trainable_variables)\n",
    "\n",
    "    # Calculate updated wieghts and apply to siamese model\n",
    "    opt.apply_gradients(zip(grads, siamese_model.trainable_variables))\n",
    "    return loss"
   ]
  },
  {
   "cell_type": "markdown",
   "metadata": {},
   "source": [
    "Drowback with this method:\n",
    "\n",
    "you have to define all progress bars and loss matrices being output\n",
    "\n",
    "Solutoin: wrap them inside a module"
   ]
  },
  {
   "cell_type": "markdown",
   "metadata": {},
   "source": [
    "### Explination of 5.2 build training function"
   ]
  },
  {
   "cell_type": "code",
   "execution_count": 42,
   "metadata": {},
   "outputs": [
    {
     "data": {
      "text/plain": [
       "<tensorflow.python.data.ops.dataset_ops._NumpyIterator at 0x1f589a45670>"
      ]
     },
     "execution_count": 42,
     "metadata": {},
     "output_type": "execute_result"
    }
   ],
   "source": [
    "test_batch = train_data.as_numpy_iterator()\n",
    "test_batch"
   ]
  },
  {
   "cell_type": "code",
   "execution_count": 43,
   "metadata": {},
   "outputs": [
    {
     "data": {
      "text/plain": [
       "(array([[[[0.8117647 , 0.81960785, 0.76862746],\n",
       "          [0.8147059 , 0.8215686 , 0.78137255],\n",
       "          [0.8088235 , 0.8127451 , 0.7872549 ],\n",
       "          ...,\n",
       "          [0.77254903, 0.78431374, 0.7411765 ],\n",
       "          [0.76740193, 0.77916664, 0.74191177],\n",
       "          [0.7627451 , 0.7745098 , 0.7392157 ]],\n",
       " \n",
       "         [[0.81078434, 0.8186275 , 0.76960784],\n",
       "          [0.80784315, 0.8147059 , 0.7745098 ],\n",
       "          [0.81078434, 0.8147059 , 0.7877451 ],\n",
       "          ...,\n",
       "          [0.76936275, 0.7823529 , 0.72990197],\n",
       "          [0.7654412 , 0.7762255 , 0.73259807],\n",
       "          [0.7745098 , 0.7852941 , 0.7480392 ]],\n",
       " \n",
       "         [[0.8068628 , 0.8147059 , 0.77156866],\n",
       "          [0.81078434, 0.8183824 , 0.7759804 ],\n",
       "          [0.8144608 , 0.8213235 , 0.78112745],\n",
       "          ...,\n",
       "          [0.7647059 , 0.77254903, 0.71862745],\n",
       "          [0.76691175, 0.7747549 , 0.7296569 ],\n",
       "          [0.777451  , 0.7852941 , 0.74215686]],\n",
       " \n",
       "         ...,\n",
       " \n",
       "         [[0.4014706 , 0.43970588, 0.50539213],\n",
       "          [0.38357842, 0.42965686, 0.49436274],\n",
       "          [0.34607843, 0.3970588 , 0.46372548],\n",
       "          ...,\n",
       "          [0.44705883, 0.49044117, 0.49779412],\n",
       "          [0.48235294, 0.52867645, 0.5301471 ],\n",
       "          [0.31838235, 0.35759804, 0.3615196 ]],\n",
       " \n",
       "         [[0.35735294, 0.40735295, 0.47009805],\n",
       "          [0.34779412, 0.3987745 , 0.4625    ],\n",
       "          [0.32965687, 0.39240196, 0.45514706],\n",
       "          ...,\n",
       "          [0.45196077, 0.49607843, 0.5019608 ],\n",
       "          [0.48897058, 0.5360294 , 0.5360294 ],\n",
       "          [0.34436274, 0.38357842, 0.3875    ]],\n",
       " \n",
       "         [[0.35490197, 0.41764706, 0.4764706 ],\n",
       "          [0.3389706 , 0.4019608 , 0.46470588],\n",
       "          [0.31666666, 0.38333333, 0.45196077],\n",
       "          ...,\n",
       "          [0.47254902, 0.51666665, 0.52254903],\n",
       "          [0.5009804 , 0.5480392 , 0.5480392 ],\n",
       "          [0.40612745, 0.44534314, 0.44142157]]],\n",
       " \n",
       " \n",
       "        [[[0.7014706 , 0.74460787, 0.6897059 ],\n",
       "          [0.7031863 , 0.74534315, 0.6933824 ],\n",
       "          [0.7053922 , 0.74460787, 0.7014706 ],\n",
       "          ...,\n",
       "          [0.74240196, 0.7737745 , 0.73063725],\n",
       "          [0.74607843, 0.777451  , 0.72843134],\n",
       "          [0.74313724, 0.7745098 , 0.7235294 ]],\n",
       " \n",
       "         [[0.7053922 , 0.747549  , 0.69558823],\n",
       "          [0.7019608 , 0.7411765 , 0.69803923],\n",
       "          [0.7088235 , 0.7480392 , 0.70637256],\n",
       "          ...,\n",
       "          [0.7414216 , 0.7727941 , 0.72181374],\n",
       "          [0.7404412 , 0.77181375, 0.72083336],\n",
       "          [0.7490196 , 0.78039217, 0.7294118 ]],\n",
       " \n",
       "         [[0.6970588 , 0.7362745 , 0.6990196 ],\n",
       "          [0.6990196 , 0.7382353 , 0.70098037],\n",
       "          [0.7058824 , 0.74509805, 0.70931375],\n",
       "          ...,\n",
       "          [0.73259807, 0.7705882 , 0.717402  ],\n",
       "          [0.7382353 , 0.76960784, 0.71862745],\n",
       "          [0.7382353 , 0.76960784, 0.71862745]],\n",
       " \n",
       "         ...,\n",
       " \n",
       "         [[0.3767157 , 0.43553922, 0.4237745 ],\n",
       "          [0.50710785, 0.5659314 , 0.5541667 ],\n",
       "          [0.4622549 , 0.5137255 , 0.5107843 ],\n",
       "          ...,\n",
       "          [0.50710785, 0.5090686 , 0.4384804 ],\n",
       "          [0.51715684, 0.5132353 , 0.44117647],\n",
       "          [0.51862746, 0.5147059 , 0.44215685]],\n",
       " \n",
       "         [[0.4237745 , 0.47377452, 0.46495098],\n",
       "          [0.50147057, 0.5602941 , 0.5485294 ],\n",
       "          [0.47401962, 0.529902  , 0.5269608 ],\n",
       "          ...,\n",
       "          [0.5129902 , 0.51715684, 0.4384804 ],\n",
       "          [0.5269608 , 0.5230392 , 0.44509804],\n",
       "          [0.52156866, 0.5176471 , 0.4392157 ]],\n",
       " \n",
       "         [[0.42965686, 0.47671568, 0.46887255],\n",
       "          [0.5230392 , 0.57303923, 0.56421566],\n",
       "          [0.46666667, 0.52254903, 0.51960784],\n",
       "          ...,\n",
       "          [0.51862746, 0.5147059 , 0.4362745 ],\n",
       "          [0.52254903, 0.51862746, 0.44019607],\n",
       "          [0.52843136, 0.5205882 , 0.43823528]]],\n",
       " \n",
       " \n",
       "        [[[0.68235296, 0.7137255 , 0.67058825],\n",
       "          [0.6862745 , 0.7176471 , 0.6666667 ],\n",
       "          [0.6960784 , 0.72745097, 0.6764706 ],\n",
       "          ...,\n",
       "          [0.70392156, 0.7441176 , 0.6901961 ],\n",
       "          [0.70906866, 0.7404412 , 0.6894608 ],\n",
       "          [0.71862745, 0.74215686, 0.69509804]],\n",
       " \n",
       "         [[0.6784314 , 0.70980394, 0.65882355],\n",
       "          [0.6872549 , 0.71862745, 0.66764706],\n",
       "          [0.69485295, 0.72843134, 0.6752451 ],\n",
       "          ...,\n",
       "          [0.70710784, 0.74509805, 0.69191176],\n",
       "          [0.71666664, 0.74215686, 0.69411767],\n",
       "          [0.71666664, 0.74019605, 0.6931372 ]],\n",
       " \n",
       "         [[0.6813725 , 0.7127451 , 0.6617647 ],\n",
       "          [0.6848039 , 0.71838236, 0.6666667 ],\n",
       "          [0.68284315, 0.7252451 , 0.6647059 ],\n",
       "          ...,\n",
       "          [0.7137255 , 0.74509805, 0.69411767],\n",
       "          [0.71666664, 0.74215686, 0.69411767],\n",
       "          [0.7137255 , 0.7372549 , 0.6901961 ]],\n",
       " \n",
       "         ...,\n",
       " \n",
       "         [[0.3720588 , 0.43382353, 0.39754903],\n",
       "          [0.47230393, 0.5232843 , 0.49583334],\n",
       "          [0.47965688, 0.5276961 , 0.5090686 ],\n",
       "          ...,\n",
       "          [0.6906863 , 0.7120098 , 0.65931374],\n",
       "          [0.69460785, 0.7151961 , 0.675     ],\n",
       "          [0.70392156, 0.7245098 , 0.6784314 ]],\n",
       " \n",
       "         [[0.3644608 , 0.42328432, 0.39583334],\n",
       "          [0.48137254, 0.5323529 , 0.50490195],\n",
       "          [0.4867647 , 0.5348039 , 0.51617646],\n",
       "          ...,\n",
       "          [0.6691176 , 0.6786765 , 0.62892157],\n",
       "          [0.69485295, 0.7014706 , 0.6664216 ],\n",
       "          [0.70490193, 0.7137255 , 0.67058825]],\n",
       " \n",
       "         [[0.4257353 , 0.48455882, 0.45710784],\n",
       "          [0.47720587, 0.5272059 , 0.5026961 ],\n",
       "          [0.48480392, 0.53186274, 0.51617646],\n",
       "          ...,\n",
       "          [0.6480392 , 0.65588236, 0.60612744],\n",
       "          [0.6627451 , 0.67058825, 0.627451  ],\n",
       "          [0.6745098 , 0.68235296, 0.6392157 ]]],\n",
       " \n",
       " \n",
       "        ...,\n",
       " \n",
       " \n",
       "        [[[0.7129902 , 0.7522059 , 0.7169118 ],\n",
       "          [0.7026961 , 0.74191177, 0.70661765],\n",
       "          [0.70931375, 0.74852943, 0.7132353 ],\n",
       "          ...,\n",
       "          [0.75784314, 0.76960784, 0.74215686],\n",
       "          [0.7588235 , 0.7705882 , 0.74313724],\n",
       "          [0.75784314, 0.76960784, 0.74215686]],\n",
       " \n",
       "         [[0.6970588 , 0.7343137 , 0.6970588 ],\n",
       "          [0.6995098 , 0.7367647 , 0.6995098 ],\n",
       "          [0.71544117, 0.74828434, 0.70661765],\n",
       "          ...,\n",
       "          [0.76053923, 0.77230394, 0.74485296],\n",
       "          [0.75980395, 0.77156866, 0.7441176 ],\n",
       "          [0.75784314, 0.76960784, 0.74215686]],\n",
       " \n",
       "         [[0.70612746, 0.7375    , 0.69436276],\n",
       "          [0.7085784 , 0.73995095, 0.6968137 ],\n",
       "          [0.7198529 , 0.7468137 , 0.7058824 ],\n",
       "          ...,\n",
       "          [0.7637255 , 0.7754902 , 0.7480392 ],\n",
       "          [0.7607843 , 0.77254903, 0.74509805],\n",
       "          [0.7607843 , 0.77254903, 0.74509805]],\n",
       " \n",
       "         ...,\n",
       " \n",
       "         [[0.34215686, 0.38921568, 0.3735294 ],\n",
       "          [0.4612745 , 0.5083333 , 0.5004902 ],\n",
       "          [0.46789217, 0.51348037, 0.50784314],\n",
       "          ...,\n",
       "          [0.59387255, 0.61151963, 0.59142154],\n",
       "          [0.6848039 , 0.6867647 , 0.64656866],\n",
       "          [0.69215685, 0.6901961 , 0.64215684]],\n",
       " \n",
       "         [[0.39117646, 0.43823528, 0.42843136],\n",
       "          [0.4735294 , 0.5147059 , 0.50980395],\n",
       "          [0.47058824, 0.51029414, 0.5120098 ],\n",
       "          ...,\n",
       "          [0.5801471 , 0.5892157 , 0.5627451 ],\n",
       "          [0.63039213, 0.6245098 , 0.57941175],\n",
       "          [0.6431373 , 0.63529414, 0.58431375]],\n",
       " \n",
       "         [[0.45294118, 0.49215686, 0.4882353 ],\n",
       "          [0.49803922, 0.5362745 , 0.5323529 ],\n",
       "          [0.4764706 , 0.5088235 , 0.5137255 ],\n",
       "          ...,\n",
       "          [0.564951  , 0.5745098 , 0.54607844],\n",
       "          [0.6137255 , 0.60784316, 0.55784315],\n",
       "          [0.64117646, 0.6333333 , 0.5745098 ]]],\n",
       " \n",
       " \n",
       "        [[[0.64387256, 0.6752451 , 0.6242647 ],\n",
       "          [0.6497549 , 0.6811274 , 0.63014704],\n",
       "          [0.654902  , 0.6862745 , 0.63529414],\n",
       "          ...,\n",
       "          [0.6620098 , 0.70906866, 0.6620098 ],\n",
       "          [0.6759804 , 0.7230392 , 0.6759804 ],\n",
       "          [0.67058825, 0.7176471 , 0.67058825]],\n",
       " \n",
       "         [[0.6401961 , 0.67156863, 0.62058824],\n",
       "          [0.6382353 , 0.6696078 , 0.6186274 ],\n",
       "          [0.6480392 , 0.67941177, 0.6284314 ],\n",
       "          ...,\n",
       "          [0.66862744, 0.71568626, 0.66862744],\n",
       "          [0.6666667 , 0.7137255 , 0.6666667 ],\n",
       "          [0.65      , 0.6970588 , 0.65      ]],\n",
       " \n",
       "         [[0.6392157 , 0.67058825, 0.61960787],\n",
       "          [0.6382353 , 0.6696078 , 0.6186274 ],\n",
       "          [0.6392157 , 0.67058825, 0.61960787],\n",
       "          ...,\n",
       "          [0.6551471 , 0.7022059 , 0.6551471 ],\n",
       "          [0.65882355, 0.7058824 , 0.65882355],\n",
       "          [0.6490196 , 0.6960784 , 0.6490196 ]],\n",
       " \n",
       "         ...,\n",
       " \n",
       "         [[0.37107843, 0.41421568, 0.38284314],\n",
       "          [0.4730392 , 0.5240196 , 0.48872548],\n",
       "          [0.4477941 , 0.50759804, 0.46936274],\n",
       "          ...,\n",
       "          [0.35490197, 0.41838235, 0.40588236],\n",
       "          [0.35318628, 0.4247549 , 0.41740197],\n",
       "          [0.40808824, 0.47965688, 0.4776961 ]],\n",
       " \n",
       "         [[0.3992647 , 0.44240198, 0.4110294 ],\n",
       "          [0.4659314 , 0.51691175, 0.48161766],\n",
       "          [0.44387254, 0.5036765 , 0.46544117],\n",
       "          ...,\n",
       "          [0.35171568, 0.41740197, 0.39681372],\n",
       "          [0.33970588, 0.41127452, 0.39803922],\n",
       "          [0.34411764, 0.41862744, 0.40490195]],\n",
       " \n",
       "         [[0.4343137 , 0.47745097, 0.44607842],\n",
       "          [0.48431373, 0.5352941 , 0.5       ],\n",
       "          [0.46078432, 0.5205882 , 0.48235294],\n",
       "          ...,\n",
       "          [0.35882354, 0.4254902 , 0.4019608 ],\n",
       "          [0.33529413, 0.40784314, 0.39019608],\n",
       "          [0.35490197, 0.4372549 , 0.41764706]]],\n",
       " \n",
       " \n",
       "        [[[0.7237745 , 0.7629902 , 0.7316176 ],\n",
       "          [0.7232843 , 0.7625    , 0.73112744],\n",
       "          [0.7264706 , 0.7656863 , 0.73357844],\n",
       "          ...,\n",
       "          [0.69803923, 0.74019605, 0.6882353 ],\n",
       "          [0.6931372 , 0.7323529 , 0.68921566],\n",
       "          [0.6970588 , 0.7362745 , 0.70098037]],\n",
       " \n",
       "         [[0.7269608 , 0.7642157 , 0.72107846],\n",
       "          [0.73112744, 0.7683824 , 0.7232843 ],\n",
       "          [0.7296569 , 0.76691175, 0.72181374],\n",
       "          ...,\n",
       "          [0.6970588 , 0.7343137 , 0.6911765 ],\n",
       "          [0.6938726 , 0.73039216, 0.6894608 ],\n",
       "          [0.69803923, 0.7352941 , 0.69803923]],\n",
       " \n",
       "         [[0.73137254, 0.7627451 , 0.7117647 ],\n",
       "          [0.7355392 , 0.76691175, 0.71004903],\n",
       "          [0.73259807, 0.7639706 , 0.70710784],\n",
       "          ...,\n",
       "          [0.7       , 0.73137254, 0.6882353 ],\n",
       "          [0.7058824 , 0.73651963, 0.69558823],\n",
       "          [0.7019608 , 0.73333335, 0.6901961 ]],\n",
       " \n",
       "         ...,\n",
       " \n",
       "         [[0.3970588 , 0.4882353 , 0.50490195],\n",
       "          [0.36397058, 0.44436276, 0.46495098],\n",
       "          [0.35441175, 0.42303923, 0.4495098 ],\n",
       "          ...,\n",
       "          [0.4490196 , 0.50784314, 0.49607843],\n",
       "          [0.47818628, 0.5370098 , 0.5252451 ],\n",
       "          [0.37941176, 0.42647058, 0.42647058]],\n",
       " \n",
       "         [[0.36617646, 0.44852942, 0.46813726],\n",
       "          [0.34215686, 0.41813725, 0.44093138],\n",
       "          [0.36568627, 0.4343137 , 0.46078432],\n",
       "          ...,\n",
       "          [0.4492647 , 0.50808823, 0.49632353],\n",
       "          [0.46372548, 0.52254903, 0.5107843 ],\n",
       "          [0.3992647 , 0.4522059 , 0.4522059 ]],\n",
       " \n",
       "         [[0.35490197, 0.4372549 , 0.45686275],\n",
       "          [0.34901962, 0.42156863, 0.44607842],\n",
       "          [0.37745097, 0.43823528, 0.4598039 ],\n",
       "          ...,\n",
       "          [0.45588234, 0.5147059 , 0.5029412 ],\n",
       "          [0.4852941 , 0.5441176 , 0.5323529 ],\n",
       "          [0.44142157, 0.49632353, 0.49632353]]]], dtype=float32),\n",
       " array([[[[8.00000012e-01, 8.19607854e-01, 7.96078444e-01],\n",
       "          [7.96078444e-01, 8.23529422e-01, 7.96078444e-01],\n",
       "          [7.96078444e-01, 8.23529422e-01, 7.96078444e-01],\n",
       "          ...,\n",
       "          [7.53921568e-01, 7.79411793e-01, 7.52941191e-01],\n",
       "          [7.64705896e-01, 7.84313738e-01, 7.66666651e-01],\n",
       "          [7.51960814e-01, 7.67647088e-01, 7.63725519e-01]],\n",
       " \n",
       "         [[8.00980389e-01, 8.17647040e-01, 7.95098066e-01],\n",
       "          [8.00245106e-01, 8.16911757e-01, 7.94362724e-01],\n",
       "          [7.96568632e-01, 8.15441191e-01, 7.92156875e-01],\n",
       "          ...,\n",
       "          [7.61764705e-01, 7.81372547e-01, 7.58333325e-01],\n",
       "          [7.58823514e-01, 7.77696073e-01, 7.62745082e-01],\n",
       "          [7.50980377e-01, 7.66666651e-01, 7.62745082e-01]],\n",
       " \n",
       "         [[8.06862772e-01, 8.11764717e-01, 7.92156875e-01],\n",
       "          [8.06127429e-01, 8.11764717e-01, 7.92156875e-01],\n",
       "          [8.02450955e-01, 8.12500000e-01, 7.92156875e-01],\n",
       "          ...,\n",
       "          [7.65686274e-01, 7.82352924e-01, 7.75490224e-01],\n",
       "          [7.69362748e-01, 7.85049021e-01, 7.87009776e-01],\n",
       "          [7.61764705e-01, 7.77450979e-01, 7.79411793e-01]],\n",
       " \n",
       "         ...,\n",
       " \n",
       "         [[6.60784304e-01, 6.56862736e-01, 6.40196085e-01],\n",
       "          [6.62990212e-01, 6.58578455e-01, 6.41911745e-01],\n",
       "          [6.79166675e-01, 6.73284292e-01, 6.54411793e-01],\n",
       "          ...,\n",
       "          [4.22058821e-01, 4.61274505e-01, 5.00490189e-01],\n",
       "          [4.73039210e-01, 5.12254894e-01, 5.47549009e-01],\n",
       "          [5.06862760e-01, 5.47058821e-01, 5.79411745e-01]],\n",
       " \n",
       "         [[6.91666663e-01, 6.81862772e-01, 6.62254930e-01],\n",
       "          [7.63235271e-01, 7.51470566e-01, 7.31127441e-01],\n",
       "          [8.07352960e-01, 7.89705873e-01, 7.67156839e-01],\n",
       "          ...,\n",
       "          [4.35539216e-01, 4.74754900e-01, 5.10049045e-01],\n",
       "          [4.95098025e-01, 5.38235307e-01, 5.61764717e-01],\n",
       "          [5.03921568e-01, 5.47058821e-01, 5.64705908e-01]],\n",
       " \n",
       "         [[8.05882335e-01, 7.94117630e-01, 7.66666651e-01],\n",
       "          [7.94117630e-01, 7.74509788e-01, 7.50980377e-01],\n",
       "          [7.79656887e-01, 7.54166663e-01, 7.24754930e-01],\n",
       "          ...,\n",
       "          [4.33333337e-01, 4.73529398e-01, 5.05882382e-01],\n",
       "          [4.71568614e-01, 5.14705896e-01, 5.32352924e-01],\n",
       "          [4.95098025e-01, 5.38235307e-01, 5.46078444e-01]]],\n",
       " \n",
       " \n",
       "        [[[7.92892158e-01, 8.12500000e-01, 7.85049021e-01],\n",
       "          [7.90196061e-01, 8.09803903e-01, 7.82352924e-01],\n",
       "          [7.89460778e-01, 8.09068620e-01, 7.84558833e-01],\n",
       "          ...,\n",
       "          [7.37254918e-01, 7.61764705e-01, 7.24509776e-01],\n",
       "          [7.41176486e-01, 7.68627465e-01, 7.37254918e-01],\n",
       "          [7.36274481e-01, 7.75490224e-01, 7.44117618e-01]],\n",
       " \n",
       "         [[7.89460778e-01, 8.11029434e-01, 7.83578455e-01],\n",
       "          [7.93627441e-01, 8.15196097e-01, 7.87745118e-01],\n",
       "          [7.88970590e-01, 8.10539186e-01, 7.85294116e-01],\n",
       "          ...,\n",
       "          [7.44362772e-01, 7.65931368e-01, 7.38480389e-01],\n",
       "          [7.50735283e-01, 7.77450979e-01, 7.51470566e-01],\n",
       "          [7.34313726e-01, 7.72549033e-01, 7.44117618e-01]],\n",
       " \n",
       "         [[7.87990212e-01, 8.09558809e-01, 7.85049021e-01],\n",
       "          [7.84313738e-01, 8.11764717e-01, 7.84313738e-01],\n",
       "          [7.88235307e-01, 8.15686285e-01, 7.88235307e-01],\n",
       "          ...,\n",
       "          [7.45343149e-01, 7.68382370e-01, 7.50490189e-01],\n",
       "          [7.53921568e-01, 7.77696073e-01, 7.61274517e-01],\n",
       "          [7.47058809e-01, 7.73529410e-01, 7.62745082e-01]],\n",
       " \n",
       "         ...,\n",
       " \n",
       "         [[6.35539234e-01, 6.61029398e-01, 6.34558797e-01],\n",
       "          [6.39705896e-01, 6.65196061e-01, 6.38725519e-01],\n",
       "          [6.46813750e-01, 6.63480401e-01, 6.40931368e-01],\n",
       "          ...,\n",
       "          [4.13725495e-01, 4.63480383e-01, 4.76960778e-01],\n",
       "          [5.00490189e-01, 5.42892158e-01, 5.57107866e-01],\n",
       "          [5.03921568e-01, 5.43137252e-01, 5.50980389e-01]],\n",
       " \n",
       "         [[6.49019599e-01, 6.59803927e-01, 6.39215708e-01],\n",
       "          [6.55147076e-01, 6.64460778e-01, 6.44117653e-01],\n",
       "          [6.67647064e-01, 6.72549009e-01, 6.50735319e-01],\n",
       "          ...,\n",
       "          [4.13480401e-01, 4.56617653e-01, 4.72303927e-01],\n",
       "          [5.10049045e-01, 5.50245106e-01, 5.60048997e-01],\n",
       "          [5.17401934e-01, 5.56617618e-01, 5.64460814e-01]],\n",
       " \n",
       "         [[6.98529422e-01, 7.02450991e-01, 6.82843149e-01],\n",
       "          [7.50980377e-01, 7.52941191e-01, 7.30392158e-01],\n",
       "          [8.01470578e-01, 7.97549009e-01, 7.77941167e-01],\n",
       "          ...,\n",
       "          [4.27696079e-01, 4.70833331e-01, 4.86519605e-01],\n",
       "          [5.03186285e-01, 5.43382347e-01, 5.53186297e-01],\n",
       "          [5.13725519e-01, 5.52941203e-01, 5.60784340e-01]]],\n",
       " \n",
       " \n",
       "        [[[0.00000000e+00, 3.92156886e-03, 0.00000000e+00],\n",
       "          [0.00000000e+00, 3.92156886e-03, 0.00000000e+00],\n",
       "          [0.00000000e+00, 3.92156886e-03, 0.00000000e+00],\n",
       "          ...,\n",
       "          [0.00000000e+00, 3.92156886e-03, 0.00000000e+00],\n",
       "          [0.00000000e+00, 3.92156886e-03, 0.00000000e+00],\n",
       "          [0.00000000e+00, 3.92156886e-03, 0.00000000e+00]],\n",
       " \n",
       "         [[0.00000000e+00, 2.94117653e-03, 0.00000000e+00],\n",
       "          [0.00000000e+00, 2.94117653e-03, 0.00000000e+00],\n",
       "          [0.00000000e+00, 2.94117653e-03, 0.00000000e+00],\n",
       "          ...,\n",
       "          [0.00000000e+00, 0.00000000e+00, 0.00000000e+00],\n",
       "          [0.00000000e+00, 0.00000000e+00, 0.00000000e+00],\n",
       "          [0.00000000e+00, 0.00000000e+00, 0.00000000e+00]],\n",
       " \n",
       "         [[0.00000000e+00, 0.00000000e+00, 0.00000000e+00],\n",
       "          [0.00000000e+00, 0.00000000e+00, 0.00000000e+00],\n",
       "          [0.00000000e+00, 0.00000000e+00, 0.00000000e+00],\n",
       "          ...,\n",
       "          [0.00000000e+00, 0.00000000e+00, 0.00000000e+00],\n",
       "          [0.00000000e+00, 0.00000000e+00, 0.00000000e+00],\n",
       "          [0.00000000e+00, 0.00000000e+00, 0.00000000e+00]],\n",
       " \n",
       "         ...,\n",
       " \n",
       "         [[2.97303915e-01, 2.51225501e-01, 2.49264702e-01],\n",
       "          [2.65441179e-01, 2.19362751e-01, 2.17401966e-01],\n",
       "          [2.58823544e-01, 2.14950979e-01, 2.08578438e-01],\n",
       "          ...,\n",
       "          [2.78186262e-01, 1.96813732e-01, 1.40931368e-01],\n",
       "          [3.47058833e-01, 2.73039222e-01, 2.32598037e-01],\n",
       "          [1.89950988e-01, 1.24019608e-01, 1.09068625e-01]],\n",
       " \n",
       "         [[2.80882359e-01, 2.37745091e-01, 2.29901955e-01],\n",
       "          [2.74509817e-01, 2.31372550e-01, 2.23529413e-01],\n",
       "          [2.62009799e-01, 2.18872547e-01, 2.11029410e-01],\n",
       "          ...,\n",
       "          [6.86274529e-01, 5.49264729e-01, 4.53921556e-01],\n",
       "          [7.66421556e-01, 6.35294139e-01, 5.50245106e-01],\n",
       "          [6.44117653e-01, 5.20588219e-01, 4.65686262e-01]],\n",
       " \n",
       "         [[2.43137255e-01, 2.00000003e-01, 1.84313729e-01],\n",
       "          [2.82598048e-01, 2.39460781e-01, 2.23774508e-01],\n",
       "          [2.54901975e-01, 2.11764708e-01, 2.01960787e-01],\n",
       "          ...,\n",
       "          [7.89215684e-01, 6.36519611e-01, 5.10784328e-01],\n",
       "          [8.35539222e-01, 6.91666663e-01, 5.70343137e-01],\n",
       "          [7.06127465e-01, 5.59313715e-01, 4.67647046e-01]]],\n",
       " \n",
       " \n",
       "        ...,\n",
       " \n",
       " \n",
       "        [[[7.01960802e-01, 7.41176486e-01, 7.05882370e-01],\n",
       "          [7.01960802e-01, 7.41176486e-01, 7.05882370e-01],\n",
       "          [7.01960802e-01, 7.41176486e-01, 7.05882370e-01],\n",
       "          ...,\n",
       "          [3.22303921e-01, 2.98774511e-01, 2.39460781e-01],\n",
       "          [3.08333337e-01, 2.93627441e-01, 2.34313726e-01],\n",
       "          [3.21568638e-01, 3.09803933e-01, 2.43137255e-01]],\n",
       " \n",
       "         [[7.02941179e-01, 7.42156863e-01, 7.06862748e-01],\n",
       "          [7.02941179e-01, 7.42156863e-01, 7.06862748e-01],\n",
       "          [7.02941179e-01, 7.42156863e-01, 7.06862748e-01],\n",
       "          ...,\n",
       "          [3.70588243e-01, 3.49019617e-01, 2.74509817e-01],\n",
       "          [3.76470596e-01, 3.54901969e-01, 2.80392170e-01],\n",
       "          [3.46078426e-01, 3.24754894e-01, 2.48774514e-01]],\n",
       " \n",
       "         [[7.08823502e-01, 7.48039186e-01, 7.12745070e-01],\n",
       "          [7.08823502e-01, 7.48039186e-01, 7.12745070e-01],\n",
       "          [7.08823502e-01, 7.48039186e-01, 7.12745070e-01],\n",
       "          ...,\n",
       "          [3.84558827e-01, 3.51225495e-01, 2.82598048e-01],\n",
       "          [3.62500012e-01, 3.31372559e-01, 2.58333325e-01],\n",
       "          [3.29166681e-01, 3.02696079e-01, 2.25245103e-01]],\n",
       " \n",
       "         ...,\n",
       " \n",
       "         [[3.33333343e-01, 3.39215696e-01, 2.97058821e-01],\n",
       "          [3.34313720e-01, 3.40196073e-01, 2.90196091e-01],\n",
       "          [3.42647046e-01, 3.48529398e-01, 2.98529416e-01],\n",
       "          ...,\n",
       "          [4.11029398e-01, 3.91421556e-01, 3.75735283e-01],\n",
       "          [4.04901952e-01, 3.87499988e-01, 3.74754906e-01],\n",
       "          [4.21568632e-01, 4.05882359e-01, 3.94117653e-01]],\n",
       " \n",
       "         [[3.33333343e-01, 3.33333343e-01, 2.94117659e-01],\n",
       "          [3.31372559e-01, 3.31372559e-01, 2.84313738e-01],\n",
       "          [3.38970602e-01, 3.38970602e-01, 2.91911751e-01],\n",
       "          ...,\n",
       "          [4.21568632e-01, 4.01960790e-01, 3.86274517e-01],\n",
       "          [4.19852942e-01, 4.00245100e-01, 3.85294110e-01],\n",
       "          [4.37990189e-01, 4.19362754e-01, 4.07598048e-01]],\n",
       " \n",
       "         [[3.33333343e-01, 3.21568638e-01, 2.86274523e-01],\n",
       "          [3.32352936e-01, 3.24509799e-01, 2.77450979e-01],\n",
       "          [3.16666663e-01, 3.14705878e-01, 2.67647058e-01],\n",
       "          ...,\n",
       "          [4.40196067e-01, 4.11764711e-01, 3.99019599e-01],\n",
       "          [4.38970596e-01, 4.19362754e-01, 4.03676480e-01],\n",
       "          [4.50980395e-01, 4.31372553e-01, 4.15686280e-01]]],\n",
       " \n",
       " \n",
       "        [[[7.06617653e-01, 7.18382359e-01, 6.75245106e-01],\n",
       "          [7.05637276e-01, 7.16421545e-01, 6.85048997e-01],\n",
       "          [7.08823502e-01, 7.16666639e-01, 7.02941179e-01],\n",
       "          ...,\n",
       "          [6.76715672e-01, 6.87500000e-01, 6.62009776e-01],\n",
       "          [6.75490201e-01, 6.83333337e-01, 6.69607818e-01],\n",
       "          [6.73529387e-01, 6.81372523e-01, 6.69607818e-01]],\n",
       " \n",
       "         [[7.05637276e-01, 7.17401981e-01, 6.84068620e-01],\n",
       "          [7.06127465e-01, 7.16911793e-01, 6.91421568e-01],\n",
       "          [7.13725507e-01, 7.21568644e-01, 7.07843125e-01],\n",
       "          ...,\n",
       "          [6.80392146e-01, 6.86029434e-01, 6.64215684e-01],\n",
       "          [6.72794104e-01, 6.80637240e-01, 6.61029398e-01],\n",
       "          [6.74509823e-01, 6.82352960e-01, 6.62745118e-01]],\n",
       " \n",
       "         [[7.01715708e-01, 7.10539222e-01, 6.88970566e-01],\n",
       "          [7.06127465e-01, 7.14705884e-01, 6.95098042e-01],\n",
       "          [7.16666639e-01, 7.24509776e-01, 7.12254882e-01],\n",
       "          ...,\n",
       "          [6.67156875e-01, 6.83088243e-01, 6.69117630e-01],\n",
       "          [6.73774481e-01, 6.88235283e-01, 6.79656863e-01],\n",
       "          [6.70588255e-01, 6.85048997e-01, 6.76470578e-01]],\n",
       " \n",
       "         ...,\n",
       " \n",
       "         [[5.86029410e-01, 5.88970602e-01, 5.55637240e-01],\n",
       "          [5.91911793e-01, 5.92647076e-01, 5.68137228e-01],\n",
       "          [6.51225507e-01, 6.45343125e-01, 6.23774529e-01],\n",
       "          ...,\n",
       "          [3.28676462e-01, 3.69607836e-01, 3.99754912e-01],\n",
       "          [3.92647058e-01, 4.35784310e-01, 4.53431368e-01],\n",
       "          [3.95098031e-01, 4.47058827e-01, 4.53921556e-01]],\n",
       " \n",
       "         [[6.99509799e-01, 6.84803903e-01, 6.43627465e-01],\n",
       "          [7.12499976e-01, 6.97794139e-01, 6.58578455e-01],\n",
       "          [7.27205873e-01, 7.10294127e-01, 6.83578432e-01],\n",
       "          ...,\n",
       "          [3.40441167e-01, 3.83578420e-01, 4.07107830e-01],\n",
       "          [3.81127447e-01, 4.24264699e-01, 4.41911757e-01],\n",
       "          [4.03921574e-01, 4.47058827e-01, 4.62745100e-01]],\n",
       " \n",
       "         [[6.96813703e-01, 6.69852912e-01, 6.24509811e-01],\n",
       "          [6.89951003e-01, 6.62500024e-01, 6.25245094e-01],\n",
       "          [6.87500000e-01, 6.60049021e-01, 6.34558797e-01],\n",
       "          ...,\n",
       "          [3.40931386e-01, 3.84068638e-01, 4.07598048e-01],\n",
       "          [3.93137246e-01, 4.36274499e-01, 4.59803909e-01],\n",
       "          [4.07843143e-01, 4.50980395e-01, 4.74509805e-01]]],\n",
       " \n",
       " \n",
       "        [[[0.00000000e+00, 3.92156886e-03, 0.00000000e+00],\n",
       "          [0.00000000e+00, 3.92156886e-03, 0.00000000e+00],\n",
       "          [0.00000000e+00, 9.80392215e-04, 0.00000000e+00],\n",
       "          ...,\n",
       "          [3.18627455e-03, 6.12745108e-03, 3.18627455e-03],\n",
       "          [0.00000000e+00, 0.00000000e+00, 0.00000000e+00],\n",
       "          [0.00000000e+00, 0.00000000e+00, 0.00000000e+00]],\n",
       " \n",
       "         [[0.00000000e+00, 2.94117653e-03, 0.00000000e+00],\n",
       "          [0.00000000e+00, 3.18627455e-03, 0.00000000e+00],\n",
       "          [0.00000000e+00, 3.92156886e-03, 0.00000000e+00],\n",
       "          ...,\n",
       "          [1.47058826e-03, 5.39215701e-03, 2.20588245e-03],\n",
       "          [1.47058826e-03, 1.71568629e-03, 1.47058826e-03],\n",
       "          [0.00000000e+00, 0.00000000e+00, 0.00000000e+00]],\n",
       " \n",
       "         [[0.00000000e+00, 0.00000000e+00, 0.00000000e+00],\n",
       "          [0.00000000e+00, 9.80392215e-04, 0.00000000e+00],\n",
       "          [0.00000000e+00, 3.92156886e-03, 0.00000000e+00],\n",
       "          ...,\n",
       "          [6.54411763e-02, 7.74509832e-02, 7.35294148e-02],\n",
       "          [7.35294132e-04, 1.71568629e-03, 7.35294132e-04],\n",
       "          [0.00000000e+00, 0.00000000e+00, 0.00000000e+00]],\n",
       " \n",
       "         ...,\n",
       " \n",
       "         [[0.00000000e+00, 0.00000000e+00, 0.00000000e+00],\n",
       "          [0.00000000e+00, 9.80392215e-04, 0.00000000e+00],\n",
       "          [0.00000000e+00, 3.92156886e-03, 0.00000000e+00],\n",
       "          ...,\n",
       "          [2.94117648e-02, 4.80392165e-02, 4.11764719e-02],\n",
       "          [0.00000000e+00, 3.92156886e-03, 0.00000000e+00],\n",
       "          [0.00000000e+00, 0.00000000e+00, 0.00000000e+00]],\n",
       " \n",
       "         [[0.00000000e+00, 0.00000000e+00, 0.00000000e+00],\n",
       "          [0.00000000e+00, 9.80392215e-04, 0.00000000e+00],\n",
       "          [0.00000000e+00, 3.92156886e-03, 0.00000000e+00],\n",
       "          ...,\n",
       "          [3.45588252e-02, 5.31862751e-02, 4.63235304e-02],\n",
       "          [0.00000000e+00, 3.92156886e-03, 0.00000000e+00],\n",
       "          [0.00000000e+00, 0.00000000e+00, 0.00000000e+00]],\n",
       " \n",
       "         [[0.00000000e+00, 0.00000000e+00, 0.00000000e+00],\n",
       "          [0.00000000e+00, 3.92156886e-03, 0.00000000e+00],\n",
       "          [0.00000000e+00, 3.92156886e-03, 0.00000000e+00],\n",
       "          ...,\n",
       "          [4.41176482e-02, 6.27451017e-02, 5.58823533e-02],\n",
       "          [0.00000000e+00, 3.92156886e-03, 0.00000000e+00],\n",
       "          [0.00000000e+00, 0.00000000e+00, 0.00000000e+00]]]],\n",
       "       dtype=float32),\n",
       " array([1., 1., 0., 1., 0., 0., 0., 0., 1., 1., 0., 0., 0., 0., 1., 0.],\n",
       "       dtype=float32))"
      ]
     },
     "execution_count": 43,
     "metadata": {},
     "output_type": "execute_result"
    }
   ],
   "source": [
    "batch_1 = test_batch.next()\n",
    "batch_1"
   ]
  },
  {
   "cell_type": "code",
   "execution_count": 44,
   "metadata": {},
   "outputs": [
    {
     "data": {
      "text/plain": [
       "2"
      ]
     },
     "execution_count": 44,
     "metadata": {},
     "output_type": "execute_result"
    }
   ],
   "source": [
    "# think of this as a features\n",
    "x = batch_1[:2]\n",
    "len(x)"
   ]
  },
  {
   "cell_type": "code",
   "execution_count": 45,
   "metadata": {},
   "outputs": [
    {
     "data": {
      "text/plain": [
       "(2, 16, 100, 100, 3)"
      ]
     },
     "execution_count": 45,
     "metadata": {},
     "output_type": "execute_result"
    }
   ],
   "source": [
    "# no. of components (anchor,positive/negative), batch size, shape (100x100x3)\n",
    "np.array(x).shape"
   ]
  },
  {
   "cell_type": "code",
   "execution_count": 46,
   "metadata": {},
   "outputs": [
    {
     "data": {
      "text/plain": [
       "array([1., 1., 0., 1., 0., 0., 0., 0., 1., 1., 0., 0., 0., 0., 1., 0.],\n",
       "      dtype=float32)"
      ]
     },
     "execution_count": 46,
     "metadata": {},
     "output_type": "execute_result"
    }
   ],
   "source": [
    "# just label\n",
    "y = batch_1[2]\n",
    "y"
   ]
  },
  {
   "cell_type": "markdown",
   "metadata": {},
   "source": [
    "## 5.4 Build Training Loop"
   ]
  },
  {
   "cell_type": "markdown",
   "metadata": {},
   "source": [
    "apply train step on every epoch, entire data set oof epoches "
   ]
  },
  {
   "cell_type": "code",
   "execution_count": 47,
   "metadata": {},
   "outputs": [],
   "source": [
    "def trian(data, EPOCHS):\n",
    "    # Loop through epochs\n",
    "    for epoch in range(1, EPOCHS+1):\n",
    "        # print what epoch we up to\n",
    "        print('\\n Epoch {}/{}'.format(epoch, EPOCHS))\n",
    "        # show the prograce bar, if we rape this in a model we would not do it explicitly\n",
    "        progbar = tf.keras.utils.Progbar(len(data))\n",
    "\n",
    "        r = Recall()\n",
    "        p = Precision()\n",
    "\n",
    "        # Loop through each batch\n",
    "        # idx: counter, batch: actual batch\n",
    "        for idx, batch in enumerate(data):\n",
    "            # Run train step here\n",
    "            loss = train_step(batch)\n",
    "            yhat = siamese_model.predict(batch[:2])\n",
    "            r.update_state(batch[2], yhat)\n",
    "            p.update_state(batch[2], yhat)\n",
    "            progbar.update(idx+1)\n",
    "        print(loss.numpy(), r.result().numpy(), p.result().numpy())\n",
    "\n",
    "        # Save checkpoint\n",
    "        if epoch % 10 == 0:\n",
    "            checkpoint.save(file_prefix=checkpoints_prefix)"
   ]
  },
  {
   "cell_type": "markdown",
   "metadata": {},
   "source": [
    "## 5.5 Kickoff Trianing"
   ]
  },
  {
   "cell_type": "code",
   "execution_count": 48,
   "metadata": {},
   "outputs": [],
   "source": [
    "EPOCHS = 50"
   ]
  },
  {
   "cell_type": "code",
   "execution_count": 49,
   "metadata": {},
   "outputs": [
    {
     "name": "stdout",
     "output_type": "stream",
     "text": [
      "\n",
      " Epoch 1/50\n",
      "Tensor(\"binary_crossentropy/weighted_loss/value:0\", shape=(), dtype=float32)\n",
      "Tensor(\"binary_crossentropy/weighted_loss/value:0\", shape=(), dtype=float32)\n",
      "262/263 [============================>.] - ETA: 0sTensor(\"binary_crossentropy/weighted_loss/value:0\", shape=(), dtype=float32)\n",
      "263/263 [==============================] - 149s 544ms/step\n",
      "0.082497105 0.9340029 0.998977\n",
      "\n",
      " Epoch 2/50\n",
      "263/263 [==============================] - 135s 512ms/step\n",
      "0.029147658 0.9928161 0.9980742\n",
      "\n",
      " Epoch 3/50\n",
      " 17/263 [>.............................] - ETA: 2:03"
     ]
    },
    {
     "ename": "KeyboardInterrupt",
     "evalue": "",
     "output_type": "error",
     "traceback": [
      "\u001b[1;31m---------------------------------------------------------------------------\u001b[0m",
      "\u001b[1;31mKeyboardInterrupt\u001b[0m                         Traceback (most recent call last)",
      "Cell \u001b[1;32mIn [49], line 1\u001b[0m\n\u001b[1;32m----> 1\u001b[0m trian(train_data,EPOCHS)\n",
      "Cell \u001b[1;32mIn [47], line 17\u001b[0m, in \u001b[0;36mtrian\u001b[1;34m(data, EPOCHS)\u001b[0m\n\u001b[0;32m     14\u001b[0m \u001b[39mfor\u001b[39;00m idx, batch \u001b[39min\u001b[39;00m \u001b[39menumerate\u001b[39m(data):\n\u001b[0;32m     15\u001b[0m     \u001b[39m# Run train step here\u001b[39;00m\n\u001b[0;32m     16\u001b[0m     loss \u001b[39m=\u001b[39m train_step(batch)\n\u001b[1;32m---> 17\u001b[0m     yhat \u001b[39m=\u001b[39m siamese_model\u001b[39m.\u001b[39;49mpredict(batch[:\u001b[39m2\u001b[39;49m])\n\u001b[0;32m     18\u001b[0m     r\u001b[39m.\u001b[39mupdate_state(batch[\u001b[39m2\u001b[39m], yhat)\n\u001b[0;32m     19\u001b[0m     p\u001b[39m.\u001b[39mupdate_state(batch[\u001b[39m2\u001b[39m], yhat)\n",
      "File \u001b[1;32mc:\\Users\\bashr\\Weekly Projects\\FaceRec\\lib\\site-packages\\tensorflow\\python\\keras\\engine\\training.py:1629\u001b[0m, in \u001b[0;36mModel.predict\u001b[1;34m(self, x, batch_size, verbose, steps, callbacks, max_queue_size, workers, use_multiprocessing)\u001b[0m\n\u001b[0;32m   1627\u001b[0m \u001b[39mfor\u001b[39;00m step \u001b[39min\u001b[39;00m data_handler\u001b[39m.\u001b[39msteps():\n\u001b[0;32m   1628\u001b[0m   callbacks\u001b[39m.\u001b[39mon_predict_batch_begin(step)\n\u001b[1;32m-> 1629\u001b[0m   tmp_batch_outputs \u001b[39m=\u001b[39m \u001b[39mself\u001b[39;49m\u001b[39m.\u001b[39;49mpredict_function(iterator)\n\u001b[0;32m   1630\u001b[0m   \u001b[39mif\u001b[39;00m data_handler\u001b[39m.\u001b[39mshould_sync:\n\u001b[0;32m   1631\u001b[0m     context\u001b[39m.\u001b[39masync_wait()\n",
      "File \u001b[1;32mc:\\Users\\bashr\\Weekly Projects\\FaceRec\\lib\\site-packages\\tensorflow\\python\\eager\\def_function.py:828\u001b[0m, in \u001b[0;36mFunction.__call__\u001b[1;34m(self, *args, **kwds)\u001b[0m\n\u001b[0;32m    826\u001b[0m tracing_count \u001b[39m=\u001b[39m \u001b[39mself\u001b[39m\u001b[39m.\u001b[39mexperimental_get_tracing_count()\n\u001b[0;32m    827\u001b[0m \u001b[39mwith\u001b[39;00m trace\u001b[39m.\u001b[39mTrace(\u001b[39mself\u001b[39m\u001b[39m.\u001b[39m_name) \u001b[39mas\u001b[39;00m tm:\n\u001b[1;32m--> 828\u001b[0m   result \u001b[39m=\u001b[39m \u001b[39mself\u001b[39;49m\u001b[39m.\u001b[39;49m_call(\u001b[39m*\u001b[39;49margs, \u001b[39m*\u001b[39;49m\u001b[39m*\u001b[39;49mkwds)\n\u001b[0;32m    829\u001b[0m   compiler \u001b[39m=\u001b[39m \u001b[39m\"\u001b[39m\u001b[39mxla\u001b[39m\u001b[39m\"\u001b[39m \u001b[39mif\u001b[39;00m \u001b[39mself\u001b[39m\u001b[39m.\u001b[39m_experimental_compile \u001b[39melse\u001b[39;00m \u001b[39m\"\u001b[39m\u001b[39mnonXla\u001b[39m\u001b[39m\"\u001b[39m\n\u001b[0;32m    830\u001b[0m   new_tracing_count \u001b[39m=\u001b[39m \u001b[39mself\u001b[39m\u001b[39m.\u001b[39mexperimental_get_tracing_count()\n",
      "File \u001b[1;32mc:\\Users\\bashr\\Weekly Projects\\FaceRec\\lib\\site-packages\\tensorflow\\python\\eager\\def_function.py:862\u001b[0m, in \u001b[0;36mFunction._call\u001b[1;34m(self, *args, **kwds)\u001b[0m\n\u001b[0;32m    859\u001b[0m \u001b[39mself\u001b[39m\u001b[39m.\u001b[39m_lock\u001b[39m.\u001b[39mrelease()\n\u001b[0;32m    860\u001b[0m \u001b[39m# In this case we have not created variables on the first call. So we can\u001b[39;00m\n\u001b[0;32m    861\u001b[0m \u001b[39m# run the first trace but we should fail if variables are created.\u001b[39;00m\n\u001b[1;32m--> 862\u001b[0m results \u001b[39m=\u001b[39m \u001b[39mself\u001b[39;49m\u001b[39m.\u001b[39;49m_stateful_fn(\u001b[39m*\u001b[39;49margs, \u001b[39m*\u001b[39;49m\u001b[39m*\u001b[39;49mkwds)\n\u001b[0;32m    863\u001b[0m \u001b[39mif\u001b[39;00m \u001b[39mself\u001b[39m\u001b[39m.\u001b[39m_created_variables:\n\u001b[0;32m    864\u001b[0m   \u001b[39mraise\u001b[39;00m \u001b[39mValueError\u001b[39;00m(\u001b[39m\"\u001b[39m\u001b[39mCreating variables on a non-first call to a function\u001b[39m\u001b[39m\"\u001b[39m\n\u001b[0;32m    865\u001b[0m                    \u001b[39m\"\u001b[39m\u001b[39m decorated with tf.function.\u001b[39m\u001b[39m\"\u001b[39m)\n",
      "File \u001b[1;32mc:\\Users\\bashr\\Weekly Projects\\FaceRec\\lib\\site-packages\\tensorflow\\python\\eager\\function.py:2942\u001b[0m, in \u001b[0;36mFunction.__call__\u001b[1;34m(self, *args, **kwargs)\u001b[0m\n\u001b[0;32m   2939\u001b[0m \u001b[39mwith\u001b[39;00m \u001b[39mself\u001b[39m\u001b[39m.\u001b[39m_lock:\n\u001b[0;32m   2940\u001b[0m   (graph_function,\n\u001b[0;32m   2941\u001b[0m    filtered_flat_args) \u001b[39m=\u001b[39m \u001b[39mself\u001b[39m\u001b[39m.\u001b[39m_maybe_define_function(args, kwargs)\n\u001b[1;32m-> 2942\u001b[0m \u001b[39mreturn\u001b[39;00m graph_function\u001b[39m.\u001b[39;49m_call_flat(\n\u001b[0;32m   2943\u001b[0m     filtered_flat_args, captured_inputs\u001b[39m=\u001b[39;49mgraph_function\u001b[39m.\u001b[39;49mcaptured_inputs)\n",
      "File \u001b[1;32mc:\\Users\\bashr\\Weekly Projects\\FaceRec\\lib\\site-packages\\tensorflow\\python\\eager\\function.py:1918\u001b[0m, in \u001b[0;36mConcreteFunction._call_flat\u001b[1;34m(self, args, captured_inputs, cancellation_manager)\u001b[0m\n\u001b[0;32m   1914\u001b[0m possible_gradient_type \u001b[39m=\u001b[39m gradients_util\u001b[39m.\u001b[39mPossibleTapeGradientTypes(args)\n\u001b[0;32m   1915\u001b[0m \u001b[39mif\u001b[39;00m (possible_gradient_type \u001b[39m==\u001b[39m gradients_util\u001b[39m.\u001b[39mPOSSIBLE_GRADIENT_TYPES_NONE\n\u001b[0;32m   1916\u001b[0m     \u001b[39mand\u001b[39;00m executing_eagerly):\n\u001b[0;32m   1917\u001b[0m   \u001b[39m# No tape is watching; skip to running the function.\u001b[39;00m\n\u001b[1;32m-> 1918\u001b[0m   \u001b[39mreturn\u001b[39;00m \u001b[39mself\u001b[39m\u001b[39m.\u001b[39m_build_call_outputs(\u001b[39mself\u001b[39;49m\u001b[39m.\u001b[39;49m_inference_function\u001b[39m.\u001b[39;49mcall(\n\u001b[0;32m   1919\u001b[0m       ctx, args, cancellation_manager\u001b[39m=\u001b[39;49mcancellation_manager))\n\u001b[0;32m   1920\u001b[0m forward_backward \u001b[39m=\u001b[39m \u001b[39mself\u001b[39m\u001b[39m.\u001b[39m_select_forward_and_backward_functions(\n\u001b[0;32m   1921\u001b[0m     args,\n\u001b[0;32m   1922\u001b[0m     possible_gradient_type,\n\u001b[0;32m   1923\u001b[0m     executing_eagerly)\n\u001b[0;32m   1924\u001b[0m forward_function, args_with_tangents \u001b[39m=\u001b[39m forward_backward\u001b[39m.\u001b[39mforward()\n",
      "File \u001b[1;32mc:\\Users\\bashr\\Weekly Projects\\FaceRec\\lib\\site-packages\\tensorflow\\python\\eager\\function.py:555\u001b[0m, in \u001b[0;36m_EagerDefinedFunction.call\u001b[1;34m(self, ctx, args, cancellation_manager)\u001b[0m\n\u001b[0;32m    553\u001b[0m \u001b[39mwith\u001b[39;00m _InterpolateFunctionError(\u001b[39mself\u001b[39m):\n\u001b[0;32m    554\u001b[0m   \u001b[39mif\u001b[39;00m cancellation_manager \u001b[39mis\u001b[39;00m \u001b[39mNone\u001b[39;00m:\n\u001b[1;32m--> 555\u001b[0m     outputs \u001b[39m=\u001b[39m execute\u001b[39m.\u001b[39;49mexecute(\n\u001b[0;32m    556\u001b[0m         \u001b[39mstr\u001b[39;49m(\u001b[39mself\u001b[39;49m\u001b[39m.\u001b[39;49msignature\u001b[39m.\u001b[39;49mname),\n\u001b[0;32m    557\u001b[0m         num_outputs\u001b[39m=\u001b[39;49m\u001b[39mself\u001b[39;49m\u001b[39m.\u001b[39;49m_num_outputs,\n\u001b[0;32m    558\u001b[0m         inputs\u001b[39m=\u001b[39;49margs,\n\u001b[0;32m    559\u001b[0m         attrs\u001b[39m=\u001b[39;49mattrs,\n\u001b[0;32m    560\u001b[0m         ctx\u001b[39m=\u001b[39;49mctx)\n\u001b[0;32m    561\u001b[0m   \u001b[39melse\u001b[39;00m:\n\u001b[0;32m    562\u001b[0m     outputs \u001b[39m=\u001b[39m execute\u001b[39m.\u001b[39mexecute_with_cancellation(\n\u001b[0;32m    563\u001b[0m         \u001b[39mstr\u001b[39m(\u001b[39mself\u001b[39m\u001b[39m.\u001b[39msignature\u001b[39m.\u001b[39mname),\n\u001b[0;32m    564\u001b[0m         num_outputs\u001b[39m=\u001b[39m\u001b[39mself\u001b[39m\u001b[39m.\u001b[39m_num_outputs,\n\u001b[1;32m   (...)\u001b[0m\n\u001b[0;32m    567\u001b[0m         ctx\u001b[39m=\u001b[39mctx,\n\u001b[0;32m    568\u001b[0m         cancellation_manager\u001b[39m=\u001b[39mcancellation_manager)\n",
      "File \u001b[1;32mc:\\Users\\bashr\\Weekly Projects\\FaceRec\\lib\\site-packages\\tensorflow\\python\\eager\\execute.py:59\u001b[0m, in \u001b[0;36mquick_execute\u001b[1;34m(op_name, num_outputs, inputs, attrs, ctx, name)\u001b[0m\n\u001b[0;32m     57\u001b[0m \u001b[39mtry\u001b[39;00m:\n\u001b[0;32m     58\u001b[0m   ctx\u001b[39m.\u001b[39mensure_initialized()\n\u001b[1;32m---> 59\u001b[0m   tensors \u001b[39m=\u001b[39m pywrap_tfe\u001b[39m.\u001b[39;49mTFE_Py_Execute(ctx\u001b[39m.\u001b[39;49m_handle, device_name, op_name,\n\u001b[0;32m     60\u001b[0m                                       inputs, attrs, num_outputs)\n\u001b[0;32m     61\u001b[0m \u001b[39mexcept\u001b[39;00m core\u001b[39m.\u001b[39m_NotOkStatusException \u001b[39mas\u001b[39;00m e:\n\u001b[0;32m     62\u001b[0m   \u001b[39mif\u001b[39;00m name \u001b[39mis\u001b[39;00m \u001b[39mnot\u001b[39;00m \u001b[39mNone\u001b[39;00m:\n",
      "\u001b[1;31mKeyboardInterrupt\u001b[0m: "
     ]
    }
   ],
   "source": [
    "trian(train_data,EPOCHS)\n",
    "# stoped it as soon it got 100 r and p"
   ]
  },
  {
   "cell_type": "markdown",
   "metadata": {},
   "source": [
    "We need something called  eager execution to print the loss"
   ]
  },
  {
   "cell_type": "markdown",
   "metadata": {},
   "source": [
    "# 6. Evaluate Model"
   ]
  },
  {
   "cell_type": "markdown",
   "metadata": {},
   "source": [
    "we goona use the precision and recall matrics"
   ]
  },
  {
   "cell_type": "markdown",
   "metadata": {},
   "source": [
    "## 6.1 Import metrics calculations"
   ]
  },
  {
   "cell_type": "code",
   "execution_count": 77,
   "metadata": {},
   "outputs": [],
   "source": [
    "from tensorflow.keras.metrics import Precision, Recall"
   ]
  },
  {
   "cell_type": "markdown",
   "metadata": {},
   "source": [
    "## 6.2 Get Prediction (y_hat)"
   ]
  },
  {
   "cell_type": "code",
   "execution_count": 50,
   "metadata": {},
   "outputs": [],
   "source": [
    "# Get a batch of test data\n",
    "test_input, test_val, y_true = test_data.as_numpy_iterator().next()"
   ]
  },
  {
   "cell_type": "code",
   "execution_count": 51,
   "metadata": {},
   "outputs": [
    {
     "data": {
      "text/plain": [
       "array([[9.4767474e-06],\n",
       "       [1.5712299e-06],\n",
       "       [9.9999595e-01],\n",
       "       [5.2926725e-07],\n",
       "       [9.9999988e-01],\n",
       "       [9.9768519e-01],\n",
       "       [6.3335119e-06],\n",
       "       [9.9999619e-01],\n",
       "       [2.5129168e-06],\n",
       "       [9.9807715e-01],\n",
       "       [1.9552195e-05],\n",
       "       [9.9999988e-01],\n",
       "       [4.2012442e-04],\n",
       "       [6.6003844e-04],\n",
       "       [9.1879165e-01],\n",
       "       [1.2496976e-05]], dtype=float32)"
      ]
     },
     "execution_count": 51,
     "metadata": {},
     "output_type": "execute_result"
    }
   ],
   "source": [
    "# Make predictions, using my_model.predict\n",
    "y_hat = siamese_model.predict([test_input, test_val])\n",
    "y_hat"
   ]
  },
  {
   "cell_type": "code",
   "execution_count": 52,
   "metadata": {},
   "outputs": [
    {
     "data": {
      "text/plain": [
       "[0, 0, 1, 0, 1, 1, 0, 1, 0, 1, 0, 1, 0, 0, 1, 0]"
      ]
     },
     "execution_count": 52,
     "metadata": {},
     "output_type": "execute_result"
    }
   ],
   "source": [
    "# Post Processing the results, the threshold is 0.5\n",
    "[1 if prediction > 0.5 else 0 for prediction in y_hat]"
   ]
  },
  {
   "cell_type": "code",
   "execution_count": 53,
   "metadata": {},
   "outputs": [
    {
     "data": {
      "text/plain": [
       "array([0., 0., 1., 0., 1., 1., 0., 1., 0., 1., 0., 1., 0., 0., 1., 0.],\n",
       "      dtype=float32)"
      ]
     },
     "execution_count": 53,
     "metadata": {},
     "output_type": "execute_result"
    }
   ],
   "source": [
    "y_true"
   ]
  },
  {
   "cell_type": "markdown",
   "metadata": {},
   "source": [
    "## 6.3 Calculate Metics "
   ]
  },
  {
   "cell_type": "code",
   "execution_count": 54,
   "metadata": {},
   "outputs": [
    {
     "data": {
      "text/plain": [
       "1.0"
      ]
     },
     "execution_count": 54,
     "metadata": {},
     "output_type": "execute_result"
    }
   ],
   "source": [
    "# Creating a metric object\n",
    "m = Precision()\n",
    "\n",
    "# Calculate the Recall value\n",
    "m.update_state(y_true,y_hat)\n",
    "\n",
    "# Return the result\n",
    "m.result().numpy()"
   ]
  },
  {
   "cell_type": "code",
   "execution_count": 55,
   "metadata": {},
   "outputs": [
    {
     "data": {
      "text/plain": [
       "1.0"
      ]
     },
     "execution_count": 55,
     "metadata": {},
     "output_type": "execute_result"
    }
   ],
   "source": [
    "# Creating a metric object\n",
    "m = Recall()\n",
    "\n",
    "# Calculate the Recall value\n",
    "m.update_state(y_true,y_hat)\n",
    "\n",
    "# Return the result\n",
    "m.result().numpy()"
   ]
  },
  {
   "cell_type": "code",
   "execution_count": 56,
   "metadata": {},
   "outputs": [
    {
     "name": "stdout",
     "output_type": "stream",
     "text": [
      "1.0 0.9967983\n"
     ]
    }
   ],
   "source": [
    "# get the evaluation of the entire dataset\n",
    "\n",
    "r = Recall()\n",
    "p = Precision()\n",
    "\n",
    "for test_input, test_val, y_true in test_data.as_numpy_iterator():\n",
    "    yhat = siamese_model.predict([test_input, test_val])\n",
    "    r.update_state(y_true,yhat)\n",
    "    p.update_state(y_true,yhat)\n",
    "\n",
    "print(r.result().numpy(), p.result().numpy())"
   ]
  },
  {
   "cell_type": "markdown",
   "metadata": {},
   "source": [
    "## 6.4 Viz Results"
   ]
  },
  {
   "cell_type": "code",
   "execution_count": 57,
   "metadata": {},
   "outputs": [
    {
     "name": "stdout",
     "output_type": "stream",
     "text": [
      "1.0\n"
     ]
    },
    {
     "data": {
      "image/png": "[encoded data removed]",
      "text/plain": [
       "<Figure size 1000x800 with 2 Axes>"
      ]
     },
     "metadata": {},
     "output_type": "display_data"
    }
   ],
   "source": [
    "i=3\n",
    "print(y_true[i])\n",
    "\n",
    "# Set plot size\n",
    "plt.figure(figsize=(10,8))\n",
    "\n",
    "# subplot: allow to grid the plot, subplot(rows, columns,index)\n",
    "# Set first subplot\n",
    "plt.subplot(1,2,1)\n",
    "plt.imshow(test_input[i])\n",
    "\n",
    "# Set second subplot\n",
    "plt.subplot(1,2,2)\n",
    "plt.imshow(test_val[i])\n",
    "\n",
    "# Render cleanly\n",
    "plt.show()"
   ]
  },
  {
   "cell_type": "markdown",
   "metadata": {},
   "source": [
    "# 7. Save Model"
   ]
  },
  {
   "cell_type": "code",
   "execution_count": 58,
   "metadata": {},
   "outputs": [],
   "source": [
    "# save wights, this will save the weights and optimizer state, save_wights() just saves wights\n",
    "siamese_model.save('siamese_modelv2.h5')"
   ]
  },
  {
   "cell_type": "code",
   "execution_count": 59,
   "metadata": {},
   "outputs": [
    {
     "name": "stdout",
     "output_type": "stream",
     "text": [
      "WARNING:tensorflow:No training configuration found in the save file, so the model was *not* compiled. Compile it manually.\n"
     ]
    }
   ],
   "source": [
    "# Reload model\n",
    "model = tf.keras.models.load_model('siamese_modelv2.h5',\n",
    "custom_objects={'L1Dist':L1Dist, 'BinaryCrossentropy':tf.losses.BinaryCrossentropy})"
   ]
  },
  {
   "cell_type": "code",
   "execution_count": 60,
   "metadata": {},
   "outputs": [
    {
     "data": {
      "text/plain": [
       "array([[1.0000000e+00],\n",
       "       [7.9057263e-06],\n",
       "       [3.0526303e-04],\n",
       "       [9.9995410e-01],\n",
       "       [1.8709452e-06],\n",
       "       [3.6337601e-06],\n",
       "       [8.9679259e-01],\n",
       "       [9.9994087e-01]], dtype=float32)"
      ]
     },
     "execution_count": 60,
     "metadata": {},
     "output_type": "execute_result"
    }
   ],
   "source": [
    "# Using the reloaded model, Makeing predictions\n",
    "model.predict([test_input, test_val])"
   ]
  },
  {
   "cell_type": "code",
   "execution_count": 61,
   "metadata": {},
   "outputs": [
    {
     "name": "stdout",
     "output_type": "stream",
     "text": [
      "Model: \"SiameseNetwork\"\n",
      "__________________________________________________________________________________________________\n",
      "Layer (type)                    Output Shape         Param #     Connected to                     \n",
      "==================================================================================================\n",
      "input_img (InputLayer)          [(None, 100, 100, 3) 0                                            \n",
      "__________________________________________________________________________________________________\n",
      "validation_img (InputLayer)     [(None, 100, 100, 3) 0                                            \n",
      "__________________________________________________________________________________________________\n",
      "embedding (Functional)          (None, 4096)         38960448    input_img[0][0]                  \n",
      "                                                                 validation_img[0][0]             \n",
      "__________________________________________________________________________________________________\n",
      "l1_dist_3 (L1Dist)              (None, 4096)         0           embedding[0][0]                  \n",
      "                                                                 embedding[1][0]                  \n",
      "__________________________________________________________________________________________________\n",
      "dense_1 (Dense)                 (None, 1)            4097        l1_dist_3[0][0]                  \n",
      "==================================================================================================\n",
      "Total params: 38,964,545\n",
      "Trainable params: 38,964,545\n",
      "Non-trainable params: 0\n",
      "__________________________________________________________________________________________________\n"
     ]
    }
   ],
   "source": [
    "model.summary()"
   ]
  },
  {
   "cell_type": "markdown",
   "metadata": {},
   "source": [
    "I have in last two layers in model summary sare different: mine is l1_dist_3 and his is l1_dist_6, and mine is dense_2 and his is dense_3"
   ]
  },
  {
   "cell_type": "markdown",
   "metadata": {},
   "source": [
    "# 8. Real time test"
   ]
  },
  {
   "cell_type": "markdown",
   "metadata": {},
   "source": [
    "![the process](./verification.png)"
   ]
  },
  {
   "cell_type": "markdown",
   "metadata": {},
   "source": [
    "## 8.1 Verification function"
   ]
  },
  {
   "cell_type": "markdown",
   "metadata": {},
   "source": [
    "we gonna do the verification of the input image over 50 samples, the no. of images in verification_images"
   ]
  },
  {
   "cell_type": "code",
   "execution_count": 62,
   "metadata": {},
   "outputs": [],
   "source": [
    "#  frame: what we pass form the cam to the model, the blue line\n",
    "# deteciton_threshold: Metric above which a prediction considered positive. threshold of each image, if the image is positive or negative\n",
    "#  verification_threshold: Proportion  of Positive predictions / Total positive samples (50 images). Threshold of all images predictions. \n",
    "def verify(model, deteciton_threshold, verification_threshold):\n",
    "    \n",
    "    results = []\n",
    "    for image in os.listdir(os.path.join('application_data','verification_images')):\n",
    "        input_img = preprocess(os.path.join('application_data','input_data','input_image.jpg'),)\n",
    "        verification_img = preprocess(os.path.join('application_data','verification_images',image))\n",
    "\n",
    "        # Make predictions\n",
    "        result = model.predict(list(np.expand_dims([input_img,verification_img], axis=1)))\n",
    "        results.append(result)\n",
    "\n",
    "    detection = np.sum(np.array(results)> deteciton_threshold)\n",
    "    verification = detection / len(os.listdir(os.path.join('application_data','verification_images')))\n",
    "    verified = verification > verification_threshold\n",
    "    return results, verified"
   ]
  },
  {
   "cell_type": "markdown",
   "metadata": {},
   "source": [
    "## 8.2 OpenCV real time verification"
   ]
  },
  {
   "cell_type": "code",
   "execution_count": 63,
   "metadata": {},
   "outputs": [
    {
     "name": "stdout",
     "output_type": "stream",
     "text": [
      "True\n",
      "True\n",
      "True\n",
      "True\n",
      "True\n"
     ]
    }
   ],
   "source": [
    "cap = cv2.VideoCapture(0)\n",
    "while cap.isOpened():\n",
    "    ret,frame = cap.read()\n",
    "    # frame = frame[120:120+250,200+250,:]\n",
    "    frame = frame[120:120+250, 200:200+250, :]\n",
    "\n",
    "    cv2.imshow('verification', frame)\n",
    "\n",
    "    if cv2.waitKey(10) & 0xFF == ord('v'):\n",
    "        # save image\n",
    "        cv2.imwrite(os.path.join('application_data','input_data','input_image.jpg'), frame)\n",
    "        results, verified = verify(model, 0.5, 0.5)\n",
    "        print(verified)\n",
    "\n",
    "    if cv2.waitKey(10) & 0xFF == ord('q'):\n",
    "        break\n",
    "    \n",
    "cap.release()\n",
    "cv2.destroyAllWindows()"
   ]
  },
  {
   "cell_type": "code",
   "execution_count": 64,
   "metadata": {},
   "outputs": [
    {
     "data": {
      "text/plain": [
       "36"
      ]
     },
     "execution_count": 64,
     "metadata": {},
     "output_type": "execute_result"
    }
   ],
   "source": [
    "np.sum(np.squeeze(results)>0.5)"
   ]
  },
  {
   "cell_type": "code",
   "execution_count": 1,
   "metadata": {},
   "outputs": [
    {
     "data": {
      "text/plain": [
       "0.6"
      ]
     },
     "execution_count": 1,
     "metadata": {},
     "output_type": "execute_result"
    }
   ],
   "source": [
    "30/50"
   ]
  }
 ],
 "metadata": {
  "accelerator": "GPU",
  "colab": {
   "collapsed_sections": [],
   "provenance": []
  },
  "kernelspec": {
   "display_name": "Python 3.8.10 ('FaceRec': venv)",
   "language": "python",
   "name": "python3"
  },
  "language_info": {
   "codemirror_mode": {
    "name": "ipython",
    "version": 3
   },
   "file_extension": ".py",
   "mimetype": "text/x-python",
   "name": "python",
   "nbconvert_exporter": "python",
   "pygments_lexer": "ipython3",
   "version": "3.8.10"
  },
  "vscode": {
   "interpreter": {
    "hash": "1574ff5ec702cf5fd2309d31edb8eb86f7574596ad5cae74e8eb89ec6b46a50a"
   }
  }
 },
 "nbformat": 4,
 "nbformat_minor": 1
}
