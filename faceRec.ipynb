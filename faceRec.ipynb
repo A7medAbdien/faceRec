{
 "cells": [
  {
   "cell_type": "markdown",
   "metadata": {
    "id": "zv3-hH5AdGEl"
   },
   "source": [
    "## Things do not understand\n",
    "\n",
    "1. sequential API vs functional API\n",
    "2. Siamese Neural Network\n",
    "3. convolution neural network\n",
    "4. Memory growth of GPU \n",
    "5. virtual environment\n",
    "6. Scaling\n",
    "7. data.cache()\n",
    "8. train_data.prefetch(8)\n",
    "9. redundant naming\n",
    "10. create a trianing model"
   ]
  },
  {
   "cell_type": "markdown",
   "metadata": {
    "id": "RwmJf0ADAQYv"
   },
   "source": [
    "## New things\n",
    "\n",
    "1. checking my GPU\n",
    "2. moving files\n",
    "3. cv2\n",
    "4. each python version works with TF version\n",
    "5. using tf.data.Dataset\n",
    "6. zip and *\n",
    "7. tf.data.Dataset.from_tensor_slices"
   ]
  },
  {
   "cell_type": "markdown",
   "metadata": {
    "id": "sB9R7siNUM_R"
   },
   "source": [
    "# 1. Setup"
   ]
  },
  {
   "cell_type": "markdown",
   "metadata": {
    "id": "ya3cbzf7UQ7j"
   },
   "source": [
    "## 1.1 Install Dependencies"
   ]
  },
  {
   "cell_type": "code",
   "execution_count": 2,
   "metadata": {
    "colab": {
     "base_uri": "https://localhost:8080/",
     "height": 1000
    },
    "id": "FL504KSPS-rT",
    "outputId": "28516073-0884-4e9c-976e-42f4f428ed48"
   },
   "outputs": [
    {
     "name": "stdout",
     "output_type": "stream",
     "text": [
      "Requirement already satisfied: tensorflow==2.4.1 in c:\\users\\bashr\\appdata\\local\\programs\\python\\python38\\lib\\site-packages (2.4.1)Note: you may need to restart the kernel to use updated packages.\n",
      "\n",
      "Requirement already satisfied: tensorflow-gpu==2.4.1 in c:\\users\\bashr\\appdata\\local\\programs\\python\\python38\\lib\\site-packages (2.4.1)\n",
      "Requirement already satisfied: opencv-python in c:\\users\\bashr\\appdata\\local\\programs\\python\\python38\\lib\\site-packages (4.6.0.66)\n",
      "Requirement already satisfied: matplotlib in c:\\users\\bashr\\appdata\\local\\programs\\python\\python38\\lib\\site-packages (3.6.0)\n",
      "Requirement already satisfied: flatbuffers~=1.12.0 in c:\\users\\bashr\\appdata\\local\\programs\\python\\python38\\lib\\site-packages (from tensorflow==2.4.1) (1.12)\n",
      "Requirement already satisfied: astunparse~=1.6.3 in c:\\users\\bashr\\appdata\\local\\programs\\python\\python38\\lib\\site-packages (from tensorflow==2.4.1) (1.6.3)\n",
      "Requirement already satisfied: keras-preprocessing~=1.1.2 in c:\\users\\bashr\\appdata\\local\\programs\\python\\python38\\lib\\site-packages (from tensorflow==2.4.1) (1.1.2)\n",
      "Requirement already satisfied: wheel~=0.35 in c:\\users\\bashr\\appdata\\local\\programs\\python\\python38\\lib\\site-packages (from tensorflow==2.4.1) (0.37.1)\n",
      "Requirement already satisfied: protobuf>=3.9.2 in c:\\users\\bashr\\appdata\\local\\programs\\python\\python38\\lib\\site-packages (from tensorflow==2.4.1) (3.19.5)\n",
      "Requirement already satisfied: wrapt~=1.12.1 in c:\\users\\bashr\\appdata\\local\\programs\\python\\python38\\lib\\site-packages (from tensorflow==2.4.1) (1.12.1)\n",
      "Requirement already satisfied: gast==0.3.3 in c:\\users\\bashr\\appdata\\local\\programs\\python\\python38\\lib\\site-packages (from tensorflow==2.4.1) (0.3.3)\n",
      "Requirement already satisfied: grpcio~=1.32.0 in c:\\users\\bashr\\appdata\\local\\programs\\python\\python38\\lib\\site-packages (from tensorflow==2.4.1) (1.32.0)\n",
      "Requirement already satisfied: termcolor~=1.1.0 in c:\\users\\bashr\\appdata\\local\\programs\\python\\python38\\lib\\site-packages (from tensorflow==2.4.1) (1.1.0)\n",
      "Requirement already satisfied: tensorflow-estimator<2.5.0,>=2.4.0 in c:\\users\\bashr\\appdata\\local\\programs\\python\\python38\\lib\\site-packages (from tensorflow==2.4.1) (2.4.0)\n",
      "Requirement already satisfied: six~=1.15.0 in c:\\users\\bashr\\appdata\\local\\programs\\python\\python38\\lib\\site-packages (from tensorflow==2.4.1) (1.15.0)\n",
      "Requirement already satisfied: typing-extensions~=3.7.4 in c:\\users\\bashr\\appdata\\local\\programs\\python\\python38\\lib\\site-packages (from tensorflow==2.4.1) (3.7.4.3)\n",
      "Requirement already satisfied: numpy~=1.19.2 in c:\\users\\bashr\\appdata\\local\\programs\\python\\python38\\lib\\site-packages (from tensorflow==2.4.1) (1.19.5)\n",
      "Requirement already satisfied: opt-einsum~=3.3.0 in c:\\users\\bashr\\appdata\\local\\programs\\python\\python38\\lib\\site-packages (from tensorflow==2.4.1) (3.3.0)\n",
      "Requirement already satisfied: google-pasta~=0.2 in c:\\users\\bashr\\appdata\\local\\programs\\python\\python38\\lib\\site-packages (from tensorflow==2.4.1) (0.2.0)\n",
      "Requirement already satisfied: h5py~=2.10.0 in c:\\users\\bashr\\appdata\\local\\programs\\python\\python38\\lib\\site-packages (from tensorflow==2.4.1) (2.10.0)\n",
      "Requirement already satisfied: absl-py~=0.10 in c:\\users\\bashr\\appdata\\local\\programs\\python\\python38\\lib\\site-packages (from tensorflow==2.4.1) (0.15.0)\n",
      "Requirement already satisfied: tensorboard~=2.4 in c:\\users\\bashr\\appdata\\local\\programs\\python\\python38\\lib\\site-packages (from tensorflow==2.4.1) (2.10.0)\n",
      "Requirement already satisfied: fonttools>=4.22.0 in c:\\users\\bashr\\appdata\\local\\programs\\python\\python38\\lib\\site-packages (from matplotlib) (4.37.3)\n",
      "Requirement already satisfied: pillow>=6.2.0 in c:\\users\\bashr\\appdata\\local\\programs\\python\\python38\\lib\\site-packages (from matplotlib) (9.0.1)\n",
      "Requirement already satisfied: packaging>=20.0 in c:\\users\\bashr\\appdata\\local\\programs\\python\\python38\\lib\\site-packages (from matplotlib) (21.3)\n",
      "Requirement already satisfied: contourpy>=1.0.1 in c:\\users\\bashr\\appdata\\local\\programs\\python\\python38\\lib\\site-packages (from matplotlib) (1.0.5)\n",
      "Requirement already satisfied: kiwisolver>=1.0.1 in c:\\users\\bashr\\appdata\\local\\programs\\python\\python38\\lib\\site-packages (from matplotlib) (1.4.4)\n",
      "Requirement already satisfied: cycler>=0.10 in c:\\users\\bashr\\appdata\\local\\programs\\python\\python38\\lib\\site-packages (from matplotlib) (0.11.0)\n",
      "Requirement already satisfied: python-dateutil>=2.7 in c:\\users\\bashr\\appdata\\local\\programs\\python\\python38\\lib\\site-packages (from matplotlib) (2.8.2)\n",
      "Requirement already satisfied: pyparsing>=2.2.1 in c:\\users\\bashr\\appdata\\local\\programs\\python\\python38\\lib\\site-packages (from matplotlib) (3.0.9)\n",
      "Requirement already satisfied: tensorboard-data-server<0.7.0,>=0.6.0 in c:\\users\\bashr\\appdata\\local\\programs\\python\\python38\\lib\\site-packages (from tensorboard~=2.4->tensorflow==2.4.1) (0.6.1)\n",
      "Requirement already satisfied: google-auth-oauthlib<0.5,>=0.4.1 in c:\\users\\bashr\\appdata\\local\\programs\\python\\python38\\lib\\site-packages (from tensorboard~=2.4->tensorflow==2.4.1) (0.4.6)\n",
      "Requirement already satisfied: tensorboard-plugin-wit>=1.6.0 in c:\\users\\bashr\\appdata\\local\\programs\\python\\python38\\lib\\site-packages (from tensorboard~=2.4->tensorflow==2.4.1) (1.8.1)\n",
      "Requirement already satisfied: requests<3,>=2.21.0 in c:\\users\\bashr\\appdata\\local\\programs\\python\\python38\\lib\\site-packages (from tensorboard~=2.4->tensorflow==2.4.1) (2.25.1)\n",
      "Requirement already satisfied: werkzeug>=1.0.1 in c:\\users\\bashr\\appdata\\local\\programs\\python\\python38\\lib\\site-packages (from tensorboard~=2.4->tensorflow==2.4.1) (2.2.2)\n",
      "Requirement already satisfied: markdown>=2.6.8 in c:\\users\\bashr\\appdata\\local\\programs\\python\\python38\\lib\\site-packages (from tensorboard~=2.4->tensorflow==2.4.1) (3.4.1)\n",
      "Requirement already satisfied: google-auth<3,>=1.6.3 in c:\\users\\bashr\\appdata\\local\\programs\\python\\python38\\lib\\site-packages (from tensorboard~=2.4->tensorflow==2.4.1) (2.11.1)\n",
      "Requirement already satisfied: setuptools>=41.0.0 in c:\\users\\bashr\\appdata\\local\\programs\\python\\python38\\lib\\site-packages (from tensorboard~=2.4->tensorflow==2.4.1) (56.0.0)\n",
      "Requirement already satisfied: pyasn1-modules>=0.2.1 in c:\\users\\bashr\\appdata\\local\\programs\\python\\python38\\lib\\site-packages (from google-auth<3,>=1.6.3->tensorboard~=2.4->tensorflow==2.4.1) (0.2.8)\n",
      "Requirement already satisfied: cachetools<6.0,>=2.0.0 in c:\\users\\bashr\\appdata\\local\\programs\\python\\python38\\lib\\site-packages (from google-auth<3,>=1.6.3->tensorboard~=2.4->tensorflow==2.4.1) (5.2.0)\n",
      "Requirement already satisfied: rsa<5,>=3.1.4 in c:\\users\\bashr\\appdata\\local\\programs\\python\\python38\\lib\\site-packages (from google-auth<3,>=1.6.3->tensorboard~=2.4->tensorflow==2.4.1) (4.9)\n",
      "Requirement already satisfied: requests-oauthlib>=0.7.0 in c:\\users\\bashr\\appdata\\local\\programs\\python\\python38\\lib\\site-packages (from google-auth-oauthlib<0.5,>=0.4.1->tensorboard~=2.4->tensorflow==2.4.1) (1.3.1)\n",
      "Requirement already satisfied: importlib-metadata>=4.4 in c:\\users\\bashr\\appdata\\local\\programs\\python\\python38\\lib\\site-packages (from markdown>=2.6.8->tensorboard~=2.4->tensorflow==2.4.1) (4.12.0)\n",
      "Requirement already satisfied: urllib3<1.27,>=1.21.1 in c:\\users\\bashr\\appdata\\local\\programs\\python\\python38\\lib\\site-packages (from requests<3,>=2.21.0->tensorboard~=2.4->tensorflow==2.4.1) (1.26.5)\n",
      "Requirement already satisfied: certifi>=2017.4.17 in c:\\users\\bashr\\appdata\\local\\programs\\python\\python38\\lib\\site-packages (from requests<3,>=2.21.0->tensorboard~=2.4->tensorflow==2.4.1) (2022.6.15)\n",
      "Requirement already satisfied: idna<3,>=2.5 in c:\\users\\bashr\\appdata\\local\\programs\\python\\python38\\lib\\site-packages (from requests<3,>=2.21.0->tensorboard~=2.4->tensorflow==2.4.1) (2.8)\n",
      "Requirement already satisfied: chardet<5,>=3.0.2 in c:\\users\\bashr\\appdata\\local\\programs\\python\\python38\\lib\\site-packages (from requests<3,>=2.21.0->tensorboard~=2.4->tensorflow==2.4.1) (3.0.4)\n",
      "Requirement already satisfied: MarkupSafe>=2.1.1 in c:\\users\\bashr\\appdata\\local\\programs\\python\\python38\\lib\\site-packages (from werkzeug>=1.0.1->tensorboard~=2.4->tensorflow==2.4.1) (2.1.1)\n",
      "Requirement already satisfied: zipp>=0.5 in c:\\users\\bashr\\appdata\\local\\programs\\python\\python38\\lib\\site-packages (from importlib-metadata>=4.4->markdown>=2.6.8->tensorboard~=2.4->tensorflow==2.4.1) (3.8.1)\n",
      "Requirement already satisfied: pyasn1<0.5.0,>=0.4.6 in c:\\users\\bashr\\appdata\\local\\programs\\python\\python38\\lib\\site-packages (from pyasn1-modules>=0.2.1->google-auth<3,>=1.6.3->tensorboard~=2.4->tensorflow==2.4.1) (0.4.8)\n",
      "Requirement already satisfied: oauthlib>=3.0.0 in c:\\users\\bashr\\appdata\\local\\programs\\python\\python38\\lib\\site-packages (from requests-oauthlib>=0.7.0->google-auth-oauthlib<0.5,>=0.4.1->tensorboard~=2.4->tensorflow==2.4.1) (3.2.1)\n",
      "\n",
      "[notice] A new release of pip available: 22.1.2 -> 22.2.2\n",
      "[notice] To update, run: python.exe -m pip install --upgrade pip\n"
     ]
    }
   ],
   "source": [
    "%pip install tensorflow==2.4.1 tensorflow-gpu==2.4.1 opencv-python matplotlib"
   ]
  },
  {
   "cell_type": "markdown",
   "metadata": {
    "id": "qyHxzU7iVNm6"
   },
   "source": [
    "## 1.2 import dependencies"
   ]
  },
  {
   "cell_type": "markdown",
   "metadata": {
    "id": "Xi5eLrhQbjfL"
   },
   "source": [
    "Standerd dependancies"
   ]
  },
  {
   "cell_type": "code",
   "execution_count": 3,
   "metadata": {
    "id": "9SdIxclrVSeP"
   },
   "outputs": [],
   "source": [
    "# opencv will give us image process capabilities, and we needs it for testing\n",
    "import cv2\n",
    "# it abstact the OS from our python code! makes it a whole heap, and easier to work with different directories and different file paths\n",
    "import os\n",
    "# ganerate random data\n",
    "import random\n",
    "# great when working with arrays\n",
    "import numpy as np\n",
    "# visualization\n",
    "from matplotlib import pyplot as plt"
   ]
  },
  {
   "cell_type": "markdown",
   "metadata": {
    "id": "IyNGJ7EEbohj"
   },
   "source": [
    "### Transorflow Ddpendencies\n",
    "\n",
    "there is a sequintial API, and functional API. fancional API, usefull for hardcore deep learning models\n"
   ]
  },
  {
   "cell_type": "code",
   "execution_count": 4,
   "metadata": {
    "id": "Hl9z_heUbuoI"
   },
   "outputs": [],
   "source": [
    "from tensorflow.keras.models import Model\n",
    "from tensorflow.keras.layers import Layer, Conv2D, Dense, MaxPooling2D, Input, Flatten\n",
    "import tensorflow as tf"
   ]
  },
  {
   "cell_type": "markdown",
   "metadata": {
    "id": "Y8Dx9oVSe5HA"
   },
   "source": [
    "Model: Model(inputs=[inputimage, verificationimage], outputs=[0,1])\n",
    "\n",
    "Layer: high level class, allows to define a cusom layer, class L1Dist(Layer)\n",
    "\n",
    "Conv2v: allow convolution, convolutional nural newtwork\n",
    "\n",
    "Dense: give us fully connected layer\n",
    "\n",
    "MaxPooling: shrinks the information \n",
    "\n",
    "Input: Input(shape=)\n",
    "\n",
    "flatten: flatten the data into a single dimension layer, allows to pass the convolutional neural network data to dense layer"
   ]
  },
  {
   "cell_type": "markdown",
   "metadata": {
    "id": "FMtQ_W89g9rb"
   },
   "source": [
    "## 1.3 Set GPU Growth"
   ]
  },
  {
   "cell_type": "markdown",
   "metadata": {},
   "source": [
    "limits how much vram tensorflow can use, don't let TF to go crazy"
   ]
  },
  {
   "cell_type": "code",
   "execution_count": 5,
   "metadata": {
    "id": "2Nf_6AyGePEP"
   },
   "outputs": [],
   "source": [
    "# avoind OOM errors by setting GPU Memory Consumption Growth\n",
    "# giting all available GPUs on our machien\n",
    "gpus = tf.config.experimental.list_physical_devices('GPU')\n",
    "for gpu in gpus:\n",
    "    tf.config.experimental.set_memory_growth(gpu,True)"
   ]
  },
  {
   "cell_type": "code",
   "execution_count": 6,
   "metadata": {
    "colab": {
     "base_uri": "https://localhost:8080/"
    },
    "id": "huFIL_LtiUXM",
    "outputId": "c2f3d6d5-e04a-427e-95e3-8f0d1a6144d0"
   },
   "outputs": [
    {
     "data": {
      "text/plain": [
       "0"
      ]
     },
     "execution_count": 6,
     "metadata": {},
     "output_type": "execute_result"
    }
   ],
   "source": [
    "len(gpus)"
   ]
  },
  {
   "cell_type": "markdown",
   "metadata": {
    "id": "xusHx8Hskgf0"
   },
   "source": [
    "## 1.4 Create folder Structures"
   ]
  },
  {
   "cell_type": "markdown",
   "metadata": {},
   "source": [
    "Anchor: Unknown Input\n",
    "\n",
    "Positive: What should match\n",
    "\n",
    "Negative: What should not match"
   ]
  },
  {
   "cell_type": "code",
   "execution_count": 7,
   "metadata": {
    "id": "52CKdJqNkf28"
   },
   "outputs": [],
   "source": [
    "# Setup paths\n",
    "POS_PATH = os.path.join('data', 'positive')\n",
    "NEG_PATH = os.path.join('data', 'negative')\n",
    "ANC_PATH = os.path.join('data', 'anchoer')"
   ]
  },
  {
   "cell_type": "code",
   "execution_count": 7,
   "metadata": {
    "id": "BGAdq8eTmQ9w"
   },
   "outputs": [],
   "source": [
    "# Mke the directories\n",
    "os.makedirs(POS_PATH)\n",
    "os.makedirs(NEG_PATH)\n",
    "os.makedirs(ANC_PATH)"
   ]
  },
  {
   "cell_type": "markdown",
   "metadata": {},
   "source": [
    "# 2. Collect positive and anchor data"
   ]
  },
  {
   "cell_type": "markdown",
   "metadata": {},
   "source": [
    "## 2.1 Untar the dataset, Collect Negative data"
   ]
  },
  {
   "cell_type": "code",
   "execution_count": 8,
   "metadata": {
    "colab": {
     "base_uri": "https://localhost:8080/"
    },
    "id": "TMplDjBwCDuC",
    "outputId": "386e5064-8238-4759-9837-8272e3a5c8cb"
   },
   "outputs": [],
   "source": [
    "# uncompress the database\n",
    "!tar -xf lfw.tgz"
   ]
  },
  {
   "cell_type": "code",
   "execution_count": 9,
   "metadata": {
    "id": "1pb7UluXClG8"
   },
   "outputs": [],
   "source": [
    "# move dataset to the negative directory\n",
    "\n",
    "for dir in os.listdir('lfw'):\n",
    "  for file in os.listdir(os.path.join('lfw', dir)):\n",
    "    EX_PATH = os.path.join('lfw', dir, file)\n",
    "    NEW_PATH = os.path.join(NEG_PATH, file)\n",
    "    os.replace(EX_PATH, NEW_PATH)"
   ]
  },
  {
   "cell_type": "markdown",
   "metadata": {
    "id": "slAqNDmj8bE3"
   },
   "source": [
    "## 2.2 Collect Positive and Anchor data"
   ]
  },
  {
   "cell_type": "markdown",
   "metadata": {},
   "source": [
    "That will be done using the openCV to access the camera "
   ]
  },
  {
   "cell_type": "code",
   "execution_count": 6,
   "metadata": {},
   "outputs": [],
   "source": [
    "# import uuid, universally unique identity identifier, to generate unique image names\n",
    "import uuid"
   ]
  },
  {
   "cell_type": "code",
   "execution_count": 8,
   "metadata": {
    "id": "SkLFaclh9BQo"
   },
   "outputs": [
    {
     "name": "stdout",
     "output_type": "stream",
     "text": [
      "True\n"
     ]
    },
    {
     "ename": "KeyboardInterrupt",
     "evalue": "",
     "output_type": "error",
     "traceback": [
      "\u001b[1;31m---------------------------------------------------------------------------\u001b[0m",
      "\u001b[1;31mKeyboardInterrupt\u001b[0m                         Traceback (most recent call last)",
      "Cell \u001b[1;32mIn [8], line 10\u001b[0m\n\u001b[0;32m      5\u001b[0m \u001b[38;5;28mprint\u001b[39m(cap\u001b[38;5;241m.\u001b[39misOpened())\n\u001b[0;32m      6\u001b[0m \u001b[38;5;28;01mwhile\u001b[39;00m cap\u001b[38;5;241m.\u001b[39misOpened():\n\u001b[0;32m      7\u001b[0m     \u001b[38;5;66;03m# unpack the result\u001b[39;00m\n\u001b[0;32m      8\u001b[0m     \u001b[38;5;66;03m# ret: returned value!\u001b[39;00m\n\u001b[0;32m      9\u001b[0m     \u001b[38;5;66;03m# frame: actual frame, the actual image\u001b[39;00m\n\u001b[1;32m---> 10\u001b[0m     ret, frame \u001b[38;5;241m=\u001b[39m \u001b[43mcap\u001b[49m\u001b[38;5;241;43m.\u001b[39;49m\u001b[43mread\u001b[49m\u001b[43m(\u001b[49m\u001b[43m)\u001b[49m\n\u001b[0;32m     12\u001b[0m     \u001b[38;5;66;03m# 2. Cut down frame to 250x250px\u001b[39;00m\n\u001b[0;32m     13\u001b[0m     frame \u001b[38;5;241m=\u001b[39m frame[\u001b[38;5;241m120\u001b[39m:\u001b[38;5;241m120\u001b[39m\u001b[38;5;241m+\u001b[39m\u001b[38;5;241m250\u001b[39m, \u001b[38;5;241m200\u001b[39m:\u001b[38;5;241m200\u001b[39m\u001b[38;5;241m+\u001b[39m\u001b[38;5;241m250\u001b[39m, :]\n",
      "\u001b[1;31mKeyboardInterrupt\u001b[0m: "
     ]
    },
    {
     "ename": "",
     "evalue": "",
     "output_type": "error",
     "traceback": [
      "\u001b[1;31mThe Kernel crashed while executing code in the the current cell or a previous cell. Please review the code in the cell(s) to identify a possible cause of the failure. Click <a href='https://aka.ms/vscodeJupyterKernelCrash'>here</a> for more info. View Jupyter <a href='command:jupyter.viewOutput'>log</a> for further details."
     ]
    }
   ],
   "source": [
    "# establish connection with webcam\n",
    "#0 for your primary camera and 1 for your secondary camera\n",
    "cap = cv2.VideoCapture(0)\n",
    "# loop on every frame in our webcam\n",
    "print(cap.isOpened())\n",
    "while cap.isOpened():\n",
    "    # unpack the result\n",
    "    # ret: returned value!\n",
    "    # frame: actual frame, the actual image\n",
    "    ret, frame = cap.read()\n",
    "\n",
    "    # 2. Cut down frame to 250x250px\n",
    "    frame = frame[120:120+250, 200:200+250, :]\n",
    "    \n",
    "    # 3. Collect anchor and positive\n",
    "    if cv2.waitKey(1) & 0xFF == ord('p'):\n",
    "        # Create image name\n",
    "        imgname = os.path.join(POS_PATH, '{}.jpg'.format(uuid.uuid1()))\n",
    "        # write out image\n",
    "        cv2.imwrite(imgname, frame)\n",
    "\n",
    "    if cv2.waitKey(1) & 0xFF == ord('a'):\n",
    "        # Create image name\n",
    "        imgname = os.path.join(ANC_PATH, '{}.jpg'.format(uuid.uuid1()))\n",
    "        # write out image\n",
    "        cv2.imwrite(imgname, frame)\n",
    "        \n",
    "    # to see what we doing, it shows the image back to the screen\n",
    "    # showing the feed from the webcam on the screen or inside cv2 frame\n",
    "    cv2.imshow('Image Collection', frame)\n",
    "\n",
    "    # Breaking gracefully\n",
    "    # waitKey(1): wait 1ms\n",
    "    # 0xFF == ord('q'): checking what key is being pressed,\n",
    "    # unpacking what is being pressed from our keyboard\n",
    "    if cv2.waitKey(1) & 0xFF == ord('q'):\n",
    "        break\n",
    "\n",
    "# release the webcam\n",
    "cap.release()\n",
    "# close the image show frame\n",
    "cv2.destroyAllWindows()"
   ]
  },
  {
   "cell_type": "code",
   "execution_count": 8,
   "metadata": {
    "id": "gkcZLSeFHVww"
   },
   "outputs": [
    {
     "ename": "NameError",
     "evalue": "name 'frame' is not defined",
     "output_type": "error",
     "traceback": [
      "\u001b[1;31m---------------------------------------------------------------------------\u001b[0m",
      "\u001b[1;31mNameError\u001b[0m                                 Traceback (most recent call last)",
      "Cell \u001b[1;32mIn [8], line 1\u001b[0m\n\u001b[1;32m----> 1\u001b[0m \u001b[43mframe\u001b[49m\u001b[38;5;241m.\u001b[39mshape\n",
      "\u001b[1;31mNameError\u001b[0m: name 'frame' is not defined"
     ]
    }
   ],
   "source": [
    "frame.shape "
   ]
  },
  {
   "cell_type": "code",
   "execution_count": 9,
   "metadata": {
    "collapsed": true
   },
   "outputs": [
    {
     "ename": "NameError",
     "evalue": "name 'frame' is not defined",
     "output_type": "error",
     "traceback": [
      "\u001b[1;31m---------------------------------------------------------------------------\u001b[0m",
      "\u001b[1;31mNameError\u001b[0m                                 Traceback (most recent call last)",
      "Cell \u001b[1;32mIn [9], line 2\u001b[0m\n\u001b[0;32m      1\u001b[0m \u001b[38;5;66;03m# frame[x, y, channels]\u001b[39;00m\n\u001b[1;32m----> 2\u001b[0m plt\u001b[38;5;241m.\u001b[39mimshow(\u001b[43mframe\u001b[49m[\u001b[38;5;241m120\u001b[39m:\u001b[38;5;241m120\u001b[39m\u001b[38;5;241m+\u001b[39m\u001b[38;5;241m250\u001b[39m, \u001b[38;5;241m200\u001b[39m:\u001b[38;5;241m200\u001b[39m\u001b[38;5;241m+\u001b[39m\u001b[38;5;241m250\u001b[39m, :])\n",
      "\u001b[1;31mNameError\u001b[0m: name 'frame' is not defined"
     ]
    }
   ],
   "source": [
    "# frame[x, y, channels]\n",
    "plt.imshow(frame[120:120+250, 200:200+250, :])"
   ]
  },
  {
   "cell_type": "code",
   "execution_count": 10,
   "metadata": {
    "colab": {
     "base_uri": "https://localhost:8080/",
     "height": 182
    },
    "collapsed": true,
    "id": "YBEiZPo_HK4L",
    "outputId": "198b8afe-57cd-40e7-f0e3-f2cfaac8202d"
   },
   "outputs": [
    {
     "ename": "NameError",
     "evalue": "name 'frame' is not defined",
     "output_type": "error",
     "traceback": [
      "\u001b[1;31m---------------------------------------------------------------------------\u001b[0m",
      "\u001b[1;31mNameError\u001b[0m                                 Traceback (most recent call last)",
      "Cell \u001b[1;32mIn [10], line 2\u001b[0m\n\u001b[0;32m      1\u001b[0m \u001b[38;5;66;03m# frame before cut, the color looks diffrent because openCV have a different channel order\u001b[39;00m\n\u001b[1;32m----> 2\u001b[0m plt\u001b[38;5;241m.\u001b[39mimshow(\u001b[43mframe\u001b[49m)\n",
      "\u001b[1;31mNameError\u001b[0m: name 'frame' is not defined"
     ]
    }
   ],
   "source": [
    "# frame before cut, the color looks diffrent because openCV have a different channel order\n",
    "plt.imshow(frame)"
   ]
  },
  {
   "cell_type": "markdown",
   "metadata": {},
   "source": [
    "# 3. Load and Preprocessing Images"
   ]
  },
  {
   "cell_type": "markdown",
   "metadata": {},
   "source": [
    "## 3.1 Get image directories"
   ]
  },
  {
   "cell_type": "code",
   "execution_count": 11,
   "metadata": {},
   "outputs": [],
   "source": [
    "\n",
    "# using a generator te be able to loop through specific directory\n",
    "# creates a set or pipeline for files in this directory\n",
    "# it loads the image path not the image itself\n",
    "anchor = tf.data.Dataset.list_files(ANC_PATH + '\\*.jpg').take(300)\n",
    "positive = tf.data.Dataset.list_files(POS_PATH + '\\*.jpg').take(300)\n",
    "negative = tf.data.Dataset.list_files(NEG_PATH + '\\*.jpg').take(300)"
   ]
  },
  {
   "cell_type": "code",
   "execution_count": 12,
   "metadata": {},
   "outputs": [
    {
     "data": {
      "text/plain": [
       "'data\\\\anchoer\\\\*.jpg'"
      ]
     },
     "execution_count": 12,
     "metadata": {},
     "output_type": "execute_result"
    }
   ],
   "source": [
    "ANC_PATH + '\\*.jpg'"
   ]
  },
  {
   "cell_type": "code",
   "execution_count": 13,
   "metadata": {},
   "outputs": [
    {
     "data": {
      "text/plain": [
       "b'data\\\\anchoer\\\\6e7cdad1-3bb4-11ed-936c-7c8ae18b9df3.jpg'"
      ]
     },
     "execution_count": 13,
     "metadata": {},
     "output_type": "execute_result"
    }
   ],
   "source": [
    "dir_test = anchor.as_numpy_iterator()\n",
    "dir_test.next()"
   ]
  },
  {
   "cell_type": "markdown",
   "metadata": {},
   "source": [
    "### How we gonna train:\n",
    "\n",
    "1. take a batch\n",
    "2. calculate error/lost\n",
    "3. calculate the gradients\n",
    "4. update wights by apply the uprated gradients\n",
    "\n",
    "this data pipeline or as_numpy_iterator allows us to this"
   ]
  },
  {
   "cell_type": "markdown",
   "metadata": {},
   "source": [
    "## 3.2 PreProcessing - Scale and Resize"
   ]
  },
  {
   "cell_type": "markdown",
   "metadata": {},
   "source": [
    "1. loads our images from directory\n",
    "2. resize it\n",
    "3. perform some scaling\n",
    "\n",
    "Converting all images value from (255-0) to (1-0), to optimize performance of neural network for get the gradient descent"
   ]
  },
  {
   "cell_type": "markdown",
   "metadata": {},
   "source": [
    "**this our goal:** dataset_generator.map(preprocessing_function)"
   ]
  },
  {
   "cell_type": "code",
   "execution_count": 14,
   "metadata": {},
   "outputs": [],
   "source": [
    "def preprocess(file_path):\n",
    "\n",
    "    # Read in image, as a bytes-like object, from file path\n",
    "    byte_img = tf.io.read_file(file_path)\n",
    "    # load in the image\n",
    "    img = tf.io.decode_jpeg(byte_img)\n",
    "\n",
    "    # Preprocessing steps\n",
    "    # 1. resizing the image to be 100x100\n",
    "    img = tf.image.resize(img,(100,100))\n",
    "    # 2. Scale image to be between 0 and 1\n",
    "    img /= 255.0\n",
    "    return img"
   ]
  },
  {
   "cell_type": "code",
   "execution_count": 15,
   "metadata": {},
   "outputs": [
    {
     "data": {
      "text/plain": [
       "<matplotlib.image.AxesImage at 0x221092cee80>"
      ]
     },
     "execution_count": 15,
     "metadata": {},
     "output_type": "execute_result"
    },
    {
     "data": {
      "image/png": "[encoded data removed]",
      "text/plain": [
       "<Figure size 640x480 with 1 Axes>"
      ]
     },
     "metadata": {},
     "output_type": "display_data"
    }
   ],
   "source": [
    "img = preprocess('data\\\\anchoer\\\\677c2477-3bb4-11ed-9313-7c8ae18b9df3.jpg')\n",
    "plt.imshow(img)"
   ]
  },
  {
   "cell_type": "code",
   "execution_count": 16,
   "metadata": {},
   "outputs": [
    {
     "data": {
      "text/plain": [
       "0.94264704"
      ]
     },
     "execution_count": 16,
     "metadata": {},
     "output_type": "execute_result"
    }
   ],
   "source": [
    "img.numpy().max()"
   ]
  },
  {
   "cell_type": "markdown",
   "metadata": {},
   "source": [
    "## 3.3 Create Labelled Dataset"
   ]
  },
  {
   "cell_type": "markdown",
   "metadata": {},
   "source": [
    "we gonna pass anchor with positive or negative image and get 1's or 0's\n",
    "\n",
    "(anchor, positive) => 1,1,1,1,1\n",
    "\n",
    "(anchor, negative) => 0,0,0,0,0"
   ]
  },
  {
   "cell_type": "code",
   "execution_count": 17,
   "metadata": {},
   "outputs": [
    {
     "data": {
      "text/plain": [
       "<tf.Tensor: shape=(300,), dtype=float32, numpy=\n",
       "array([1., 1., 1., 1., 1., 1., 1., 1., 1., 1., 1., 1., 1., 1., 1., 1., 1.,\n",
       "       1., 1., 1., 1., 1., 1., 1., 1., 1., 1., 1., 1., 1., 1., 1., 1., 1.,\n",
       "       1., 1., 1., 1., 1., 1., 1., 1., 1., 1., 1., 1., 1., 1., 1., 1., 1.,\n",
       "       1., 1., 1., 1., 1., 1., 1., 1., 1., 1., 1., 1., 1., 1., 1., 1., 1.,\n",
       "       1., 1., 1., 1., 1., 1., 1., 1., 1., 1., 1., 1., 1., 1., 1., 1., 1.,\n",
       "       1., 1., 1., 1., 1., 1., 1., 1., 1., 1., 1., 1., 1., 1., 1., 1., 1.,\n",
       "       1., 1., 1., 1., 1., 1., 1., 1., 1., 1., 1., 1., 1., 1., 1., 1., 1.,\n",
       "       1., 1., 1., 1., 1., 1., 1., 1., 1., 1., 1., 1., 1., 1., 1., 1., 1.,\n",
       "       1., 1., 1., 1., 1., 1., 1., 1., 1., 1., 1., 1., 1., 1., 1., 1., 1.,\n",
       "       1., 1., 1., 1., 1., 1., 1., 1., 1., 1., 1., 1., 1., 1., 1., 1., 1.,\n",
       "       1., 1., 1., 1., 1., 1., 1., 1., 1., 1., 1., 1., 1., 1., 1., 1., 1.,\n",
       "       1., 1., 1., 1., 1., 1., 1., 1., 1., 1., 1., 1., 1., 1., 1., 1., 1.,\n",
       "       1., 1., 1., 1., 1., 1., 1., 1., 1., 1., 1., 1., 1., 1., 1., 1., 1.,\n",
       "       1., 1., 1., 1., 1., 1., 1., 1., 1., 1., 1., 1., 1., 1., 1., 1., 1.,\n",
       "       1., 1., 1., 1., 1., 1., 1., 1., 1., 1., 1., 1., 1., 1., 1., 1., 1.,\n",
       "       1., 1., 1., 1., 1., 1., 1., 1., 1., 1., 1., 1., 1., 1., 1., 1., 1.,\n",
       "       1., 1., 1., 1., 1., 1., 1., 1., 1., 1., 1., 1., 1., 1., 1., 1., 1.,\n",
       "       1., 1., 1., 1., 1., 1., 1., 1., 1., 1., 1.], dtype=float32)>"
      ]
     },
     "execution_count": 17,
     "metadata": {},
     "output_type": "execute_result"
    }
   ],
   "source": [
    "tf.ones(len(anchor))"
   ]
  },
  {
   "cell_type": "code",
   "execution_count": 18,
   "metadata": {},
   "outputs": [],
   "source": [
    "class_labels = tf.data.Dataset.from_tensor_slices([1,2,3,4])\n",
    "iterator_labels = class_labels.as_numpy_iterator()"
   ]
  },
  {
   "cell_type": "code",
   "execution_count": 19,
   "metadata": {},
   "outputs": [
    {
     "data": {
      "text/plain": [
       "1"
      ]
     },
     "execution_count": 19,
     "metadata": {},
     "output_type": "execute_result"
    }
   ],
   "source": [
    "iterator_labels.next()"
   ]
  },
  {
   "cell_type": "code",
   "execution_count": 20,
   "metadata": {},
   "outputs": [],
   "source": [
    "# zip to iterate the three of them at the same time \n",
    "positive = tf.data.Dataset.zip((anchor, positive, tf.data.Dataset.from_tensor_slices(tf.ones(len(anchor)))))\n",
    "negative = tf.data.Dataset.zip((anchor, negative, tf.data.Dataset.from_tensor_slices(tf.zeros(len(anchor)))))\n",
    "data =  positive.concatenate(negative)"
   ]
  },
  {
   "cell_type": "code",
   "execution_count": 21,
   "metadata": {},
   "outputs": [
    {
     "data": {
      "text/plain": [
       "<ConcatenateDataset shapes: ((), (), ()), types: (tf.string, tf.string, tf.float32)>"
      ]
     },
     "execution_count": 21,
     "metadata": {},
     "output_type": "execute_result"
    }
   ],
   "source": [
    "# now we have a dataset with (anchor path, +/- path, label)\n",
    "data"
   ]
  },
  {
   "cell_type": "code",
   "execution_count": 22,
   "metadata": {},
   "outputs": [],
   "source": [
    "samples = data.as_numpy_iterator()"
   ]
  },
  {
   "cell_type": "code",
   "execution_count": 23,
   "metadata": {},
   "outputs": [],
   "source": [
    "example = samples.next()"
   ]
  },
  {
   "cell_type": "markdown",
   "metadata": {},
   "source": [
    "### Apply preprocessing function "
   ]
  },
  {
   "cell_type": "code",
   "execution_count": 24,
   "metadata": {},
   "outputs": [
    {
     "data": {
      "text/plain": [
       "(<tf.Tensor: shape=(100, 100, 3), dtype=float32, numpy=\n",
       " array([[[0.79509807, 0.79901963, 0.7794118 ],\n",
       "         [0.7892157 , 0.7970588 , 0.777451  ],\n",
       "         [0.79607844, 0.8039216 , 0.78431374],\n",
       "         ...,\n",
       "         [0.84044117, 0.84436274, 0.8208333 ],\n",
       "         [0.8352941 , 0.8392157 , 0.8156863 ],\n",
       "         [0.83235294, 0.8362745 , 0.8127451 ]],\n",
       " \n",
       "        [[0.79509807, 0.79901963, 0.77843136],\n",
       "         [0.7941176 , 0.8009804 , 0.78039217],\n",
       "         [0.7941176 , 0.8017157 , 0.78186274],\n",
       "         ...,\n",
       "         [0.8306373 , 0.84436274, 0.81789213],\n",
       "         [0.8262255 , 0.839951  , 0.8134804 ],\n",
       "         [0.82941175, 0.8401961 , 0.81960785]],\n",
       " \n",
       "        [[0.7980392 , 0.80196077, 0.77254903],\n",
       "         [0.7992647 , 0.80465686, 0.7745098 ],\n",
       "         [0.79632354, 0.80759805, 0.7745098 ],\n",
       "         ...,\n",
       "         [0.81666666, 0.8392157 , 0.8215686 ],\n",
       "         [0.82058823, 0.8453431 , 0.8210784 ],\n",
       "         [0.81764704, 0.84313726, 0.81666666]],\n",
       " \n",
       "        ...,\n",
       " \n",
       "        [[0.30563724, 0.3389706 , 0.38112745],\n",
       "         [0.49313724, 0.5330882 , 0.57034314],\n",
       "         [0.46715686, 0.51593137, 0.5421569 ],\n",
       "         ...,\n",
       "         [0.3887255 , 0.40563726, 0.45612746],\n",
       "         [0.35784313, 0.4034314 , 0.47083333],\n",
       "         [0.3615196 , 0.42034313, 0.5       ]],\n",
       " \n",
       "        [[0.30759802, 0.34681374, 0.38235295],\n",
       "         [0.4884804 , 0.5372549 , 0.5634804 ],\n",
       "         [0.4632353 , 0.51862746, 0.5448529 ],\n",
       "         ...,\n",
       "         [0.39313725, 0.40563726, 0.44656864],\n",
       "         [0.3647059 , 0.39803922, 0.46372548],\n",
       "         [0.3509804 , 0.39607844, 0.46764705]],\n",
       " \n",
       "        [[0.4240196 , 0.46715686, 0.49068627],\n",
       "         [0.5107843 , 0.5637255 , 0.5862745 ],\n",
       "         [0.4629902 , 0.52181375, 0.5473039 ],\n",
       "         ...,\n",
       "         [0.39632353, 0.4120098 , 0.44240198],\n",
       "         [0.34509805, 0.39019608, 0.44313726],\n",
       "         [0.3372549 , 0.3882353 , 0.4509804 ]]], dtype=float32)>,\n",
       " <tf.Tensor: shape=(100, 100, 3), dtype=float32, numpy=\n",
       " array([[[0.70392156, 0.7127451 , 0.6911765 ],\n",
       "         [0.7002451 , 0.70612746, 0.6958333 ],\n",
       "         [0.702451  , 0.702451  , 0.7083333 ],\n",
       "         ...,\n",
       "         [0.7470588 , 0.7509804 , 0.73137254],\n",
       "         [0.7492647 , 0.7531863 , 0.73063725],\n",
       "         [0.74215686, 0.74607843, 0.722549  ]],\n",
       " \n",
       "        [[0.6990196 , 0.7058824 , 0.70490193],\n",
       "         [0.6990196 , 0.70441175, 0.70416665],\n",
       "         [0.70955884, 0.70980394, 0.7102941 ],\n",
       "         ...,\n",
       "         [0.74509805, 0.7490196 , 0.7254902 ],\n",
       "         [0.7473039 , 0.7512255 , 0.72769606],\n",
       "         [0.74313724, 0.7470588 , 0.7245098 ]],\n",
       " \n",
       "        [[0.7012255 , 0.7110294 , 0.73651963],\n",
       "         [0.69215685, 0.7026961 , 0.7198529 ],\n",
       "         [0.7022059 , 0.70759803, 0.7147059 ],\n",
       "         ...,\n",
       "         [0.7443628 , 0.74828434, 0.72769606],\n",
       "         [0.74338233, 0.7473039 , 0.7267157 ],\n",
       "         [0.74607843, 0.7470588 , 0.7362745 ]],\n",
       " \n",
       "        ...,\n",
       " \n",
       "        [[0.41666666, 0.4480392 , 0.4598039 ],\n",
       "         [0.39166668, 0.4269608 , 0.44852942],\n",
       "         [0.31323528, 0.3485294 , 0.38186276],\n",
       "         ...,\n",
       "         [0.58406866, 0.5830882 , 0.5732843 ],\n",
       "         [0.5776961 , 0.57892156, 0.5625    ],\n",
       "         [0.5870098 , 0.5889706 , 0.57034314]],\n",
       " \n",
       "        [[0.40661764, 0.44240198, 0.45931372],\n",
       "         [0.37107843, 0.4107843 , 0.43014705],\n",
       "         [0.31862745, 0.35392156, 0.3872549 ],\n",
       "         ...,\n",
       "         [0.69485295, 0.685049  , 0.6664216 ],\n",
       "         [0.64656866, 0.6367647 , 0.61813724],\n",
       "         [0.6041667 , 0.59436274, 0.5757353 ]],\n",
       " \n",
       "        [[0.4379902 , 0.4732843 , 0.49289215],\n",
       "         [0.38235295, 0.42352942, 0.44019607],\n",
       "         [0.34338236, 0.37867647, 0.40416667],\n",
       "         ...,\n",
       "         [0.7348039 , 0.71813726, 0.68578434],\n",
       "         [0.7357843 , 0.71617645, 0.6985294 ],\n",
       "         [0.71960783, 0.7       , 0.6843137 ]]], dtype=float32)>,\n",
       " 1.0)"
      ]
     },
     "execution_count": 24,
     "metadata": {},
     "output_type": "execute_result"
    }
   ],
   "source": [
    "def preprocess_twin(input_img, validation_img, label):\n",
    "    return(preprocess(input_img),preprocess(validation_img),label)\n",
    "\n",
    "res = preprocess_twin(*example)\n",
    "res"
   ]
  },
  {
   "cell_type": "code",
   "execution_count": 25,
   "metadata": {},
   "outputs": [
    {
     "data": {
      "text/plain": [
       "3"
      ]
     },
     "execution_count": 25,
     "metadata": {},
     "output_type": "execute_result"
    }
   ],
   "source": [
    "# we getting three things as a result, a\n",
    "len(res)"
   ]
  },
  {
   "cell_type": "code",
   "execution_count": 26,
   "metadata": {},
   "outputs": [
    {
     "data": {
      "text/plain": [
       "<matplotlib.image.AxesImage at 0x22109358070>"
      ]
     },
     "execution_count": 26,
     "metadata": {},
     "output_type": "execute_result"
    },
    {
     "data": {
      "image/png": "[encoded data removed]",
      "text/plain": [
       "<Figure size 640x480 with 1 Axes>"
      ]
     },
     "metadata": {},
     "output_type": "display_data"
    }
   ],
   "source": [
    "plt.imshow(res[0])"
   ]
  },
  {
   "cell_type": "markdown",
   "metadata": {},
   "source": [
    "## 3.4 Build Train and Test Partition"
   ]
  },
  {
   "cell_type": "code",
   "execution_count": 27,
   "metadata": {},
   "outputs": [
    {
     "data": {
      "text/plain": [
       "<ShuffleDataset shapes: ((100, 100, None), (100, 100, None), ()), types: (tf.float32, tf.float32, tf.float32)>"
      ]
     },
     "execution_count": 27,
     "metadata": {},
     "output_type": "execute_result"
    }
   ],
   "source": [
    "# Build dataloader pipeline\n",
    "data = data.map(preprocess_twin)\n",
    "data = data.cache()\n",
    "data = data.shuffle(buffer_size=1024)\n",
    "data"
   ]
  },
  {
   "cell_type": "code",
   "execution_count": 28,
   "metadata": {},
   "outputs": [],
   "source": [
    "samples = data.as_numpy_iterator() "
   ]
  },
  {
   "cell_type": "code",
   "execution_count": 29,
   "metadata": {},
   "outputs": [],
   "source": [
    "example = samples.next()"
   ]
  },
  {
   "cell_type": "code",
   "execution_count": 30,
   "metadata": {},
   "outputs": [
    {
     "data": {
      "text/plain": [
       "<matplotlib.image.AxesImage at 0x221093c9e50>"
      ]
     },
     "execution_count": 30,
     "metadata": {},
     "output_type": "execute_result"
    },
    {
     "data": {
      "image/png": "[encoded data removed]",
      "text/plain": [
       "<Figure size 640x480 with 1 Axes>"
      ]
     },
     "metadata": {},
     "output_type": "display_data"
    }
   ],
   "source": [
    "plt.imshow(example[0])"
   ]
  },
  {
   "cell_type": "code",
   "execution_count": 31,
   "metadata": {},
   "outputs": [
    {
     "data": {
      "text/plain": [
       "<matplotlib.image.AxesImage at 0x221124ab070>"
      ]
     },
     "execution_count": 31,
     "metadata": {},
     "output_type": "execute_result"
    },
    {
     "data": {
      "image/png": "[encoded data removed]",
      "text/plain": [
       "<Figure size 640x480 with 1 Axes>"
      ]
     },
     "metadata": {},
     "output_type": "display_data"
    }
   ],
   "source": [
    "plt.imshow(example[1])"
   ]
  },
  {
   "cell_type": "code",
   "execution_count": 32,
   "metadata": {},
   "outputs": [
    {
     "data": {
      "text/plain": [
       "1.0"
      ]
     },
     "execution_count": 32,
     "metadata": {},
     "output_type": "execute_result"
    }
   ],
   "source": [
    "example[2]"
   ]
  },
  {
   "cell_type": "code",
   "execution_count": 33,
   "metadata": {},
   "outputs": [],
   "source": [
    "# Training partition\n",
    "train_data = data.take(round(len(data)*.7))\n",
    "train_data = train_data.batch(16)\n",
    "train_data = train_data.prefetch(8)"
   ]
  },
  {
   "cell_type": "code",
   "execution_count": 34,
   "metadata": {},
   "outputs": [],
   "source": [
    "# Testing partition\n",
    "test_data = data.skip(round(len(data)*.7))\n",
    "test_data = data.take(round(len(data)*.3))\n",
    "test_data = test_data.batch(16)\n",
    "test_data = test_data.prefetch(8)"
   ]
  },
  {
   "cell_type": "code",
   "execution_count": 35,
   "metadata": {},
   "outputs": [
    {
     "data": {
      "text/plain": [
       "16"
      ]
     },
     "execution_count": 35,
     "metadata": {},
     "output_type": "execute_result"
    }
   ],
   "source": [
    "# now rather than having one image per value we have 16, no. batch\n",
    "train_sample = train_data.as_numpy_iterator()\n",
    "train_sample = train_sample.next()\n",
    "len(train_sample[0])"
   ]
  },
  {
   "cell_type": "markdown",
   "metadata": {},
   "source": [
    "# 4. Model Engineering, Build our model"
   ]
  },
  {
   "cell_type": "markdown",
   "metadata": {},
   "source": [
    "## 4.1. Build Embedding Layer"
   ]
  },
  {
   "cell_type": "markdown",
   "metadata": {},
   "source": [
    "### Our core block for building the neural network:\n",
    "\n",
    "1. Conv2D(no. flitters, filleter size, strokes=1, activation)\n",
    "\n",
    "2. MaxPooling2D(no. flitters, filleter size, strokes=1, padding),\n",
    "   * condensing down the amount of data,\n",
    "   * padding is the same in order to replicate the output shape\n",
    "  \n",
    "make_embedding: will translate the input to a feature vector"
   ]
  },
  {
   "cell_type": "code",
   "execution_count": 36,
   "metadata": {},
   "outputs": [
    {
     "name": "stdout",
     "output_type": "stream",
     "text": [
      "Model: \"embedding\"\n",
      "_________________________________________________________________\n",
      "Layer (type)                 Output Shape              Param #   \n",
      "=================================================================\n",
      "input_image (InputLayer)     [(None, 100, 100, 3)]     0         \n",
      "_________________________________________________________________\n",
      "conv2d (Conv2D)              (None, 91, 91, 64)        19264     \n",
      "_________________________________________________________________\n",
      "max_pooling2d (MaxPooling2D) (None, 46, 46, 64)        0         \n",
      "_________________________________________________________________\n",
      "conv2d_1 (Conv2D)            (None, 40, 40, 128)       401536    \n",
      "_________________________________________________________________\n",
      "max_pooling2d_1 (MaxPooling2 (None, 20, 20, 128)       0         \n",
      "_________________________________________________________________\n",
      "conv2d_2 (Conv2D)            (None, 17, 17, 128)       262272    \n",
      "_________________________________________________________________\n",
      "max_pooling2d_2 (MaxPooling2 (None, 9, 9, 128)         0         \n",
      "_________________________________________________________________\n",
      "conv2d_3 (Conv2D)            (None, 6, 6, 256)         524544    \n",
      "_________________________________________________________________\n",
      "flatten (Flatten)            (None, 9216)              0         \n",
      "_________________________________________________________________\n",
      "dense (Dense)                (None, 4096)              37752832  \n",
      "=================================================================\n",
      "Total params: 38,960,448\n",
      "Trainable params: 38,960,448\n",
      "Non-trainable params: 0\n",
      "_________________________________________________________________\n"
     ]
    }
   ],
   "source": [
    "def make_embedding():\n",
    "    inp = Input(shape=(100, 100, 3), name='input_image')\n",
    "    \n",
    "    # First Block \n",
    "    c1 = Conv2D(64, (10,10), activation='relu')(inp)\n",
    "    m1 = MaxPooling2D(64, (2,2), padding='same')(c1)\n",
    "    \n",
    "    # Second Block\n",
    "    c2 = Conv2D(128, (7,7), activation='relu')(m1)\n",
    "    m2 = MaxPooling2D(64, (2,2), padding='same')(c2)\n",
    "\n",
    "    # Third Block\n",
    "    c3 = Conv2D(128, (4,4), activation='relu')(m2)\n",
    "    m3 = MaxPooling2D(64, (2,2), padding='same')(c3)\n",
    "\n",
    "    # Final embedding block\n",
    "    c4 = Conv2D(256, (4,4), activation='relu')(m3)\n",
    "    f1 = Flatten()(c4)\n",
    "    d1 = Dense(4096, activation='sigmoid')(f1)\n",
    "\n",
    "    return Model(inputs=[inp], outputs=[d1], name='embedding')\n",
    "\n",
    "embedding_model = make_embedding()\n",
    "embedding_model.summary()"
   ]
  },
  {
   "cell_type": "markdown",
   "metadata": {},
   "source": [
    "### Explanation of make_embedding()"
   ]
  },
  {
   "cell_type": "code",
   "execution_count": 34,
   "metadata": {},
   "outputs": [
    {
     "data": {
      "text/plain": [
       "<KerasTensor: shape=(None, 105, 105, 3) dtype=float32 (created by layer 'input_image')>"
      ]
     },
     "execution_count": 34,
     "metadata": {},
     "output_type": "execute_result"
    }
   ],
   "source": [
    "inp = Input(shape=(105, 105, 3), name='input_image')\n",
    "inp"
   ]
  },
  {
   "cell_type": "code",
   "execution_count": 35,
   "metadata": {},
   "outputs": [],
   "source": [
    "c1 = Conv2D(64, (10,10), activation='relu')(inp)\n",
    "m1 = MaxPooling2D(64, (2,2), padding='same')(c1)"
   ]
  },
  {
   "cell_type": "code",
   "execution_count": 36,
   "metadata": {},
   "outputs": [],
   "source": [
    "c2 = Conv2D(128, (7,7), activation='relu')(m1)\n",
    "m2 = MaxPooling2D(64, (2,2), padding='same')(c2)"
   ]
  },
  {
   "cell_type": "code",
   "execution_count": 37,
   "metadata": {},
   "outputs": [],
   "source": [
    "c3 = Conv2D(128, (4,4), activation='relu')(m2)\n",
    "m3 = MaxPooling2D(64, (2,2), padding='same')(c3)"
   ]
  },
  {
   "cell_type": "code",
   "execution_count": 38,
   "metadata": {},
   "outputs": [],
   "source": [
    "c4 = Conv2D(256, (4,4), activation='relu')(m3)\n",
    "f1 = Flatten()(c4)\n",
    "d1 = Dense(4096, activation='sigmoid')(f1)"
   ]
  },
  {
   "cell_type": "code",
   "execution_count": 39,
   "metadata": {},
   "outputs": [
    {
     "name": "stdout",
     "output_type": "stream",
     "text": [
      "KerasTensor(type_spec=TensorSpec(shape=(None, 6, 6, 256), dtype=tf.float32, name=None), name='conv2d_7/Relu:0', description=\"created by layer 'conv2d_7'\")\n",
      "9216\n"
     ]
    },
    {
     "data": {
      "text/plain": [
       "<KerasTensor: shape=(None, 9216) dtype=float32 (created by layer 'flatten_1')>"
      ]
     },
     "execution_count": 39,
     "metadata": {},
     "output_type": "execute_result"
    }
   ],
   "source": [
    "print(c4)\n",
    "print(str(6*6*256))\n",
    "f1"
   ]
  },
  {
   "cell_type": "code",
   "execution_count": 40,
   "metadata": {},
   "outputs": [
    {
     "data": {
      "text/plain": [
       "<tensorflow.python.keras.engine.functional.Functional at 0x21159d448e0>"
      ]
     },
     "execution_count": 40,
     "metadata": {},
     "output_type": "execute_result"
    }
   ],
   "source": [
    "mod = Model(inputs=[inp], outputs=[d1], name='embedding')\n",
    "mod"
   ]
  },
  {
   "cell_type": "code",
   "execution_count": 41,
   "metadata": {},
   "outputs": [
    {
     "name": "stdout",
     "output_type": "stream",
     "text": [
      "Model: \"embedding\"\n",
      "_________________________________________________________________\n",
      "Layer (type)                 Output Shape              Param #   \n",
      "=================================================================\n",
      "input_image (InputLayer)     [(None, 105, 105, 3)]     0         \n",
      "_________________________________________________________________\n",
      "conv2d_4 (Conv2D)            (None, 96, 96, 64)        19264     \n",
      "_________________________________________________________________\n",
      "max_pooling2d_3 (MaxPooling2 (None, 48, 48, 64)        0         \n",
      "_________________________________________________________________\n",
      "conv2d_5 (Conv2D)            (None, 42, 42, 128)       401536    \n",
      "_________________________________________________________________\n",
      "max_pooling2d_4 (MaxPooling2 (None, 21, 21, 128)       0         \n",
      "_________________________________________________________________\n",
      "conv2d_6 (Conv2D)            (None, 18, 18, 128)       262272    \n",
      "_________________________________________________________________\n",
      "max_pooling2d_5 (MaxPooling2 (None, 9, 9, 128)         0         \n",
      "_________________________________________________________________\n",
      "conv2d_7 (Conv2D)            (None, 6, 6, 256)         524544    \n",
      "_________________________________________________________________\n",
      "flatten_1 (Flatten)          (None, 9216)              0         \n",
      "_________________________________________________________________\n",
      "dense_1 (Dense)              (None, 4096)              37752832  \n",
      "=================================================================\n",
      "Total params: 38,960,448\n",
      "Trainable params: 38,960,448\n",
      "Non-trainable params: 0\n",
      "_________________________________________________________________\n"
     ]
    }
   ],
   "source": [
    "# we are in business guys\n",
    "mod.summary()"
   ]
  },
  {
   "cell_type": "markdown",
   "metadata": {},
   "source": [
    "## 4.2. Build Distance layer"
   ]
  },
  {
   "cell_type": "markdown",
   "metadata": {},
   "source": [
    "sometimes they, !, pass three rivers/streams, anchor and validation and validation + anchor"
   ]
  },
  {
   "cell_type": "code",
   "execution_count": 37,
   "metadata": {},
   "outputs": [],
   "source": [
    "# Siamese L1 Distance class\n",
    "class L1Dist(Layer):\n",
    "    # the inheritance of Layer init\n",
    "    def __init__(self, **kwargs):\n",
    "        super().__init__()\n",
    "    \n",
    "    # Similarity calculation\n",
    "    def call(self, input_embedding, validation_embedding):\n",
    "        return tf.math.abs(input_embedding - validation_embedding)"
   ]
  },
  {
   "cell_type": "code",
   "execution_count": 38,
   "metadata": {},
   "outputs": [
    {
     "data": {
      "text/plain": [
       "<__main__.L1Dist at 0x221123c74f0>"
      ]
     },
     "execution_count": 38,
     "metadata": {},
     "output_type": "execute_result"
    }
   ],
   "source": [
    "l1 = L1Dist()\n",
    "l1"
   ]
  },
  {
   "cell_type": "markdown",
   "metadata": {},
   "source": [
    "## 4.3 Make Siamese Model"
   ]
  },
  {
   "cell_type": "markdown",
   "metadata": {},
   "source": [
    "1. Handle input, two streams, anchor and validation\n",
    "2. pass the inputs to **make_embedding**: now we have two featured vectors\n",
    "3. pass the vectors to **L1Dist**: now we have a one vector represent the distance between two images\n",
    "4. pass the distance vector to **classification layer** uses sigmoid activation function:  it uses Dense to create a fully connected layer, it will tell either the images/vectors are smiler or not based on the distance victor form step 3"
   ]
  },
  {
   "cell_type": "code",
   "execution_count": 39,
   "metadata": {},
   "outputs": [
    {
     "name": "stdout",
     "output_type": "stream",
     "text": [
      "Model: \"SiameseNetwork\"\n",
      "__________________________________________________________________________________________________\n",
      "Layer (type)                    Output Shape         Param #     Connected to                     \n",
      "==================================================================================================\n",
      "input_img (InputLayer)          [(None, 100, 100, 3) 0                                            \n",
      "__________________________________________________________________________________________________\n",
      "validation_img (InputLayer)     [(None, 100, 100, 3) 0                                            \n",
      "__________________________________________________________________________________________________\n",
      "embedding (Functional)          (None, 4096)         38960448    input_img[0][0]                  \n",
      "                                                                 validation_img[0][0]             \n",
      "__________________________________________________________________________________________________\n",
      "distance (L1Dist)               (None, 4096)         0           embedding[0][0]                  \n",
      "                                                                 embedding[1][0]                  \n",
      "__________________________________________________________________________________________________\n",
      "dense_1 (Dense)                 (None, 1)            4097        distance[0][0]                   \n",
      "==================================================================================================\n",
      "Total params: 38,964,545\n",
      "Trainable params: 38,964,545\n",
      "Non-trainable params: 0\n",
      "__________________________________________________________________________________________________\n"
     ]
    }
   ],
   "source": [
    "def make_siamese_model():\n",
    "\n",
    "    # 1. Handling Inputs:\n",
    "    # Anchor image input\n",
    "    input_img = Input(name='input_img', shape=(100,100,3))\n",
    "    # Validation image\n",
    "    validation_img = Input(name='validation_img', shape=(100,100,3))\n",
    "\n",
    "    # 2+3. Combine siamese distance components\n",
    "    siamese_layer = L1Dist()\n",
    "    siamese_layer._name = 'distance'\n",
    "    distances = siamese_layer(embedding_model(input_img),embedding_model(validation_img))\n",
    "    \n",
    "    # 4. Classification layer\n",
    "    classifier = Dense(1, activation='sigmoid')(distances)\n",
    "\n",
    "    # combine all together\n",
    "    return Model(inputs=[input_img, validation_img], outputs= classifier, name='SiameseNetwork')\n",
    "\n",
    "siamese_model = make_siamese_model()\n",
    "siamese_model.summary()\n"
   ]
  },
  {
   "cell_type": "markdown",
   "metadata": {},
   "source": [
    "### Explanation of make_siamese_model"
   ]
  },
  {
   "cell_type": "code",
   "execution_count": 45,
   "metadata": {},
   "outputs": [],
   "source": [
    "input_img = Input(name='input_img', shape=(100,100,3))\n",
    "validation_img = Input(name='validation_img', shape=(100,100,3))"
   ]
  },
  {
   "cell_type": "code",
   "execution_count": 46,
   "metadata": {},
   "outputs": [],
   "source": [
    "inp_embedded = embedding_model(input_img)\n",
    "val_embedded = embedding_model(validation_img)"
   ]
  },
  {
   "cell_type": "code",
   "execution_count": 47,
   "metadata": {},
   "outputs": [],
   "source": [
    "siamese_layer = L1Dist()\n",
    "distances = siamese_layer(inp_embedded,val_embedded)"
   ]
  },
  {
   "cell_type": "code",
   "execution_count": 48,
   "metadata": {},
   "outputs": [
    {
     "data": {
      "text/plain": [
       "<KerasTensor: shape=(None, 1) dtype=float32 (created by layer 'dense_3')>"
      ]
     },
     "execution_count": 48,
     "metadata": {},
     "output_type": "execute_result"
    }
   ],
   "source": [
    "classifier = Dense(1, activation='sigmoid')(distances)\n",
    "classifier"
   ]
  },
  {
   "cell_type": "code",
   "execution_count": 49,
   "metadata": {},
   "outputs": [
    {
     "name": "stdout",
     "output_type": "stream",
     "text": [
      "Model: \"SiameseNetwork\"\n",
      "__________________________________________________________________________________________________\n",
      "Layer (type)                    Output Shape         Param #     Connected to                     \n",
      "==================================================================================================\n",
      "input_img (InputLayer)          [(None, 100, 100, 3) 0                                            \n",
      "__________________________________________________________________________________________________\n",
      "validation_img (InputLayer)     [(None, 100, 100, 3) 0                                            \n",
      "__________________________________________________________________________________________________\n",
      "embedding (Functional)          (None, 4096)         38960448    input_img[0][0]                  \n",
      "                                                                 validation_img[0][0]             \n",
      "__________________________________________________________________________________________________\n",
      "l1_dist_2 (L1Dist)              (None, 4096)         0           embedding[2][0]                  \n",
      "                                                                 embedding[3][0]                  \n",
      "__________________________________________________________________________________________________\n",
      "dense_3 (Dense)                 (None, 1)            4097        l1_dist_2[0][0]                  \n",
      "==================================================================================================\n",
      "Total params: 38,964,545\n",
      "Trainable params: 38,964,545\n",
      "Non-trainable params: 0\n",
      "__________________________________________________________________________________________________\n"
     ]
    }
   ],
   "source": [
    "siamese_mod = Model(inputs=[input_img, validation_img], outputs= classifier, name='SiameseNetwork')\n",
    "siamese_mod.summary()\n"
   ]
  },
  {
   "cell_type": "markdown",
   "metadata": {},
   "source": [
    "# 5. Training"
   ]
  },
  {
   "cell_type": "markdown",
   "metadata": {},
   "source": [
    "## 5.1 Setup Loss and Optimizer"
   ]
  },
  {
   "cell_type": "markdown",
   "metadata": {},
   "source": [
    "the whole perpouse of NN is to minimze the loss, cuz that means that it perform better for this function\n",
    "\n",
    "Optimizer: is what perform the backpropagation "
   ]
  },
  {
   "cell_type": "code",
   "execution_count": 40,
   "metadata": {},
   "outputs": [],
   "source": [
    "binary_cross_loss = tf.losses.BinaryCrossentropy()"
   ]
  },
  {
   "cell_type": "code",
   "execution_count": 41,
   "metadata": {},
   "outputs": [],
   "source": [
    "# set learing rate = 0.0001\n",
    "opt = tf.keras.optimizers.Adam(1e-4) "
   ]
  },
  {
   "cell_type": "markdown",
   "metadata": {},
   "source": [
    "## 5.2 Establish Checkpoints"
   ]
  },
  {
   "cell_type": "markdown",
   "metadata": {},
   "source": [
    "Works as a placeholder where we could to get back and restart form"
   ]
  },
  {
   "cell_type": "code",
   "execution_count": 42,
   "metadata": {},
   "outputs": [],
   "source": [
    "checkpoints_dir = \"./training_checkpoints\"\n",
    "checkpoints_prefix = os.path.join(checkpoints_dir, \"ckpt\")\n",
    "checkpoint = tf.train.Checkpoint(opt=opt,siamese_model=siamese_model)\n",
    "\n",
    "# to reload the checkpoint use:\n",
    "# model.load('path_to_checkpoint')"
   ]
  },
  {
   "cell_type": "markdown",
   "metadata": {},
   "source": [
    "## 5.3 Build Train Step Function"
   ]
  },
  {
   "cell_type": "markdown",
   "metadata": {},
   "source": [
    "This define what happens when we train on a single batch"
   ]
  },
  {
   "cell_type": "markdown",
   "metadata": {},
   "source": [
    "The basic steps for training on one batch:\n",
    "1. Make a prediction\n",
    "2. Calculate loss\n",
    "3. Derive gradients\n",
    "4. Calculate new weights and apply"
   ]
  },
  {
   "cell_type": "code",
   "execution_count": 57,
   "metadata": {},
   "outputs": [],
   "source": [
    "@tf.function\n",
    "# it compiles an entire neural network into a graph and allows us to\n",
    "# trian it in efficient manner\n",
    "# so we compiles what is going to happend under this function\n",
    "def train_step(batch):\n",
    "\n",
    "    # to perform the differentiation -> allows to perform Backpropegation -> so we get the gradients for NN\n",
    "    # look at everything happend in the nn and\n",
    "    with tf.GradientTape() as tape:\n",
    "        # get anchor and postive/negative image\n",
    "        X = batch[:2]\n",
    "        # get label\n",
    "        y = batch[2]\n",
    "\n",
    "        # forword pass\n",
    "        # yhat is y predicted\n",
    "        yhat = siamese_model(X, training=True)\n",
    "        # Calculate loss\n",
    "        loss = binary_cross_loss(y, yhat)\n",
    "    print(loss)\n",
    "\n",
    "    # Calculate gradients\n",
    "    grads = tape.gradient(loss, siamese_model.trainable_variables)\n",
    "\n",
    "    # Calculate updated wieghts and apply to siamese model\n",
    "    opt.apply_gradients(zip(grads, siamese_model.trainable_variables))\n",
    "    return loss"
   ]
  },
  {
   "cell_type": "markdown",
   "metadata": {},
   "source": [
    "Drowback with this method:\n",
    "\n",
    "you have to define all progress bars and loss matrices being output\n",
    "\n",
    "Solutoin: wrap them inside a module"
   ]
  },
  {
   "cell_type": "markdown",
   "metadata": {},
   "source": [
    "### Explination"
   ]
  },
  {
   "cell_type": "code",
   "execution_count": 54,
   "metadata": {},
   "outputs": [
    {
     "data": {
      "text/plain": [
       "<tensorflow.python.data.ops.dataset_ops._NumpyIterator at 0x21159c64670>"
      ]
     },
     "execution_count": 54,
     "metadata": {},
     "output_type": "execute_result"
    }
   ],
   "source": [
    "test_batch = train_data.as_numpy_iterator()\n",
    "test_batch"
   ]
  },
  {
   "cell_type": "code",
   "execution_count": 55,
   "metadata": {},
   "outputs": [
    {
     "data": {
      "text/plain": [
       "(array([[[[0.7911765 , 0.8029412 , 0.7754902 ],\n",
       "          [0.79313725, 0.80490196, 0.777451  ],\n",
       "          [0.7968137 , 0.80857843, 0.78112745],\n",
       "          ...,\n",
       "          [0.8362745 , 0.8401961 , 0.81666666],\n",
       "          [0.8333333 , 0.84313726, 0.81666666],\n",
       "          [0.83137256, 0.84313726, 0.8156863 ]],\n",
       " \n",
       "         [[0.79901963, 0.8088235 , 0.7823529 ],\n",
       "          [0.79901963, 0.8088235 , 0.7823529 ],\n",
       "          [0.8       , 0.8098039 , 0.78333336],\n",
       "          ...,\n",
       "          [0.82990193, 0.84313726, 0.8156863 ],\n",
       "          [0.82843137, 0.8401961 , 0.8127451 ],\n",
       "          [0.827451  , 0.8392157 , 0.8117647 ]],\n",
       " \n",
       "         [[0.7980392 , 0.79901963, 0.76960784],\n",
       "          [0.79607844, 0.8       , 0.77205884],\n",
       "          [0.80196077, 0.80588233, 0.7823529 ],\n",
       "          ...,\n",
       "          [0.8240196 , 0.84313726, 0.8156863 ],\n",
       "          [0.82916665, 0.8401961 , 0.81715685],\n",
       "          [0.83137256, 0.8401961 , 0.8186275 ]],\n",
       " \n",
       "         ...,\n",
       " \n",
       "         [[0.33431372, 0.3617647 , 0.38455883],\n",
       "          [0.48897058, 0.532598  , 0.5502451 ],\n",
       "          [0.45490196, 0.50784314, 0.53186274],\n",
       "          ...,\n",
       "          [0.56764704, 0.5245098 , 0.45196077],\n",
       "          [0.53210783, 0.5       , 0.4490196 ],\n",
       "          [0.40416667, 0.38578433, 0.4139706 ]],\n",
       " \n",
       "         [[0.389951  , 0.42818627, 0.4389706 ],\n",
       "          [0.48284313, 0.5375    , 0.55      ],\n",
       "          [0.4507353 , 0.5095588 , 0.52916664],\n",
       "          ...,\n",
       "          [0.5688726 , 0.5352941 , 0.45367646],\n",
       "          [0.5348039 , 0.50441176, 0.44754902],\n",
       "          [0.42009804, 0.3973039 , 0.41666666]],\n",
       " \n",
       "         [[0.43823528, 0.47401962, 0.47965688],\n",
       "          [0.48897058, 0.535049  , 0.54068625],\n",
       "          [0.45588234, 0.5137255 , 0.5235294 ],\n",
       "          ...,\n",
       "          [0.55269605, 0.51666665, 0.46004903],\n",
       "          [0.5257353 , 0.49509802, 0.4477941 ],\n",
       "          [0.4343137 , 0.4117647 , 0.43039215]]],\n",
       " \n",
       " \n",
       "        [[[0.6735294 , 0.67745095, 0.6578431 ],\n",
       "          [0.6754902 , 0.6872549 , 0.6578431 ],\n",
       "          [0.67769605, 0.6894608 , 0.65416664],\n",
       "          ...,\n",
       "          [0.7151961 , 0.7230392 , 0.70343137],\n",
       "          [0.7203431 , 0.72818625, 0.7085784 ],\n",
       "          [0.71666664, 0.7205882 , 0.6970588 ]],\n",
       " \n",
       "         [[0.6754902 , 0.67745095, 0.654902  ],\n",
       "          [0.6720588 , 0.67745095, 0.6512255 ],\n",
       "          [0.6735294 , 0.6848039 , 0.6497549 ],\n",
       "          ...,\n",
       "          [0.7102941 , 0.7198529 , 0.6968137 ],\n",
       "          [0.71568626, 0.72745097, 0.7       ],\n",
       "          [0.71666664, 0.7205882 , 0.6970588 ]],\n",
       " \n",
       "         [[0.672549  , 0.6745098 , 0.6460784 ],\n",
       "          [0.6735294 , 0.67745095, 0.64754903],\n",
       "          [0.68039215, 0.6879902 , 0.6492647 ],\n",
       "          ...,\n",
       "          [0.7056373 , 0.717402  , 0.689951  ],\n",
       "          [0.70661765, 0.71838236, 0.6909314 ],\n",
       "          [0.7137255 , 0.7176471 , 0.69411767]],\n",
       " \n",
       "         ...,\n",
       " \n",
       "         [[0.20612745, 0.23259804, 0.2737745 ],\n",
       "          [0.33553922, 0.3629902 , 0.4002451 ],\n",
       "          [0.29632354, 0.32818627, 0.3529412 ],\n",
       "          ...,\n",
       "          [0.6252451 , 0.6122549 , 0.57916665],\n",
       "          [0.5627451 , 0.5504902 , 0.52916664],\n",
       "          [0.55245095, 0.54068625, 0.5210784 ]],\n",
       " \n",
       "         [[0.23995098, 0.2634804 , 0.31053922],\n",
       "          [0.3227941 , 0.3502451 , 0.38897058],\n",
       "          [0.32794118, 0.35539216, 0.3882353 ],\n",
       "          ...,\n",
       "          [0.7205882 , 0.69730395, 0.67156863],\n",
       "          [0.7379902 , 0.7198529 , 0.7014706 ],\n",
       "          [0.71838236, 0.70661765, 0.6870098 ]],\n",
       " \n",
       "         [[0.30147058, 0.325     , 0.3720588 ],\n",
       "          [0.36911765, 0.39362746, 0.4387255 ],\n",
       "          [0.32671568, 0.35416666, 0.39338234],\n",
       "          ...,\n",
       "          [0.6884804 , 0.6629902 , 0.6394608 ],\n",
       "          [0.7058824 , 0.6862745 , 0.66862744],\n",
       "          [0.7058824 , 0.69411767, 0.6745098 ]]],\n",
       " \n",
       " \n",
       "        [[[0.78431374, 0.7882353 , 0.75686276],\n",
       "          [0.7865196 , 0.79240197, 0.7620098 ],\n",
       "          [0.78137255, 0.79313725, 0.7656863 ],\n",
       "          ...,\n",
       "          [0.82941175, 0.82941175, 0.79019606],\n",
       "          [0.8301471 , 0.8301471 , 0.79093134],\n",
       "          [0.83137256, 0.83137256, 0.7921569 ]],\n",
       " \n",
       "         [[0.77867645, 0.7865196 , 0.74338233],\n",
       "          [0.7796569 , 0.7860294 , 0.7509804 ],\n",
       "          [0.7764706 , 0.7879902 , 0.7522059 ],\n",
       "          ...,\n",
       "          [0.83137256, 0.83137256, 0.7980392 ],\n",
       "          [0.83137256, 0.83137256, 0.7921569 ],\n",
       "          [0.8303922 , 0.8303922 , 0.7911765 ]],\n",
       " \n",
       "         [[0.78039217, 0.7882353 , 0.7392157 ],\n",
       "          [0.78210783, 0.78995097, 0.7468137 ],\n",
       "          [0.78357846, 0.7921569 , 0.7504902 ],\n",
       "          ...,\n",
       "          [0.83431375, 0.83431375, 0.80245095],\n",
       "          [0.83137256, 0.83137256, 0.79362744],\n",
       "          [0.8303922 , 0.8303922 , 0.7911765 ]],\n",
       " \n",
       "         ...,\n",
       " \n",
       "         [[0.31740198, 0.3409314 , 0.3879902 ],\n",
       "          [0.47279412, 0.5       , 0.54264706],\n",
       "          [0.44215685, 0.47965688, 0.51348037],\n",
       "          ...,\n",
       "          [0.36911765, 0.43553922, 0.49583334],\n",
       "          [0.4365196 , 0.48112744, 0.52916664],\n",
       "          [0.54607844, 0.56789213, 0.58406866]],\n",
       " \n",
       "         [[0.32892156, 0.35539216, 0.39656863],\n",
       "          [0.4757353 , 0.5036765 , 0.5411765 ],\n",
       "          [0.4389706 , 0.47279412, 0.50147057],\n",
       "          ...,\n",
       "          [0.36102942, 0.42818627, 0.48921567],\n",
       "          [0.39411765, 0.4509804 , 0.5019608 ],\n",
       "          [0.48210785, 0.5235294 , 0.54387254]],\n",
       " \n",
       "         [[0.4247549 , 0.4404412 , 0.48357844],\n",
       "          [0.49264705, 0.52009803, 0.5514706 ],\n",
       "          [0.45269608, 0.48602942, 0.5085784 ],\n",
       "          ...,\n",
       "          [0.35196078, 0.41862744, 0.48921567],\n",
       "          [0.3735294 , 0.4372549 , 0.49779412],\n",
       "          [0.44313726, 0.49338236, 0.5301471 ]]],\n",
       " \n",
       " \n",
       "        ...,\n",
       " \n",
       " \n",
       "        [[[0.78210783, 0.78995097, 0.7468137 ],\n",
       "          [0.78431374, 0.79313725, 0.75      ],\n",
       "          [0.78431374, 0.79607844, 0.7529412 ],\n",
       "          ...,\n",
       "          [0.8235294 , 0.827451  , 0.79607844],\n",
       "          [0.8215686 , 0.8254902 , 0.8       ],\n",
       "          [0.8215686 , 0.8254902 , 0.80196077]],\n",
       " \n",
       "         [[0.78333336, 0.7911765 , 0.7480392 ],\n",
       "          [0.7754902 , 0.78357846, 0.74460787],\n",
       "          [0.7823529 , 0.7941176 , 0.7588235 ],\n",
       "          ...,\n",
       "          [0.81691176, 0.82279414, 0.79240197],\n",
       "          [0.8147059 , 0.82058823, 0.79313725],\n",
       "          [0.8156863 , 0.8215686 , 0.79509807]],\n",
       " \n",
       "         [[0.777451  , 0.7882353 , 0.74509805],\n",
       "          [0.77794117, 0.7875    , 0.7470588 ],\n",
       "          [0.78333336, 0.7921569 , 0.7509804 ],\n",
       "          ...,\n",
       "          [0.8186275 , 0.8245098 , 0.8       ],\n",
       "          [0.81715685, 0.827451  , 0.7948529 ],\n",
       "          [0.8127451 , 0.8245098 , 0.7892157 ]],\n",
       " \n",
       "         ...,\n",
       " \n",
       "         [[0.2887255 , 0.32794118, 0.35490197],\n",
       "          [0.48235294, 0.52156866, 0.54362744],\n",
       "          [0.44681373, 0.48872548, 0.4987745 ],\n",
       "          ...,\n",
       "          [0.3615196 , 0.3612745 , 0.40637255],\n",
       "          [0.33995098, 0.36495098, 0.43946078],\n",
       "          [0.32083333, 0.3529412 , 0.43529412]],\n",
       " \n",
       "         [[0.35686275, 0.37843138, 0.40392157],\n",
       "          [0.50171566, 0.5232843 , 0.5468137 ],\n",
       "          [0.48308823, 0.51348037, 0.52818626],\n",
       "          ...,\n",
       "          [0.3612745 , 0.35      , 0.39289215],\n",
       "          [0.34117648, 0.3529412 , 0.42622548],\n",
       "          [0.32254902, 0.34901962, 0.42647058]],\n",
       " \n",
       "         [[0.4134804 , 0.43308824, 0.44877452],\n",
       "          [0.5       , 0.51960784, 0.5352941 ],\n",
       "          [0.4894608 , 0.5090686 , 0.53063726],\n",
       "          ...,\n",
       "          [0.35490197, 0.34509805, 0.3872549 ],\n",
       "          [0.33995098, 0.35759804, 0.43014705],\n",
       "          [0.32941177, 0.35857844, 0.43308824]]],\n",
       " \n",
       " \n",
       "        [[[0.689951  , 0.689951  , 0.68210787],\n",
       "          [0.6911765 , 0.6960784 , 0.6764706 ],\n",
       "          [0.69240195, 0.7031863 , 0.67769605],\n",
       "          ...,\n",
       "          [0.74019605, 0.7441176 , 0.7245098 ],\n",
       "          [0.7343137 , 0.7382353 , 0.71862745],\n",
       "          [0.73039216, 0.7382353 , 0.71862745]],\n",
       " \n",
       "         [[0.69485295, 0.6958333 , 0.685049  ],\n",
       "          [0.69730395, 0.7012255 , 0.6816176 ],\n",
       "          [0.69289213, 0.6990196 , 0.67941177],\n",
       "          ...,\n",
       "          [0.7392157 , 0.7411765 , 0.722549  ],\n",
       "          [0.7355392 , 0.7389706 , 0.71960783],\n",
       "          [0.73946077, 0.74240196, 0.7257353 ]],\n",
       " \n",
       "         [[0.69509804, 0.6990196 , 0.67941177],\n",
       "          [0.69411767, 0.69803923, 0.6784314 ],\n",
       "          [0.69803923, 0.7019608 , 0.68235296],\n",
       "          ...,\n",
       "          [0.7414216 , 0.7375    , 0.72181374],\n",
       "          [0.73970586, 0.7372549 , 0.72083336],\n",
       "          [0.73406863, 0.73406863, 0.7262255 ]],\n",
       " \n",
       "         ...,\n",
       " \n",
       "         [[0.26593137, 0.29730392, 0.34044117],\n",
       "          [0.3882353 , 0.41960785, 0.4627451 ],\n",
       "          [0.37009802, 0.4014706 , 0.44460785],\n",
       "          ...,\n",
       "          [0.5446078 , 0.5328431 , 0.5132353 ],\n",
       "          [0.5632353 , 0.55588233, 0.5348039 ],\n",
       "          [0.57843137, 0.57843137, 0.5470588 ]],\n",
       " \n",
       "         [[0.29828432, 0.33259803, 0.36985293],\n",
       "          [0.38382354, 0.41813725, 0.45539215],\n",
       "          [0.37696078, 0.41127452, 0.44852942],\n",
       "          ...,\n",
       "          [0.63235295, 0.61470586, 0.5921569 ],\n",
       "          [0.57230395, 0.5590686 , 0.5328431 ],\n",
       "          [0.57254905, 0.5637255 , 0.5352941 ]],\n",
       " \n",
       "         [[0.31740198, 0.3526961 , 0.3737745 ],\n",
       "          [0.39558825, 0.43088236, 0.45196077],\n",
       "          [0.3732843 , 0.40857843, 0.43553922],\n",
       "          ...,\n",
       "          [0.69509804, 0.67941177, 0.64411765],\n",
       "          [0.7002451 , 0.6816176 , 0.6551471 ],\n",
       "          [0.64681375, 0.63504905, 0.60759807]]],\n",
       " \n",
       " \n",
       "        [[[0.77254903, 0.78431374, 0.7490196 ],\n",
       "          [0.7794118 , 0.79019606, 0.7529412 ],\n",
       "          [0.78357846, 0.7914216 , 0.74828434],\n",
       "          ...,\n",
       "          [0.8242647 , 0.8370098 , 0.79093134],\n",
       "          [0.82279414, 0.8384804 , 0.78357846],\n",
       "          [0.8156863 , 0.8392157 , 0.78431374]],\n",
       " \n",
       "         [[0.7735294 , 0.78333336, 0.7490196 ],\n",
       "          [0.775     , 0.785049  , 0.7463235 ],\n",
       "          [0.782598  , 0.79044116, 0.7473039 ],\n",
       "          ...,\n",
       "          [0.8245098 , 0.83161765, 0.79068625],\n",
       "          [0.8245098 , 0.8367647 , 0.7870098 ],\n",
       "          [0.81960785, 0.8333333 , 0.78137255]],\n",
       " \n",
       "         [[0.7801471 , 0.7870098 , 0.7468137 ],\n",
       "          [0.7848039 , 0.7911765 , 0.7473039 ],\n",
       "          [0.7892157 , 0.7911765 , 0.74509805],\n",
       "          ...,\n",
       "          [0.82230395, 0.83235294, 0.7973039 ],\n",
       "          [0.8254902 , 0.8362745 , 0.7946078 ],\n",
       "          [0.8235294 , 0.83137256, 0.7882353 ]],\n",
       " \n",
       "         ...,\n",
       " \n",
       "         [[0.3247549 , 0.36691177, 0.39338234],\n",
       "          [0.46666667, 0.5110294 , 0.5367647 ],\n",
       "          [0.4379902 , 0.4897059 , 0.5110294 ],\n",
       "          ...,\n",
       "          [0.32990196, 0.40661764, 0.49093136],\n",
       "          [0.37990198, 0.44558823, 0.5269608 ],\n",
       "          [0.42671567, 0.48063725, 0.54558825]],\n",
       " \n",
       "         [[0.3348039 , 0.3740196 , 0.4122549 ],\n",
       "          [0.48235294, 0.53112745, 0.5612745 ],\n",
       "          [0.45318627, 0.50710785, 0.52181375],\n",
       "          ...,\n",
       "          [0.3245098 , 0.39166668, 0.47230393],\n",
       "          [0.34338236, 0.41004902, 0.4884804 ],\n",
       "          [0.37034315, 0.43308824, 0.49509802]],\n",
       " \n",
       "         [[0.40980393, 0.46078432, 0.49607843],\n",
       "          [0.48602942, 0.5370098 , 0.56642157],\n",
       "          [0.4492647 , 0.5031863 , 0.5178922 ],\n",
       "          ...,\n",
       "          [0.32083333, 0.38284314, 0.4477941 ],\n",
       "          [0.33333334, 0.3990196 , 0.4617647 ],\n",
       "          [0.36838236, 0.4389706 , 0.49191177]]]], dtype=float32),\n",
       " array([[[[0.7875    , 0.7875    , 0.7796569 ],\n",
       "          [0.79313725, 0.7970588 , 0.777451  ],\n",
       "          [0.7882353 , 0.7921569 , 0.77254903],\n",
       "          ...,\n",
       "          [0.83235294, 0.8362745 , 0.8127451 ],\n",
       "          [0.83161765, 0.8355392 , 0.8120098 ],\n",
       "          [0.83137256, 0.8352941 , 0.80833334]],\n",
       " \n",
       "         [[0.77867645, 0.7884804 , 0.78063726],\n",
       "          [0.78357846, 0.7921569 , 0.78039217],\n",
       "          [0.7882353 , 0.79313725, 0.7740196 ],\n",
       "          ...,\n",
       "          [0.827451  , 0.8303922 , 0.8137255 ],\n",
       "          [0.82843137, 0.83137256, 0.8147059 ],\n",
       "          [0.8281863 , 0.83112746, 0.8144608 ]],\n",
       " \n",
       "         [[0.7727941 , 0.7914216 , 0.80245095],\n",
       "          [0.7801471 , 0.79534316, 0.7973039 ],\n",
       "          [0.7867647 , 0.79607844, 0.79019606],\n",
       "          ...,\n",
       "          [0.8306373 , 0.8328431 , 0.8183824 ],\n",
       "          [0.82916665, 0.82916665, 0.8213235 ],\n",
       "          [0.827451  , 0.827451  , 0.81960785]],\n",
       " \n",
       "         ...,\n",
       " \n",
       "         [[0.5083333 , 0.5485294 , 0.5808824 ],\n",
       "          [0.47181374, 0.50808823, 0.54264706],\n",
       "          [0.41127452, 0.4490196 , 0.49313724],\n",
       "          ...,\n",
       "          [0.68088233, 0.6747549 , 0.65857846],\n",
       "          [0.67083335, 0.6661765 , 0.654902  ],\n",
       "          [0.66544116, 0.6644608 , 0.6546569 ]],\n",
       " \n",
       "         [[0.50686276, 0.55      , 0.5598039 ],\n",
       "          [0.4870098 , 0.529902  , 0.5497549 ],\n",
       "          [0.42622548, 0.46617648, 0.5       ],\n",
       "          ...,\n",
       "          [0.81715685, 0.7992647 , 0.77867645],\n",
       "          [0.7767157 , 0.75808823, 0.74338233],\n",
       "          [0.6987745 , 0.6838235 , 0.6718137 ]],\n",
       " \n",
       "         [[0.5009804 , 0.5480392 , 0.5480392 ],\n",
       "          [0.46666667, 0.50980395, 0.5259804 ],\n",
       "          [0.42156863, 0.4617647 , 0.49411765],\n",
       "          ...,\n",
       "          [0.8029412 , 0.7754902 , 0.7519608 ],\n",
       "          [0.8137255 , 0.7921569 , 0.7745098 ],\n",
       "          [0.8215686 , 0.80196077, 0.7862745 ]]],\n",
       " \n",
       " \n",
       "        [[[0.        , 0.        , 0.        ],\n",
       "          [0.        , 0.        , 0.        ],\n",
       "          [0.        , 0.        , 0.        ],\n",
       "          ...,\n",
       "          [0.        , 0.        , 0.        ],\n",
       "          [0.        , 0.        , 0.        ],\n",
       "          [0.        , 0.        , 0.        ]],\n",
       " \n",
       "         [[0.        , 0.        , 0.        ],\n",
       "          [0.        , 0.        , 0.        ],\n",
       "          [0.        , 0.        , 0.        ],\n",
       "          ...,\n",
       "          [0.        , 0.        , 0.        ],\n",
       "          [0.        , 0.        , 0.        ],\n",
       "          [0.        , 0.        , 0.        ]],\n",
       " \n",
       "         [[0.        , 0.        , 0.        ],\n",
       "          [0.        , 0.        , 0.        ],\n",
       "          [0.        , 0.        , 0.        ],\n",
       "          ...,\n",
       "          [0.        , 0.        , 0.        ],\n",
       "          [0.        , 0.        , 0.        ],\n",
       "          [0.        , 0.        , 0.        ]],\n",
       " \n",
       "         ...,\n",
       " \n",
       "         [[0.06053922, 0.04681373, 0.04485294],\n",
       "          [0.06544118, 0.05171569, 0.0497549 ],\n",
       "          [0.06397059, 0.0502451 , 0.04828431],\n",
       "          ...,\n",
       "          [0.        , 0.        , 0.        ],\n",
       "          [0.        , 0.        , 0.        ],\n",
       "          [0.        , 0.        , 0.        ]],\n",
       " \n",
       "         [[0.05563726, 0.04779412, 0.05171569],\n",
       "          [0.05490196, 0.04705882, 0.05098039],\n",
       "          [0.06078431, 0.05294118, 0.05686275],\n",
       "          ...,\n",
       "          [0.        , 0.        , 0.        ],\n",
       "          [0.        , 0.        , 0.        ],\n",
       "          [0.        , 0.        , 0.        ]],\n",
       " \n",
       "         [[0.05980392, 0.05980392, 0.06764706],\n",
       "          [0.05196078, 0.05196078, 0.05980392],\n",
       "          [0.05784314, 0.05196078, 0.05686275],\n",
       "          ...,\n",
       "          [0.        , 0.        , 0.        ],\n",
       "          [0.        , 0.        , 0.        ],\n",
       "          [0.        , 0.        , 0.        ]]],\n",
       " \n",
       " \n",
       "        [[[0.5517157 , 0.49485293, 0.42034313],\n",
       "          [0.6522059 , 0.55196077, 0.4642157 ],\n",
       "          [0.6992647 , 0.5887255 , 0.5056372 ],\n",
       "          ...,\n",
       "          [0.6642157 , 0.61960787, 0.6041667 ],\n",
       "          [0.65686274, 0.58480394, 0.5781863 ],\n",
       "          [0.59411764, 0.5056372 , 0.5142157 ]],\n",
       " \n",
       "         [[0.6987745 , 0.639951  , 0.58480394],\n",
       "          [0.5056372 , 0.42132354, 0.3492647 ],\n",
       "          [0.48455882, 0.38186276, 0.30833334],\n",
       "          ...,\n",
       "          [0.5019608 , 0.43529412, 0.44019607],\n",
       "          [0.6071078 , 0.5112745 , 0.52230394],\n",
       "          [0.4362745 , 0.32156864, 0.33529413]],\n",
       " \n",
       "         [[0.6573529 , 0.60563725, 0.575     ],\n",
       "          [0.44240198, 0.37303922, 0.32843137],\n",
       "          [0.44411764, 0.36764705, 0.30759802],\n",
       "          ...,\n",
       "          [0.5688726 , 0.50808823, 0.50710785],\n",
       "          [0.59338236, 0.5012255 , 0.4987745 ],\n",
       "          [0.5387255 , 0.4269608 , 0.41960785]],\n",
       " \n",
       "         ...,\n",
       " \n",
       "         [[0.7480392 , 0.54019606, 0.38333333],\n",
       "          [0.7438725 , 0.5360294 , 0.37916666],\n",
       "          [0.74607843, 0.5352941 , 0.38431373],\n",
       "          ...,\n",
       "          [0.62058824, 0.3735294 , 0.20318627],\n",
       "          [0.60294116, 0.35      , 0.18504901],\n",
       "          [0.6218137 , 0.36764705, 0.20294118]],\n",
       " \n",
       "         [[0.72083336, 0.5129902 , 0.35612744],\n",
       "          [0.7272059 , 0.51936275, 0.3625    ],\n",
       "          [0.7294118 , 0.51862746, 0.36764705],\n",
       "          ...,\n",
       "          [0.59044117, 0.34044117, 0.18848039],\n",
       "          [0.5830882 , 0.32941177, 0.17818627],\n",
       "          [0.60784316, 0.3529412 , 0.20196079]],\n",
       " \n",
       "         [[0.69215685, 0.48431373, 0.327451  ],\n",
       "          [0.7022059 , 0.49436274, 0.3375    ],\n",
       "          [0.71862745, 0.50784314, 0.35686275],\n",
       "          ...,\n",
       "          [0.5301471 , 0.27916667, 0.13799019],\n",
       "          [0.5681372 , 0.3112745 , 0.17303921],\n",
       "          [0.64411765, 0.3852941 , 0.24803922]]],\n",
       " \n",
       " \n",
       "        ...,\n",
       " \n",
       " \n",
       "        [[[0.6009804 , 0.5382353 , 0.5382353 ],\n",
       "          [0.65906864, 0.59632355, 0.59632355],\n",
       "          [0.6406863 , 0.5779412 , 0.5779412 ],\n",
       "          ...,\n",
       "          [0.6460784 , 0.5754902 , 0.41862744],\n",
       "          [0.65343136, 0.5828431 , 0.4259804 ],\n",
       "          [0.64411765, 0.5735294 , 0.41666666]],\n",
       " \n",
       "         [[0.6357843 , 0.5740196 , 0.5612745 ],\n",
       "          [0.6671569 , 0.60539216, 0.5926471 ],\n",
       "          [0.6245098 , 0.5627451 , 0.55      ],\n",
       "          ...,\n",
       "          [0.654902  , 0.58431375, 0.42745098],\n",
       "          [0.6757353 , 0.60514706, 0.44828433],\n",
       "          [0.68039215, 0.6098039 , 0.45294118]],\n",
       " \n",
       "         [[0.6495098 , 0.5767157 , 0.5507353 ],\n",
       "          [0.69509804, 0.6223039 , 0.59632355],\n",
       "          [0.6120098 , 0.54313725, 0.5178922 ],\n",
       "          ...,\n",
       "          [0.6784314 , 0.60784316, 0.4509804 ],\n",
       "          [0.66887254, 0.5982843 , 0.44142157],\n",
       "          [0.6311275 , 0.5605392 , 0.40367648]],\n",
       " \n",
       "         ...,\n",
       " \n",
       "         [[0.74338233, 0.7512255 , 0.7002451 ],\n",
       "          [0.7235294 , 0.73137254, 0.68039215],\n",
       "          [0.7115196 , 0.71936274, 0.66838235],\n",
       "          ...,\n",
       "          [0.65563726, 0.6036765 , 0.48112744],\n",
       "          [0.6754902 , 0.62941176, 0.51862746],\n",
       "          [0.68014705, 0.63308823, 0.53112745]],\n",
       " \n",
       "         [[0.73406863, 0.74191177, 0.6909314 ],\n",
       "          [0.7       , 0.7078431 , 0.65686274],\n",
       "          [0.6933824 , 0.7012255 , 0.6502451 ],\n",
       "          ...,\n",
       "          [0.6730392 , 0.62107843, 0.4985294 ],\n",
       "          [0.6732843 , 0.6272059 , 0.51642156],\n",
       "          [0.6735294 , 0.62647057, 0.5245098 ]],\n",
       " \n",
       "         [[0.7316176 , 0.73946077, 0.6884804 ],\n",
       "          [0.6911765 , 0.6990196 , 0.6480392 ],\n",
       "          [0.6852941 , 0.6931372 , 0.64215684],\n",
       "          ...,\n",
       "          [0.6872549 , 0.63529414, 0.5127451 ],\n",
       "          [0.66764706, 0.6215686 , 0.5107843 ],\n",
       "          [0.65588236, 0.60882354, 0.50686276]]],\n",
       " \n",
       " \n",
       "        [[[0.7823529 , 0.7862745 , 0.76666665],\n",
       "          [0.78431374, 0.7882353 , 0.76862746],\n",
       "          [0.7872549 , 0.7911765 , 0.77156866],\n",
       "          ...,\n",
       "          [0.81764704, 0.83137256, 0.8254902 ],\n",
       "          [0.827451  , 0.8352941 , 0.8235294 ],\n",
       "          [0.82916665, 0.8370098 , 0.8252451 ]],\n",
       " \n",
       "         [[0.78357846, 0.7914216 , 0.7737745 ],\n",
       "          [0.78186274, 0.7889706 , 0.7713235 ],\n",
       "          [0.7894608 , 0.7943627 , 0.7752451 ],\n",
       "          ...,\n",
       "          [0.81642157, 0.8338235 , 0.8247549 ],\n",
       "          [0.8237745 , 0.83455884, 0.8218137 ],\n",
       "          [0.8276961 , 0.83455884, 0.814951  ]],\n",
       " \n",
       "         [[0.785049  , 0.7987745 , 0.7948529 ],\n",
       "          [0.7867647 , 0.79901963, 0.79313725],\n",
       "          [0.7882353 , 0.79607844, 0.78431374],\n",
       "          ...,\n",
       "          [0.8144608 , 0.8362745 , 0.82058823],\n",
       "          [0.8215686 , 0.83235294, 0.8151961 ],\n",
       "          [0.827451  , 0.83137256, 0.8117647 ]],\n",
       " \n",
       "         ...,\n",
       " \n",
       "         [[0.4997549 , 0.535049  , 0.5625    ],\n",
       "          [0.4762255 , 0.5117647 , 0.5470588 ],\n",
       "          [0.4019608 , 0.4360294 , 0.4764706 ],\n",
       "          ...,\n",
       "          [0.68039215, 0.68014705, 0.6629902 ],\n",
       "          [0.66519606, 0.66495097, 0.654902  ],\n",
       "          [0.66862744, 0.66764706, 0.6598039 ]],\n",
       " \n",
       "         [[0.4995098 , 0.5377451 , 0.5710784 ],\n",
       "          [0.48210785, 0.5205882 , 0.55588233],\n",
       "          [0.40490195, 0.44411764, 0.48235294],\n",
       "          ...,\n",
       "          [0.764951  , 0.7463235 , 0.73284316],\n",
       "          [0.70710784, 0.6884804 , 0.6786765 ],\n",
       "          [0.6816176 , 0.66887254, 0.6580882 ]],\n",
       " \n",
       "         [[0.5090686 , 0.5482843 , 0.5835784 ],\n",
       "          [0.48210785, 0.5213235 , 0.5566176 ],\n",
       "          [0.41004902, 0.45808825, 0.49338236],\n",
       "          ...,\n",
       "          [0.81740195, 0.7884804 , 0.7656863 ],\n",
       "          [0.8041667 , 0.7730392 , 0.76053923],\n",
       "          [0.78063726, 0.7610294 , 0.74534315]]],\n",
       " \n",
       " \n",
       "        [[[0.95735294, 0.9161765 , 0.7897059 ],\n",
       "          [0.9529412 , 0.8901961 , 0.7617647 ],\n",
       "          [0.8718137 , 0.7973039 , 0.67769605],\n",
       "          ...,\n",
       "          [0.6637255 , 0.62058824, 0.5029412 ],\n",
       "          [0.65710783, 0.6139706 , 0.49632353],\n",
       "          [0.64117646, 0.5980392 , 0.48039216]],\n",
       " \n",
       "         [[0.95980394, 0.91813725, 0.7919118 ],\n",
       "          [0.93578434, 0.8730392 , 0.74607843],\n",
       "          [0.93897057, 0.86446077, 0.7389706 ],\n",
       "          ...,\n",
       "          [0.6634804 , 0.62034315, 0.5026961 ],\n",
       "          [0.660049  , 0.61691177, 0.49926472],\n",
       "          [0.6519608 , 0.60882354, 0.49117646]],\n",
       " \n",
       "         [[0.94289213, 0.9012255 , 0.78088236],\n",
       "          [0.9252451 , 0.8625    , 0.7414216 ],\n",
       "          [0.9394608 , 0.86495095, 0.7409314 ],\n",
       "          ...,\n",
       "          [0.6791667 , 0.6272059 , 0.5125    ],\n",
       "          [0.6735294 , 0.6215686 , 0.50686276],\n",
       "          [0.66862744, 0.6166667 , 0.5019608 ]],\n",
       " \n",
       "         ...,\n",
       " \n",
       "         [[0.65637255, 0.6551471 , 0.50465685],\n",
       "          [0.7115196 , 0.69779414, 0.5713235 ],\n",
       "          [0.7377451 , 0.7151961 , 0.60882354],\n",
       "          ...,\n",
       "          [0.1879902 , 0.21936275, 0.26838234],\n",
       "          [0.18872549, 0.22009803, 0.26911765],\n",
       "          [0.20490196, 0.23627451, 0.28529412]],\n",
       " \n",
       "         [[0.7392157 , 0.7176471 , 0.5754902 ],\n",
       "          [0.785049  , 0.7617647 , 0.639951  ],\n",
       "          [0.80588233, 0.77181375, 0.6605392 ],\n",
       "          ...,\n",
       "          [0.17377451, 0.1992647 , 0.24534313],\n",
       "          [0.18186274, 0.20735294, 0.25343138],\n",
       "          [0.27622548, 0.30171567, 0.34779412]],\n",
       " \n",
       "         [[0.6816176 , 0.6580882 , 0.5247549 ],\n",
       "          [0.7056373 , 0.67034316, 0.5507353 ],\n",
       "          [0.7235294 , 0.68235296, 0.57009804],\n",
       "          ...,\n",
       "          [0.17083333, 0.19436274, 0.24142157],\n",
       "          [0.21740197, 0.24093138, 0.28799018],\n",
       "          [0.32769608, 0.3512255 , 0.39828432]]]], dtype=float32),\n",
       " array([1., 0., 0., 1., 0., 0., 0., 1., 0., 1., 1., 1., 1., 0., 1., 0.],\n",
       "       dtype=float32))"
      ]
     },
     "execution_count": 55,
     "metadata": {},
     "output_type": "execute_result"
    }
   ],
   "source": [
    "batch_1 = test_batch.next()\n",
    "batch_1"
   ]
  },
  {
   "cell_type": "code",
   "execution_count": 56,
   "metadata": {},
   "outputs": [
    {
     "data": {
      "text/plain": [
       "2"
      ]
     },
     "execution_count": 56,
     "metadata": {},
     "output_type": "execute_result"
    }
   ],
   "source": [
    "# think of this as a features\n",
    "x = batch_1[:2]\n",
    "len(x)"
   ]
  },
  {
   "cell_type": "code",
   "execution_count": 57,
   "metadata": {},
   "outputs": [
    {
     "data": {
      "text/plain": [
       "(2, 16, 100, 100, 3)"
      ]
     },
     "execution_count": 57,
     "metadata": {},
     "output_type": "execute_result"
    }
   ],
   "source": [
    "# no. of components (anchor,positive/negative), batch size, shape (100x100x3)\n",
    "np.array(x).shape"
   ]
  },
  {
   "cell_type": "code",
   "execution_count": 58,
   "metadata": {},
   "outputs": [
    {
     "data": {
      "text/plain": [
       "array([1., 0., 0., 1., 0., 0., 0., 1., 0., 1., 1., 1., 1., 0., 1., 0.],\n",
       "      dtype=float32)"
      ]
     },
     "execution_count": 58,
     "metadata": {},
     "output_type": "execute_result"
    }
   ],
   "source": [
    "# just label\n",
    "y = batch_1[2]\n",
    "y"
   ]
  },
  {
   "cell_type": "markdown",
   "metadata": {},
   "source": [
    "## 5.4 Build Training Loop"
   ]
  },
  {
   "cell_type": "markdown",
   "metadata": {},
   "source": [
    "apply train step on every epoch, entire data set oof epoches "
   ]
  },
  {
   "cell_type": "code",
   "execution_count": 58,
   "metadata": {},
   "outputs": [],
   "source": [
    "def trian(data, EPOCHS):\n",
    "    # Loop through epochs\n",
    "    for epoch in range(1, EPOCHS+1):\n",
    "        # print what epoch we up to\n",
    "        print('\\n Epoch {}/{}'.format(epoch, EPOCHS))\n",
    "        # show the prograce bar, if we rape this in a model we would not do it explicitly\n",
    "        progbar = tf.keras.utils.Progbar(len(data))\n",
    "\n",
    "        # Loop through each batch\n",
    "        # idx: counter, batch: actual batch\n",
    "        for idx, batch in enumerate(data):\n",
    "            # Run train step here\n",
    "            train_step(batch)\n",
    "            progbar.update(idx+1)\n",
    "\n",
    "        # Save checkpoint\n",
    "        if epoch % 10 == 0:\n",
    "            checkpoint.save(file_prefix=checkpoints_prefix)"
   ]
  },
  {
   "cell_type": "markdown",
   "metadata": {},
   "source": [
    "## 5.5 Kickoff Trianing"
   ]
  },
  {
   "cell_type": "code",
   "execution_count": 55,
   "metadata": {},
   "outputs": [],
   "source": [
    "EPOCHS = 50"
   ]
  },
  {
   "cell_type": "code",
   "execution_count": 59,
   "metadata": {},
   "outputs": [
    {
     "name": "stdout",
     "output_type": "stream",
     "text": [
      "\n",
      " Epoch 1/50\n",
      "Tensor(\"binary_crossentropy/weighted_loss/value:0\", shape=(), dtype=float32)\n",
      "Tensor(\"binary_crossentropy/weighted_loss/value:0\", shape=(), dtype=float32)\n",
      " 6/27 [=====>........................] - ETA: 5:29"
     ]
    }
   ],
   "source": [
    "trian(train_data,EPOCHS)"
   ]
  },
  {
   "cell_type": "markdown",
   "metadata": {},
   "source": [
    "We need something called  eager execution to print the loss"
   ]
  }
 ],
 "metadata": {
  "accelerator": "GPU",
  "colab": {
   "collapsed_sections": [],
   "provenance": []
  },
  "kernelspec": {
   "display_name": "Python 3.8.10 64-bit",
   "language": "python",
   "name": "python3"
  },
  "language_info": {
   "codemirror_mode": {
    "name": "ipython",
    "version": 3
   },
   "file_extension": ".py",
   "mimetype": "text/x-python",
   "name": "python",
   "nbconvert_exporter": "python",
   "pygments_lexer": "ipython3",
   "version": "3.8.10"
  },
  "vscode": {
   "interpreter": {
    "hash": "25a19fbe0a9132dfb9279d48d161753c6352f8f9478c2e74383d340069b907c3"
   }
  }
 },
 "nbformat": 4,
 "nbformat_minor": 1
}
